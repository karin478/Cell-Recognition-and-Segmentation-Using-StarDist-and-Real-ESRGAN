{
  "nbformat": 4,
  "nbformat_minor": 0,
  "metadata": {
    "colab": {
      "provenance": [],
      "gpuType": "T4"
    },
    "kernelspec": {
      "name": "python3",
      "display_name": "Python 3"
    },
    "language_info": {
      "name": "python"
    },
    "accelerator": "GPU"
  },
  "cells": [
    {
      "cell_type": "code",
      "execution_count": 1,
      "metadata": {
        "colab": {
          "base_uri": "https://localhost:8080/"
        },
        "id": "gALyLcH4hU7Q",
        "outputId": "71afbe14-3bec-4c44-b1f5-8e859427b642"
      },
      "outputs": [
        {
          "output_type": "stream",
          "name": "stdout",
          "text": [
            "Mounted at /content/drive\n",
            "Collecting stardist\n",
            "  Downloading stardist-0.9.1-cp310-cp310-manylinux_2_17_x86_64.manylinux2014_x86_64.whl (3.1 MB)\n",
            "\u001b[2K     \u001b[90m━━━━━━━━━━━━━━━━━━━━━━━━━━━━━━━━━━━━━━━━\u001b[0m \u001b[32m3.1/3.1 MB\u001b[0m \u001b[31m21.7 MB/s\u001b[0m eta \u001b[36m0:00:00\u001b[0m\n",
            "\u001b[?25hCollecting csbdeep\n",
            "  Downloading csbdeep-0.8.0-py2.py3-none-any.whl (71 kB)\n",
            "\u001b[2K     \u001b[90m━━━━━━━━━━━━━━━━━━━━━━━━━━━━━━━━━━━━━━━━\u001b[0m \u001b[32m71.3/71.3 kB\u001b[0m \u001b[31m12.2 MB/s\u001b[0m eta \u001b[36m0:00:00\u001b[0m\n",
            "\u001b[?25hRequirement already satisfied: tensorflow in /usr/local/lib/python3.10/dist-packages (2.15.0)\n",
            "Requirement already satisfied: tifffile in /usr/local/lib/python3.10/dist-packages (2024.5.10)\n",
            "Collecting imagecodecs\n",
            "  Downloading imagecodecs-2024.1.1-cp310-cp310-manylinux_2_17_x86_64.manylinux2014_x86_64.whl (39.6 MB)\n",
            "\u001b[2K     \u001b[90m━━━━━━━━━━━━━━━━━━━━━━━━━━━━━━━━━━━━━━━━\u001b[0m \u001b[32m39.6/39.6 MB\u001b[0m \u001b[31m22.6 MB/s\u001b[0m eta \u001b[36m0:00:00\u001b[0m\n",
            "\u001b[?25hCollecting reportlab\n",
            "  Downloading reportlab-4.2.0-py3-none-any.whl (1.9 MB)\n",
            "\u001b[2K     \u001b[90m━━━━━━━━━━━━━━━━━━━━━━━━━━━━━━━━━━━━━━━━\u001b[0m \u001b[32m1.9/1.9 MB\u001b[0m \u001b[31m94.7 MB/s\u001b[0m eta \u001b[36m0:00:00\u001b[0m\n",
            "\u001b[?25hRequirement already satisfied: scikit-image in /usr/local/lib/python3.10/dist-packages (from stardist) (0.19.3)\n",
            "Requirement already satisfied: numba in /usr/local/lib/python3.10/dist-packages (from stardist) (0.58.1)\n",
            "Requirement already satisfied: imageio in /usr/local/lib/python3.10/dist-packages (from stardist) (2.31.6)\n",
            "Requirement already satisfied: numpy in /usr/local/lib/python3.10/dist-packages (from csbdeep) (1.25.2)\n",
            "Requirement already satisfied: scipy in /usr/local/lib/python3.10/dist-packages (from csbdeep) (1.11.4)\n",
            "Requirement already satisfied: matplotlib in /usr/local/lib/python3.10/dist-packages (from csbdeep) (3.7.1)\n",
            "Requirement already satisfied: six in /usr/local/lib/python3.10/dist-packages (from csbdeep) (1.16.0)\n",
            "Requirement already satisfied: tqdm in /usr/local/lib/python3.10/dist-packages (from csbdeep) (4.66.4)\n",
            "Requirement already satisfied: packaging in /usr/local/lib/python3.10/dist-packages (from csbdeep) (24.0)\n",
            "Requirement already satisfied: absl-py>=1.0.0 in /usr/local/lib/python3.10/dist-packages (from tensorflow) (1.4.0)\n",
            "Requirement already satisfied: astunparse>=1.6.0 in /usr/local/lib/python3.10/dist-packages (from tensorflow) (1.6.3)\n",
            "Requirement already satisfied: flatbuffers>=23.5.26 in /usr/local/lib/python3.10/dist-packages (from tensorflow) (24.3.25)\n",
            "Requirement already satisfied: gast!=0.5.0,!=0.5.1,!=0.5.2,>=0.2.1 in /usr/local/lib/python3.10/dist-packages (from tensorflow) (0.5.4)\n",
            "Requirement already satisfied: google-pasta>=0.1.1 in /usr/local/lib/python3.10/dist-packages (from tensorflow) (0.2.0)\n",
            "Requirement already satisfied: h5py>=2.9.0 in /usr/local/lib/python3.10/dist-packages (from tensorflow) (3.9.0)\n",
            "Requirement already satisfied: libclang>=13.0.0 in /usr/local/lib/python3.10/dist-packages (from tensorflow) (18.1.1)\n",
            "Requirement already satisfied: ml-dtypes~=0.2.0 in /usr/local/lib/python3.10/dist-packages (from tensorflow) (0.2.0)\n",
            "Requirement already satisfied: opt-einsum>=2.3.2 in /usr/local/lib/python3.10/dist-packages (from tensorflow) (3.3.0)\n",
            "Requirement already satisfied: protobuf!=4.21.0,!=4.21.1,!=4.21.2,!=4.21.3,!=4.21.4,!=4.21.5,<5.0.0dev,>=3.20.3 in /usr/local/lib/python3.10/dist-packages (from tensorflow) (3.20.3)\n",
            "Requirement already satisfied: setuptools in /usr/local/lib/python3.10/dist-packages (from tensorflow) (67.7.2)\n",
            "Requirement already satisfied: termcolor>=1.1.0 in /usr/local/lib/python3.10/dist-packages (from tensorflow) (2.4.0)\n",
            "Requirement already satisfied: typing-extensions>=3.6.6 in /usr/local/lib/python3.10/dist-packages (from tensorflow) (4.11.0)\n",
            "Requirement already satisfied: wrapt<1.15,>=1.11.0 in /usr/local/lib/python3.10/dist-packages (from tensorflow) (1.14.1)\n",
            "Requirement already satisfied: tensorflow-io-gcs-filesystem>=0.23.1 in /usr/local/lib/python3.10/dist-packages (from tensorflow) (0.37.0)\n",
            "Requirement already satisfied: grpcio<2.0,>=1.24.3 in /usr/local/lib/python3.10/dist-packages (from tensorflow) (1.64.0)\n",
            "Requirement already satisfied: tensorboard<2.16,>=2.15 in /usr/local/lib/python3.10/dist-packages (from tensorflow) (2.15.2)\n",
            "Requirement already satisfied: tensorflow-estimator<2.16,>=2.15.0 in /usr/local/lib/python3.10/dist-packages (from tensorflow) (2.15.0)\n",
            "Requirement already satisfied: keras<2.16,>=2.15.0 in /usr/local/lib/python3.10/dist-packages (from tensorflow) (2.15.0)\n",
            "Requirement already satisfied: pillow>=9.0.0 in /usr/local/lib/python3.10/dist-packages (from reportlab) (9.4.0)\n",
            "Requirement already satisfied: chardet in /usr/local/lib/python3.10/dist-packages (from reportlab) (5.2.0)\n",
            "Requirement already satisfied: wheel<1.0,>=0.23.0 in /usr/local/lib/python3.10/dist-packages (from astunparse>=1.6.0->tensorflow) (0.43.0)\n",
            "Requirement already satisfied: google-auth<3,>=1.6.3 in /usr/local/lib/python3.10/dist-packages (from tensorboard<2.16,>=2.15->tensorflow) (2.27.0)\n",
            "Requirement already satisfied: google-auth-oauthlib<2,>=0.5 in /usr/local/lib/python3.10/dist-packages (from tensorboard<2.16,>=2.15->tensorflow) (1.2.0)\n",
            "Requirement already satisfied: markdown>=2.6.8 in /usr/local/lib/python3.10/dist-packages (from tensorboard<2.16,>=2.15->tensorflow) (3.6)\n",
            "Requirement already satisfied: requests<3,>=2.21.0 in /usr/local/lib/python3.10/dist-packages (from tensorboard<2.16,>=2.15->tensorflow) (2.31.0)\n",
            "Requirement already satisfied: tensorboard-data-server<0.8.0,>=0.7.0 in /usr/local/lib/python3.10/dist-packages (from tensorboard<2.16,>=2.15->tensorflow) (0.7.2)\n",
            "Requirement already satisfied: werkzeug>=1.0.1 in /usr/local/lib/python3.10/dist-packages (from tensorboard<2.16,>=2.15->tensorflow) (3.0.3)\n",
            "Requirement already satisfied: contourpy>=1.0.1 in /usr/local/lib/python3.10/dist-packages (from matplotlib->csbdeep) (1.2.1)\n",
            "Requirement already satisfied: cycler>=0.10 in /usr/local/lib/python3.10/dist-packages (from matplotlib->csbdeep) (0.12.1)\n",
            "Requirement already satisfied: fonttools>=4.22.0 in /usr/local/lib/python3.10/dist-packages (from matplotlib->csbdeep) (4.51.0)\n",
            "Requirement already satisfied: kiwisolver>=1.0.1 in /usr/local/lib/python3.10/dist-packages (from matplotlib->csbdeep) (1.4.5)\n",
            "Requirement already satisfied: pyparsing>=2.3.1 in /usr/local/lib/python3.10/dist-packages (from matplotlib->csbdeep) (3.1.2)\n",
            "Requirement already satisfied: python-dateutil>=2.7 in /usr/local/lib/python3.10/dist-packages (from matplotlib->csbdeep) (2.8.2)\n",
            "Requirement already satisfied: llvmlite<0.42,>=0.41.0dev0 in /usr/local/lib/python3.10/dist-packages (from numba->stardist) (0.41.1)\n",
            "Requirement already satisfied: networkx>=2.2 in /usr/local/lib/python3.10/dist-packages (from scikit-image->stardist) (3.3)\n",
            "Requirement already satisfied: PyWavelets>=1.1.1 in /usr/local/lib/python3.10/dist-packages (from scikit-image->stardist) (1.6.0)\n",
            "Requirement already satisfied: cachetools<6.0,>=2.0.0 in /usr/local/lib/python3.10/dist-packages (from google-auth<3,>=1.6.3->tensorboard<2.16,>=2.15->tensorflow) (5.3.3)\n",
            "Requirement already satisfied: pyasn1-modules>=0.2.1 in /usr/local/lib/python3.10/dist-packages (from google-auth<3,>=1.6.3->tensorboard<2.16,>=2.15->tensorflow) (0.4.0)\n",
            "Requirement already satisfied: rsa<5,>=3.1.4 in /usr/local/lib/python3.10/dist-packages (from google-auth<3,>=1.6.3->tensorboard<2.16,>=2.15->tensorflow) (4.9)\n",
            "Requirement already satisfied: requests-oauthlib>=0.7.0 in /usr/local/lib/python3.10/dist-packages (from google-auth-oauthlib<2,>=0.5->tensorboard<2.16,>=2.15->tensorflow) (1.3.1)\n",
            "Requirement already satisfied: charset-normalizer<4,>=2 in /usr/local/lib/python3.10/dist-packages (from requests<3,>=2.21.0->tensorboard<2.16,>=2.15->tensorflow) (3.3.2)\n",
            "Requirement already satisfied: idna<4,>=2.5 in /usr/local/lib/python3.10/dist-packages (from requests<3,>=2.21.0->tensorboard<2.16,>=2.15->tensorflow) (3.7)\n",
            "Requirement already satisfied: urllib3<3,>=1.21.1 in /usr/local/lib/python3.10/dist-packages (from requests<3,>=2.21.0->tensorboard<2.16,>=2.15->tensorflow) (2.0.7)\n",
            "Requirement already satisfied: certifi>=2017.4.17 in /usr/local/lib/python3.10/dist-packages (from requests<3,>=2.21.0->tensorboard<2.16,>=2.15->tensorflow) (2024.2.2)\n",
            "Requirement already satisfied: MarkupSafe>=2.1.1 in /usr/local/lib/python3.10/dist-packages (from werkzeug>=1.0.1->tensorboard<2.16,>=2.15->tensorflow) (2.1.5)\n",
            "Requirement already satisfied: pyasn1<0.7.0,>=0.4.6 in /usr/local/lib/python3.10/dist-packages (from pyasn1-modules>=0.2.1->google-auth<3,>=1.6.3->tensorboard<2.16,>=2.15->tensorflow) (0.6.0)\n",
            "Requirement already satisfied: oauthlib>=3.0.0 in /usr/local/lib/python3.10/dist-packages (from requests-oauthlib>=0.7.0->google-auth-oauthlib<2,>=0.5->tensorboard<2.16,>=2.15->tensorflow) (3.2.2)\n",
            "Installing collected packages: reportlab, imagecodecs, csbdeep, stardist\n",
            "Successfully installed csbdeep-0.8.0 imagecodecs-2024.1.1 reportlab-4.2.0 stardist-0.9.1\n",
            "Cloning into 'Real-ESRGAN'...\n",
            "remote: Enumerating objects: 759, done.\u001b[K\n",
            "remote: Counting objects: 100% (4/4), done.\u001b[K\n",
            "remote: Compressing objects: 100% (3/3), done.\u001b[K\n",
            "remote: Total 759 (delta 0), reused 2 (delta 0), pack-reused 755\u001b[K\n",
            "Receiving objects: 100% (759/759), 5.39 MiB | 3.66 MiB/s, done.\n",
            "Resolving deltas: 100% (406/406), done.\n",
            "/content/Real-ESRGAN\n",
            "Collecting basicsr\n",
            "  Downloading basicsr-1.4.2.tar.gz (172 kB)\n",
            "\u001b[2K     \u001b[90m━━━━━━━━━━━━━━━━━━━━━━━━━━━━━━━━━━━━━━━━\u001b[0m \u001b[32m172.5/172.5 kB\u001b[0m \u001b[31m5.7 MB/s\u001b[0m eta \u001b[36m0:00:00\u001b[0m\n",
            "\u001b[?25h  Preparing metadata (setup.py) ... \u001b[?25l\u001b[?25hdone\n",
            "Collecting addict (from basicsr)\n",
            "  Downloading addict-2.4.0-py3-none-any.whl (3.8 kB)\n",
            "Requirement already satisfied: future in /usr/local/lib/python3.10/dist-packages (from basicsr) (0.18.3)\n",
            "Collecting lmdb (from basicsr)\n",
            "  Downloading lmdb-1.4.1-cp310-cp310-manylinux_2_17_x86_64.manylinux2014_x86_64.whl (299 kB)\n",
            "\u001b[2K     \u001b[90m━━━━━━━━━━━━━━━━━━━━━━━━━━━━━━━━━━━━━━━━\u001b[0m \u001b[32m299.2/299.2 kB\u001b[0m \u001b[31m32.7 MB/s\u001b[0m eta \u001b[36m0:00:00\u001b[0m\n",
            "\u001b[?25hRequirement already satisfied: numpy>=1.17 in /usr/local/lib/python3.10/dist-packages (from basicsr) (1.25.2)\n",
            "Requirement already satisfied: opencv-python in /usr/local/lib/python3.10/dist-packages (from basicsr) (4.8.0.76)\n",
            "Requirement already satisfied: Pillow in /usr/local/lib/python3.10/dist-packages (from basicsr) (9.4.0)\n",
            "Requirement already satisfied: pyyaml in /usr/local/lib/python3.10/dist-packages (from basicsr) (6.0.1)\n",
            "Requirement already satisfied: requests in /usr/local/lib/python3.10/dist-packages (from basicsr) (2.31.0)\n",
            "Requirement already satisfied: scikit-image in /usr/local/lib/python3.10/dist-packages (from basicsr) (0.19.3)\n",
            "Requirement already satisfied: scipy in /usr/local/lib/python3.10/dist-packages (from basicsr) (1.11.4)\n",
            "Collecting tb-nightly (from basicsr)\n",
            "  Downloading tb_nightly-2.17.0a20240527-py3-none-any.whl (5.5 MB)\n",
            "\u001b[2K     \u001b[90m━━━━━━━━━━━━━━━━━━━━━━━━━━━━━━━━━━━━━━━━\u001b[0m \u001b[32m5.5/5.5 MB\u001b[0m \u001b[31m93.9 MB/s\u001b[0m eta \u001b[36m0:00:00\u001b[0m\n",
            "\u001b[?25hRequirement already satisfied: torch>=1.7 in /usr/local/lib/python3.10/dist-packages (from basicsr) (2.3.0+cu121)\n",
            "Requirement already satisfied: torchvision in /usr/local/lib/python3.10/dist-packages (from basicsr) (0.18.0+cu121)\n",
            "Requirement already satisfied: tqdm in /usr/local/lib/python3.10/dist-packages (from basicsr) (4.66.4)\n",
            "Collecting yapf (from basicsr)\n",
            "  Downloading yapf-0.40.2-py3-none-any.whl (254 kB)\n",
            "\u001b[2K     \u001b[90m━━━━━━━━━━━━━━━━━━━━━━━━━━━━━━━━━━━━━━━━\u001b[0m \u001b[32m254.7/254.7 kB\u001b[0m \u001b[31m34.2 MB/s\u001b[0m eta \u001b[36m0:00:00\u001b[0m\n",
            "\u001b[?25hRequirement already satisfied: filelock in /usr/local/lib/python3.10/dist-packages (from torch>=1.7->basicsr) (3.14.0)\n",
            "Requirement already satisfied: typing-extensions>=4.8.0 in /usr/local/lib/python3.10/dist-packages (from torch>=1.7->basicsr) (4.11.0)\n",
            "Requirement already satisfied: sympy in /usr/local/lib/python3.10/dist-packages (from torch>=1.7->basicsr) (1.12)\n",
            "Requirement already satisfied: networkx in /usr/local/lib/python3.10/dist-packages (from torch>=1.7->basicsr) (3.3)\n",
            "Requirement already satisfied: jinja2 in /usr/local/lib/python3.10/dist-packages (from torch>=1.7->basicsr) (3.1.4)\n",
            "Requirement already satisfied: fsspec in /usr/local/lib/python3.10/dist-packages (from torch>=1.7->basicsr) (2023.6.0)\n",
            "Collecting nvidia-cuda-nvrtc-cu12==12.1.105 (from torch>=1.7->basicsr)\n",
            "  Using cached nvidia_cuda_nvrtc_cu12-12.1.105-py3-none-manylinux1_x86_64.whl (23.7 MB)\n",
            "Collecting nvidia-cuda-runtime-cu12==12.1.105 (from torch>=1.7->basicsr)\n",
            "  Using cached nvidia_cuda_runtime_cu12-12.1.105-py3-none-manylinux1_x86_64.whl (823 kB)\n",
            "Collecting nvidia-cuda-cupti-cu12==12.1.105 (from torch>=1.7->basicsr)\n",
            "  Using cached nvidia_cuda_cupti_cu12-12.1.105-py3-none-manylinux1_x86_64.whl (14.1 MB)\n",
            "Collecting nvidia-cudnn-cu12==8.9.2.26 (from torch>=1.7->basicsr)\n",
            "  Using cached nvidia_cudnn_cu12-8.9.2.26-py3-none-manylinux1_x86_64.whl (731.7 MB)\n",
            "Collecting nvidia-cublas-cu12==12.1.3.1 (from torch>=1.7->basicsr)\n",
            "  Using cached nvidia_cublas_cu12-12.1.3.1-py3-none-manylinux1_x86_64.whl (410.6 MB)\n",
            "Collecting nvidia-cufft-cu12==11.0.2.54 (from torch>=1.7->basicsr)\n",
            "  Using cached nvidia_cufft_cu12-11.0.2.54-py3-none-manylinux1_x86_64.whl (121.6 MB)\n",
            "Collecting nvidia-curand-cu12==10.3.2.106 (from torch>=1.7->basicsr)\n",
            "  Using cached nvidia_curand_cu12-10.3.2.106-py3-none-manylinux1_x86_64.whl (56.5 MB)\n",
            "Collecting nvidia-cusolver-cu12==11.4.5.107 (from torch>=1.7->basicsr)\n",
            "  Using cached nvidia_cusolver_cu12-11.4.5.107-py3-none-manylinux1_x86_64.whl (124.2 MB)\n",
            "Collecting nvidia-cusparse-cu12==12.1.0.106 (from torch>=1.7->basicsr)\n",
            "  Using cached nvidia_cusparse_cu12-12.1.0.106-py3-none-manylinux1_x86_64.whl (196.0 MB)\n",
            "Collecting nvidia-nccl-cu12==2.20.5 (from torch>=1.7->basicsr)\n",
            "  Using cached nvidia_nccl_cu12-2.20.5-py3-none-manylinux2014_x86_64.whl (176.2 MB)\n",
            "Collecting nvidia-nvtx-cu12==12.1.105 (from torch>=1.7->basicsr)\n",
            "  Using cached nvidia_nvtx_cu12-12.1.105-py3-none-manylinux1_x86_64.whl (99 kB)\n",
            "Requirement already satisfied: triton==2.3.0 in /usr/local/lib/python3.10/dist-packages (from torch>=1.7->basicsr) (2.3.0)\n",
            "Collecting nvidia-nvjitlink-cu12 (from nvidia-cusolver-cu12==11.4.5.107->torch>=1.7->basicsr)\n",
            "  Using cached nvidia_nvjitlink_cu12-12.5.40-py3-none-manylinux2014_x86_64.whl (21.3 MB)\n",
            "Requirement already satisfied: charset-normalizer<4,>=2 in /usr/local/lib/python3.10/dist-packages (from requests->basicsr) (3.3.2)\n",
            "Requirement already satisfied: idna<4,>=2.5 in /usr/local/lib/python3.10/dist-packages (from requests->basicsr) (3.7)\n",
            "Requirement already satisfied: urllib3<3,>=1.21.1 in /usr/local/lib/python3.10/dist-packages (from requests->basicsr) (2.0.7)\n",
            "Requirement already satisfied: certifi>=2017.4.17 in /usr/local/lib/python3.10/dist-packages (from requests->basicsr) (2024.2.2)\n",
            "Requirement already satisfied: imageio>=2.4.1 in /usr/local/lib/python3.10/dist-packages (from scikit-image->basicsr) (2.31.6)\n",
            "Requirement already satisfied: tifffile>=2019.7.26 in /usr/local/lib/python3.10/dist-packages (from scikit-image->basicsr) (2024.5.10)\n",
            "Requirement already satisfied: PyWavelets>=1.1.1 in /usr/local/lib/python3.10/dist-packages (from scikit-image->basicsr) (1.6.0)\n",
            "Requirement already satisfied: packaging>=20.0 in /usr/local/lib/python3.10/dist-packages (from scikit-image->basicsr) (24.0)\n",
            "Requirement already satisfied: absl-py>=0.4 in /usr/local/lib/python3.10/dist-packages (from tb-nightly->basicsr) (1.4.0)\n",
            "Requirement already satisfied: grpcio>=1.48.2 in /usr/local/lib/python3.10/dist-packages (from tb-nightly->basicsr) (1.64.0)\n",
            "Requirement already satisfied: markdown>=2.6.8 in /usr/local/lib/python3.10/dist-packages (from tb-nightly->basicsr) (3.6)\n",
            "Requirement already satisfied: protobuf!=4.24.0,<5.0.0,>=3.19.6 in /usr/local/lib/python3.10/dist-packages (from tb-nightly->basicsr) (3.20.3)\n",
            "Requirement already satisfied: setuptools>=41.0.0 in /usr/local/lib/python3.10/dist-packages (from tb-nightly->basicsr) (67.7.2)\n",
            "Requirement already satisfied: six>1.9 in /usr/local/lib/python3.10/dist-packages (from tb-nightly->basicsr) (1.16.0)\n",
            "Requirement already satisfied: tensorboard-data-server<0.8.0,>=0.7.0 in /usr/local/lib/python3.10/dist-packages (from tb-nightly->basicsr) (0.7.2)\n",
            "Requirement already satisfied: werkzeug>=1.0.1 in /usr/local/lib/python3.10/dist-packages (from tb-nightly->basicsr) (3.0.3)\n",
            "Requirement already satisfied: importlib-metadata>=6.6.0 in /usr/local/lib/python3.10/dist-packages (from yapf->basicsr) (7.1.0)\n",
            "Requirement already satisfied: platformdirs>=3.5.1 in /usr/local/lib/python3.10/dist-packages (from yapf->basicsr) (4.2.2)\n",
            "Requirement already satisfied: tomli>=2.0.1 in /usr/local/lib/python3.10/dist-packages (from yapf->basicsr) (2.0.1)\n",
            "Requirement already satisfied: zipp>=0.5 in /usr/local/lib/python3.10/dist-packages (from importlib-metadata>=6.6.0->yapf->basicsr) (3.18.2)\n",
            "Requirement already satisfied: MarkupSafe>=2.1.1 in /usr/local/lib/python3.10/dist-packages (from werkzeug>=1.0.1->tb-nightly->basicsr) (2.1.5)\n",
            "Requirement already satisfied: mpmath>=0.19 in /usr/local/lib/python3.10/dist-packages (from sympy->torch>=1.7->basicsr) (1.3.0)\n",
            "Building wheels for collected packages: basicsr\n",
            "  Building wheel for basicsr (setup.py) ... \u001b[?25l\u001b[?25hdone\n",
            "  Created wheel for basicsr: filename=basicsr-1.4.2-py3-none-any.whl size=214818 sha256=9fe96224280f6e0e33a6ed2466d5772bc3bbb8363c69a3d69c4b70e0ec782209\n",
            "  Stored in directory: /root/.cache/pip/wheels/38/83/99/2d8437cc652a01af27df5ff037a4075e95b52d67705c5f30ca\n",
            "Successfully built basicsr\n",
            "Installing collected packages: lmdb, addict, nvidia-nvtx-cu12, nvidia-nvjitlink-cu12, nvidia-nccl-cu12, nvidia-curand-cu12, nvidia-cufft-cu12, nvidia-cuda-runtime-cu12, nvidia-cuda-nvrtc-cu12, nvidia-cuda-cupti-cu12, nvidia-cublas-cu12, yapf, tb-nightly, nvidia-cusparse-cu12, nvidia-cudnn-cu12, nvidia-cusolver-cu12, basicsr\n",
            "Successfully installed addict-2.4.0 basicsr-1.4.2 lmdb-1.4.1 nvidia-cublas-cu12-12.1.3.1 nvidia-cuda-cupti-cu12-12.1.105 nvidia-cuda-nvrtc-cu12-12.1.105 nvidia-cuda-runtime-cu12-12.1.105 nvidia-cudnn-cu12-8.9.2.26 nvidia-cufft-cu12-11.0.2.54 nvidia-curand-cu12-10.3.2.106 nvidia-cusolver-cu12-11.4.5.107 nvidia-cusparse-cu12-12.1.0.106 nvidia-nccl-cu12-2.20.5 nvidia-nvjitlink-cu12-12.5.40 nvidia-nvtx-cu12-12.1.105 tb-nightly-2.17.0a20240527 yapf-0.40.2\n",
            "Collecting facexlib\n",
            "  Downloading facexlib-0.3.0-py3-none-any.whl (59 kB)\n",
            "\u001b[2K     \u001b[90m━━━━━━━━━━━━━━━━━━━━━━━━━━━━━━━━━━━━━━━━\u001b[0m \u001b[32m59.6/59.6 kB\u001b[0m \u001b[31m2.3 MB/s\u001b[0m eta \u001b[36m0:00:00\u001b[0m\n",
            "\u001b[?25hCollecting filterpy (from facexlib)\n",
            "  Downloading filterpy-1.4.5.zip (177 kB)\n",
            "\u001b[2K     \u001b[90m━━━━━━━━━━━━━━━━━━━━━━━━━━━━━━━━━━━━━━━━\u001b[0m \u001b[32m178.0/178.0 kB\u001b[0m \u001b[31m8.1 MB/s\u001b[0m eta \u001b[36m0:00:00\u001b[0m\n",
            "\u001b[?25h  Preparing metadata (setup.py) ... \u001b[?25l\u001b[?25hdone\n",
            "Requirement already satisfied: numba in /usr/local/lib/python3.10/dist-packages (from facexlib) (0.58.1)\n",
            "Requirement already satisfied: numpy in /usr/local/lib/python3.10/dist-packages (from facexlib) (1.25.2)\n",
            "Requirement already satisfied: opencv-python in /usr/local/lib/python3.10/dist-packages (from facexlib) (4.8.0.76)\n",
            "Requirement already satisfied: Pillow in /usr/local/lib/python3.10/dist-packages (from facexlib) (9.4.0)\n",
            "Requirement already satisfied: scipy in /usr/local/lib/python3.10/dist-packages (from facexlib) (1.11.4)\n",
            "Requirement already satisfied: torch in /usr/local/lib/python3.10/dist-packages (from facexlib) (2.3.0+cu121)\n",
            "Requirement already satisfied: torchvision in /usr/local/lib/python3.10/dist-packages (from facexlib) (0.18.0+cu121)\n",
            "Requirement already satisfied: tqdm in /usr/local/lib/python3.10/dist-packages (from facexlib) (4.66.4)\n",
            "Requirement already satisfied: matplotlib in /usr/local/lib/python3.10/dist-packages (from filterpy->facexlib) (3.7.1)\n",
            "Requirement already satisfied: llvmlite<0.42,>=0.41.0dev0 in /usr/local/lib/python3.10/dist-packages (from numba->facexlib) (0.41.1)\n",
            "Requirement already satisfied: filelock in /usr/local/lib/python3.10/dist-packages (from torch->facexlib) (3.14.0)\n",
            "Requirement already satisfied: typing-extensions>=4.8.0 in /usr/local/lib/python3.10/dist-packages (from torch->facexlib) (4.11.0)\n",
            "Requirement already satisfied: sympy in /usr/local/lib/python3.10/dist-packages (from torch->facexlib) (1.12)\n",
            "Requirement already satisfied: networkx in /usr/local/lib/python3.10/dist-packages (from torch->facexlib) (3.3)\n",
            "Requirement already satisfied: jinja2 in /usr/local/lib/python3.10/dist-packages (from torch->facexlib) (3.1.4)\n",
            "Requirement already satisfied: fsspec in /usr/local/lib/python3.10/dist-packages (from torch->facexlib) (2023.6.0)\n",
            "Requirement already satisfied: nvidia-cuda-nvrtc-cu12==12.1.105 in /usr/local/lib/python3.10/dist-packages (from torch->facexlib) (12.1.105)\n",
            "Requirement already satisfied: nvidia-cuda-runtime-cu12==12.1.105 in /usr/local/lib/python3.10/dist-packages (from torch->facexlib) (12.1.105)\n",
            "Requirement already satisfied: nvidia-cuda-cupti-cu12==12.1.105 in /usr/local/lib/python3.10/dist-packages (from torch->facexlib) (12.1.105)\n",
            "Requirement already satisfied: nvidia-cudnn-cu12==8.9.2.26 in /usr/local/lib/python3.10/dist-packages (from torch->facexlib) (8.9.2.26)\n",
            "Requirement already satisfied: nvidia-cublas-cu12==12.1.3.1 in /usr/local/lib/python3.10/dist-packages (from torch->facexlib) (12.1.3.1)\n",
            "Requirement already satisfied: nvidia-cufft-cu12==11.0.2.54 in /usr/local/lib/python3.10/dist-packages (from torch->facexlib) (11.0.2.54)\n",
            "Requirement already satisfied: nvidia-curand-cu12==10.3.2.106 in /usr/local/lib/python3.10/dist-packages (from torch->facexlib) (10.3.2.106)\n",
            "Requirement already satisfied: nvidia-cusolver-cu12==11.4.5.107 in /usr/local/lib/python3.10/dist-packages (from torch->facexlib) (11.4.5.107)\n",
            "Requirement already satisfied: nvidia-cusparse-cu12==12.1.0.106 in /usr/local/lib/python3.10/dist-packages (from torch->facexlib) (12.1.0.106)\n",
            "Requirement already satisfied: nvidia-nccl-cu12==2.20.5 in /usr/local/lib/python3.10/dist-packages (from torch->facexlib) (2.20.5)\n",
            "Requirement already satisfied: nvidia-nvtx-cu12==12.1.105 in /usr/local/lib/python3.10/dist-packages (from torch->facexlib) (12.1.105)\n",
            "Requirement already satisfied: triton==2.3.0 in /usr/local/lib/python3.10/dist-packages (from torch->facexlib) (2.3.0)\n",
            "Requirement already satisfied: nvidia-nvjitlink-cu12 in /usr/local/lib/python3.10/dist-packages (from nvidia-cusolver-cu12==11.4.5.107->torch->facexlib) (12.5.40)\n",
            "Requirement already satisfied: MarkupSafe>=2.0 in /usr/local/lib/python3.10/dist-packages (from jinja2->torch->facexlib) (2.1.5)\n",
            "Requirement already satisfied: contourpy>=1.0.1 in /usr/local/lib/python3.10/dist-packages (from matplotlib->filterpy->facexlib) (1.2.1)\n",
            "Requirement already satisfied: cycler>=0.10 in /usr/local/lib/python3.10/dist-packages (from matplotlib->filterpy->facexlib) (0.12.1)\n",
            "Requirement already satisfied: fonttools>=4.22.0 in /usr/local/lib/python3.10/dist-packages (from matplotlib->filterpy->facexlib) (4.51.0)\n",
            "Requirement already satisfied: kiwisolver>=1.0.1 in /usr/local/lib/python3.10/dist-packages (from matplotlib->filterpy->facexlib) (1.4.5)\n",
            "Requirement already satisfied: packaging>=20.0 in /usr/local/lib/python3.10/dist-packages (from matplotlib->filterpy->facexlib) (24.0)\n",
            "Requirement already satisfied: pyparsing>=2.3.1 in /usr/local/lib/python3.10/dist-packages (from matplotlib->filterpy->facexlib) (3.1.2)\n",
            "Requirement already satisfied: python-dateutil>=2.7 in /usr/local/lib/python3.10/dist-packages (from matplotlib->filterpy->facexlib) (2.8.2)\n",
            "Requirement already satisfied: mpmath>=0.19 in /usr/local/lib/python3.10/dist-packages (from sympy->torch->facexlib) (1.3.0)\n",
            "Requirement already satisfied: six>=1.5 in /usr/local/lib/python3.10/dist-packages (from python-dateutil>=2.7->matplotlib->filterpy->facexlib) (1.16.0)\n",
            "Building wheels for collected packages: filterpy\n",
            "  Building wheel for filterpy (setup.py) ... \u001b[?25l\u001b[?25hdone\n",
            "  Created wheel for filterpy: filename=filterpy-1.4.5-py3-none-any.whl size=110458 sha256=b4abec3afd8e28f5170c6620bfffedbf8030b949a4d56bcb0dff1d186f524bb9\n",
            "  Stored in directory: /root/.cache/pip/wheels/0f/0c/ea/218f266af4ad626897562199fbbcba521b8497303200186102\n",
            "Successfully built filterpy\n",
            "Installing collected packages: filterpy, facexlib\n",
            "Successfully installed facexlib-0.3.0 filterpy-1.4.5\n",
            "Collecting gfpgan\n",
            "  Downloading gfpgan-1.3.8-py3-none-any.whl (52 kB)\n",
            "\u001b[2K     \u001b[90m━━━━━━━━━━━━━━━━━━━━━━━━━━━━━━━━━━━━━━━━\u001b[0m \u001b[32m52.2/52.2 kB\u001b[0m \u001b[31m1.4 MB/s\u001b[0m eta \u001b[36m0:00:00\u001b[0m\n",
            "\u001b[?25hRequirement already satisfied: basicsr>=1.4.2 in /usr/local/lib/python3.10/dist-packages (from gfpgan) (1.4.2)\n",
            "Requirement already satisfied: facexlib>=0.2.5 in /usr/local/lib/python3.10/dist-packages (from gfpgan) (0.3.0)\n",
            "Requirement already satisfied: lmdb in /usr/local/lib/python3.10/dist-packages (from gfpgan) (1.4.1)\n",
            "Requirement already satisfied: numpy in /usr/local/lib/python3.10/dist-packages (from gfpgan) (1.25.2)\n",
            "Requirement already satisfied: opencv-python in /usr/local/lib/python3.10/dist-packages (from gfpgan) (4.8.0.76)\n",
            "Requirement already satisfied: pyyaml in /usr/local/lib/python3.10/dist-packages (from gfpgan) (6.0.1)\n",
            "Requirement already satisfied: scipy in /usr/local/lib/python3.10/dist-packages (from gfpgan) (1.11.4)\n",
            "Requirement already satisfied: tb-nightly in /usr/local/lib/python3.10/dist-packages (from gfpgan) (2.17.0a20240527)\n",
            "Requirement already satisfied: torch>=1.7 in /usr/local/lib/python3.10/dist-packages (from gfpgan) (2.3.0+cu121)\n",
            "Requirement already satisfied: torchvision in /usr/local/lib/python3.10/dist-packages (from gfpgan) (0.18.0+cu121)\n",
            "Requirement already satisfied: tqdm in /usr/local/lib/python3.10/dist-packages (from gfpgan) (4.66.4)\n",
            "Requirement already satisfied: yapf in /usr/local/lib/python3.10/dist-packages (from gfpgan) (0.40.2)\n",
            "Requirement already satisfied: addict in /usr/local/lib/python3.10/dist-packages (from basicsr>=1.4.2->gfpgan) (2.4.0)\n",
            "Requirement already satisfied: future in /usr/local/lib/python3.10/dist-packages (from basicsr>=1.4.2->gfpgan) (0.18.3)\n",
            "Requirement already satisfied: Pillow in /usr/local/lib/python3.10/dist-packages (from basicsr>=1.4.2->gfpgan) (9.4.0)\n",
            "Requirement already satisfied: requests in /usr/local/lib/python3.10/dist-packages (from basicsr>=1.4.2->gfpgan) (2.31.0)\n",
            "Requirement already satisfied: scikit-image in /usr/local/lib/python3.10/dist-packages (from basicsr>=1.4.2->gfpgan) (0.19.3)\n",
            "Requirement already satisfied: filterpy in /usr/local/lib/python3.10/dist-packages (from facexlib>=0.2.5->gfpgan) (1.4.5)\n",
            "Requirement already satisfied: numba in /usr/local/lib/python3.10/dist-packages (from facexlib>=0.2.5->gfpgan) (0.58.1)\n",
            "Requirement already satisfied: filelock in /usr/local/lib/python3.10/dist-packages (from torch>=1.7->gfpgan) (3.14.0)\n",
            "Requirement already satisfied: typing-extensions>=4.8.0 in /usr/local/lib/python3.10/dist-packages (from torch>=1.7->gfpgan) (4.11.0)\n",
            "Requirement already satisfied: sympy in /usr/local/lib/python3.10/dist-packages (from torch>=1.7->gfpgan) (1.12)\n",
            "Requirement already satisfied: networkx in /usr/local/lib/python3.10/dist-packages (from torch>=1.7->gfpgan) (3.3)\n",
            "Requirement already satisfied: jinja2 in /usr/local/lib/python3.10/dist-packages (from torch>=1.7->gfpgan) (3.1.4)\n",
            "Requirement already satisfied: fsspec in /usr/local/lib/python3.10/dist-packages (from torch>=1.7->gfpgan) (2023.6.0)\n",
            "Requirement already satisfied: nvidia-cuda-nvrtc-cu12==12.1.105 in /usr/local/lib/python3.10/dist-packages (from torch>=1.7->gfpgan) (12.1.105)\n",
            "Requirement already satisfied: nvidia-cuda-runtime-cu12==12.1.105 in /usr/local/lib/python3.10/dist-packages (from torch>=1.7->gfpgan) (12.1.105)\n",
            "Requirement already satisfied: nvidia-cuda-cupti-cu12==12.1.105 in /usr/local/lib/python3.10/dist-packages (from torch>=1.7->gfpgan) (12.1.105)\n",
            "Requirement already satisfied: nvidia-cudnn-cu12==8.9.2.26 in /usr/local/lib/python3.10/dist-packages (from torch>=1.7->gfpgan) (8.9.2.26)\n",
            "Requirement already satisfied: nvidia-cublas-cu12==12.1.3.1 in /usr/local/lib/python3.10/dist-packages (from torch>=1.7->gfpgan) (12.1.3.1)\n",
            "Requirement already satisfied: nvidia-cufft-cu12==11.0.2.54 in /usr/local/lib/python3.10/dist-packages (from torch>=1.7->gfpgan) (11.0.2.54)\n",
            "Requirement already satisfied: nvidia-curand-cu12==10.3.2.106 in /usr/local/lib/python3.10/dist-packages (from torch>=1.7->gfpgan) (10.3.2.106)\n",
            "Requirement already satisfied: nvidia-cusolver-cu12==11.4.5.107 in /usr/local/lib/python3.10/dist-packages (from torch>=1.7->gfpgan) (11.4.5.107)\n",
            "Requirement already satisfied: nvidia-cusparse-cu12==12.1.0.106 in /usr/local/lib/python3.10/dist-packages (from torch>=1.7->gfpgan) (12.1.0.106)\n",
            "Requirement already satisfied: nvidia-nccl-cu12==2.20.5 in /usr/local/lib/python3.10/dist-packages (from torch>=1.7->gfpgan) (2.20.5)\n",
            "Requirement already satisfied: nvidia-nvtx-cu12==12.1.105 in /usr/local/lib/python3.10/dist-packages (from torch>=1.7->gfpgan) (12.1.105)\n",
            "Requirement already satisfied: triton==2.3.0 in /usr/local/lib/python3.10/dist-packages (from torch>=1.7->gfpgan) (2.3.0)\n",
            "Requirement already satisfied: nvidia-nvjitlink-cu12 in /usr/local/lib/python3.10/dist-packages (from nvidia-cusolver-cu12==11.4.5.107->torch>=1.7->gfpgan) (12.5.40)\n",
            "Requirement already satisfied: absl-py>=0.4 in /usr/local/lib/python3.10/dist-packages (from tb-nightly->gfpgan) (1.4.0)\n",
            "Requirement already satisfied: grpcio>=1.48.2 in /usr/local/lib/python3.10/dist-packages (from tb-nightly->gfpgan) (1.64.0)\n",
            "Requirement already satisfied: markdown>=2.6.8 in /usr/local/lib/python3.10/dist-packages (from tb-nightly->gfpgan) (3.6)\n",
            "Requirement already satisfied: protobuf!=4.24.0,<5.0.0,>=3.19.6 in /usr/local/lib/python3.10/dist-packages (from tb-nightly->gfpgan) (3.20.3)\n",
            "Requirement already satisfied: setuptools>=41.0.0 in /usr/local/lib/python3.10/dist-packages (from tb-nightly->gfpgan) (67.7.2)\n",
            "Requirement already satisfied: six>1.9 in /usr/local/lib/python3.10/dist-packages (from tb-nightly->gfpgan) (1.16.0)\n",
            "Requirement already satisfied: tensorboard-data-server<0.8.0,>=0.7.0 in /usr/local/lib/python3.10/dist-packages (from tb-nightly->gfpgan) (0.7.2)\n",
            "Requirement already satisfied: werkzeug>=1.0.1 in /usr/local/lib/python3.10/dist-packages (from tb-nightly->gfpgan) (3.0.3)\n",
            "Requirement already satisfied: importlib-metadata>=6.6.0 in /usr/local/lib/python3.10/dist-packages (from yapf->gfpgan) (7.1.0)\n",
            "Requirement already satisfied: platformdirs>=3.5.1 in /usr/local/lib/python3.10/dist-packages (from yapf->gfpgan) (4.2.2)\n",
            "Requirement already satisfied: tomli>=2.0.1 in /usr/local/lib/python3.10/dist-packages (from yapf->gfpgan) (2.0.1)\n",
            "Requirement already satisfied: zipp>=0.5 in /usr/local/lib/python3.10/dist-packages (from importlib-metadata>=6.6.0->yapf->gfpgan) (3.18.2)\n",
            "Requirement already satisfied: MarkupSafe>=2.1.1 in /usr/local/lib/python3.10/dist-packages (from werkzeug>=1.0.1->tb-nightly->gfpgan) (2.1.5)\n",
            "Requirement already satisfied: matplotlib in /usr/local/lib/python3.10/dist-packages (from filterpy->facexlib>=0.2.5->gfpgan) (3.7.1)\n",
            "Requirement already satisfied: llvmlite<0.42,>=0.41.0dev0 in /usr/local/lib/python3.10/dist-packages (from numba->facexlib>=0.2.5->gfpgan) (0.41.1)\n",
            "Requirement already satisfied: charset-normalizer<4,>=2 in /usr/local/lib/python3.10/dist-packages (from requests->basicsr>=1.4.2->gfpgan) (3.3.2)\n",
            "Requirement already satisfied: idna<4,>=2.5 in /usr/local/lib/python3.10/dist-packages (from requests->basicsr>=1.4.2->gfpgan) (3.7)\n",
            "Requirement already satisfied: urllib3<3,>=1.21.1 in /usr/local/lib/python3.10/dist-packages (from requests->basicsr>=1.4.2->gfpgan) (2.0.7)\n",
            "Requirement already satisfied: certifi>=2017.4.17 in /usr/local/lib/python3.10/dist-packages (from requests->basicsr>=1.4.2->gfpgan) (2024.2.2)\n",
            "Requirement already satisfied: imageio>=2.4.1 in /usr/local/lib/python3.10/dist-packages (from scikit-image->basicsr>=1.4.2->gfpgan) (2.31.6)\n",
            "Requirement already satisfied: tifffile>=2019.7.26 in /usr/local/lib/python3.10/dist-packages (from scikit-image->basicsr>=1.4.2->gfpgan) (2024.5.10)\n",
            "Requirement already satisfied: PyWavelets>=1.1.1 in /usr/local/lib/python3.10/dist-packages (from scikit-image->basicsr>=1.4.2->gfpgan) (1.6.0)\n",
            "Requirement already satisfied: packaging>=20.0 in /usr/local/lib/python3.10/dist-packages (from scikit-image->basicsr>=1.4.2->gfpgan) (24.0)\n",
            "Requirement already satisfied: mpmath>=0.19 in /usr/local/lib/python3.10/dist-packages (from sympy->torch>=1.7->gfpgan) (1.3.0)\n",
            "Requirement already satisfied: contourpy>=1.0.1 in /usr/local/lib/python3.10/dist-packages (from matplotlib->filterpy->facexlib>=0.2.5->gfpgan) (1.2.1)\n",
            "Requirement already satisfied: cycler>=0.10 in /usr/local/lib/python3.10/dist-packages (from matplotlib->filterpy->facexlib>=0.2.5->gfpgan) (0.12.1)\n",
            "Requirement already satisfied: fonttools>=4.22.0 in /usr/local/lib/python3.10/dist-packages (from matplotlib->filterpy->facexlib>=0.2.5->gfpgan) (4.51.0)\n",
            "Requirement already satisfied: kiwisolver>=1.0.1 in /usr/local/lib/python3.10/dist-packages (from matplotlib->filterpy->facexlib>=0.2.5->gfpgan) (1.4.5)\n",
            "Requirement already satisfied: pyparsing>=2.3.1 in /usr/local/lib/python3.10/dist-packages (from matplotlib->filterpy->facexlib>=0.2.5->gfpgan) (3.1.2)\n",
            "Requirement already satisfied: python-dateutil>=2.7 in /usr/local/lib/python3.10/dist-packages (from matplotlib->filterpy->facexlib>=0.2.5->gfpgan) (2.8.2)\n",
            "Installing collected packages: gfpgan\n",
            "Successfully installed gfpgan-1.3.8\n",
            "Requirement already satisfied: basicsr>=1.4.2 in /usr/local/lib/python3.10/dist-packages (from -r requirements.txt (line 1)) (1.4.2)\n",
            "Requirement already satisfied: facexlib>=0.2.5 in /usr/local/lib/python3.10/dist-packages (from -r requirements.txt (line 2)) (0.3.0)\n",
            "Requirement already satisfied: gfpgan>=1.3.5 in /usr/local/lib/python3.10/dist-packages (from -r requirements.txt (line 3)) (1.3.8)\n",
            "Requirement already satisfied: numpy in /usr/local/lib/python3.10/dist-packages (from -r requirements.txt (line 4)) (1.25.2)\n",
            "Requirement already satisfied: opencv-python in /usr/local/lib/python3.10/dist-packages (from -r requirements.txt (line 5)) (4.8.0.76)\n",
            "Requirement already satisfied: Pillow in /usr/local/lib/python3.10/dist-packages (from -r requirements.txt (line 6)) (9.4.0)\n",
            "Requirement already satisfied: torch>=1.7 in /usr/local/lib/python3.10/dist-packages (from -r requirements.txt (line 7)) (2.3.0+cu121)\n",
            "Requirement already satisfied: torchvision in /usr/local/lib/python3.10/dist-packages (from -r requirements.txt (line 8)) (0.18.0+cu121)\n",
            "Requirement already satisfied: tqdm in /usr/local/lib/python3.10/dist-packages (from -r requirements.txt (line 9)) (4.66.4)\n",
            "Requirement already satisfied: addict in /usr/local/lib/python3.10/dist-packages (from basicsr>=1.4.2->-r requirements.txt (line 1)) (2.4.0)\n",
            "Requirement already satisfied: future in /usr/local/lib/python3.10/dist-packages (from basicsr>=1.4.2->-r requirements.txt (line 1)) (0.18.3)\n",
            "Requirement already satisfied: lmdb in /usr/local/lib/python3.10/dist-packages (from basicsr>=1.4.2->-r requirements.txt (line 1)) (1.4.1)\n",
            "Requirement already satisfied: pyyaml in /usr/local/lib/python3.10/dist-packages (from basicsr>=1.4.2->-r requirements.txt (line 1)) (6.0.1)\n",
            "Requirement already satisfied: requests in /usr/local/lib/python3.10/dist-packages (from basicsr>=1.4.2->-r requirements.txt (line 1)) (2.31.0)\n",
            "Requirement already satisfied: scikit-image in /usr/local/lib/python3.10/dist-packages (from basicsr>=1.4.2->-r requirements.txt (line 1)) (0.19.3)\n",
            "Requirement already satisfied: scipy in /usr/local/lib/python3.10/dist-packages (from basicsr>=1.4.2->-r requirements.txt (line 1)) (1.11.4)\n",
            "Requirement already satisfied: tb-nightly in /usr/local/lib/python3.10/dist-packages (from basicsr>=1.4.2->-r requirements.txt (line 1)) (2.17.0a20240527)\n",
            "Requirement already satisfied: yapf in /usr/local/lib/python3.10/dist-packages (from basicsr>=1.4.2->-r requirements.txt (line 1)) (0.40.2)\n",
            "Requirement already satisfied: filterpy in /usr/local/lib/python3.10/dist-packages (from facexlib>=0.2.5->-r requirements.txt (line 2)) (1.4.5)\n",
            "Requirement already satisfied: numba in /usr/local/lib/python3.10/dist-packages (from facexlib>=0.2.5->-r requirements.txt (line 2)) (0.58.1)\n",
            "Requirement already satisfied: filelock in /usr/local/lib/python3.10/dist-packages (from torch>=1.7->-r requirements.txt (line 7)) (3.14.0)\n",
            "Requirement already satisfied: typing-extensions>=4.8.0 in /usr/local/lib/python3.10/dist-packages (from torch>=1.7->-r requirements.txt (line 7)) (4.11.0)\n",
            "Requirement already satisfied: sympy in /usr/local/lib/python3.10/dist-packages (from torch>=1.7->-r requirements.txt (line 7)) (1.12)\n",
            "Requirement already satisfied: networkx in /usr/local/lib/python3.10/dist-packages (from torch>=1.7->-r requirements.txt (line 7)) (3.3)\n",
            "Requirement already satisfied: jinja2 in /usr/local/lib/python3.10/dist-packages (from torch>=1.7->-r requirements.txt (line 7)) (3.1.4)\n",
            "Requirement already satisfied: fsspec in /usr/local/lib/python3.10/dist-packages (from torch>=1.7->-r requirements.txt (line 7)) (2023.6.0)\n",
            "Requirement already satisfied: nvidia-cuda-nvrtc-cu12==12.1.105 in /usr/local/lib/python3.10/dist-packages (from torch>=1.7->-r requirements.txt (line 7)) (12.1.105)\n",
            "Requirement already satisfied: nvidia-cuda-runtime-cu12==12.1.105 in /usr/local/lib/python3.10/dist-packages (from torch>=1.7->-r requirements.txt (line 7)) (12.1.105)\n",
            "Requirement already satisfied: nvidia-cuda-cupti-cu12==12.1.105 in /usr/local/lib/python3.10/dist-packages (from torch>=1.7->-r requirements.txt (line 7)) (12.1.105)\n",
            "Requirement already satisfied: nvidia-cudnn-cu12==8.9.2.26 in /usr/local/lib/python3.10/dist-packages (from torch>=1.7->-r requirements.txt (line 7)) (8.9.2.26)\n",
            "Requirement already satisfied: nvidia-cublas-cu12==12.1.3.1 in /usr/local/lib/python3.10/dist-packages (from torch>=1.7->-r requirements.txt (line 7)) (12.1.3.1)\n",
            "Requirement already satisfied: nvidia-cufft-cu12==11.0.2.54 in /usr/local/lib/python3.10/dist-packages (from torch>=1.7->-r requirements.txt (line 7)) (11.0.2.54)\n",
            "Requirement already satisfied: nvidia-curand-cu12==10.3.2.106 in /usr/local/lib/python3.10/dist-packages (from torch>=1.7->-r requirements.txt (line 7)) (10.3.2.106)\n",
            "Requirement already satisfied: nvidia-cusolver-cu12==11.4.5.107 in /usr/local/lib/python3.10/dist-packages (from torch>=1.7->-r requirements.txt (line 7)) (11.4.5.107)\n",
            "Requirement already satisfied: nvidia-cusparse-cu12==12.1.0.106 in /usr/local/lib/python3.10/dist-packages (from torch>=1.7->-r requirements.txt (line 7)) (12.1.0.106)\n",
            "Requirement already satisfied: nvidia-nccl-cu12==2.20.5 in /usr/local/lib/python3.10/dist-packages (from torch>=1.7->-r requirements.txt (line 7)) (2.20.5)\n",
            "Requirement already satisfied: nvidia-nvtx-cu12==12.1.105 in /usr/local/lib/python3.10/dist-packages (from torch>=1.7->-r requirements.txt (line 7)) (12.1.105)\n",
            "Requirement already satisfied: triton==2.3.0 in /usr/local/lib/python3.10/dist-packages (from torch>=1.7->-r requirements.txt (line 7)) (2.3.0)\n",
            "Requirement already satisfied: nvidia-nvjitlink-cu12 in /usr/local/lib/python3.10/dist-packages (from nvidia-cusolver-cu12==11.4.5.107->torch>=1.7->-r requirements.txt (line 7)) (12.5.40)\n",
            "Requirement already satisfied: matplotlib in /usr/local/lib/python3.10/dist-packages (from filterpy->facexlib>=0.2.5->-r requirements.txt (line 2)) (3.7.1)\n",
            "Requirement already satisfied: MarkupSafe>=2.0 in /usr/local/lib/python3.10/dist-packages (from jinja2->torch>=1.7->-r requirements.txt (line 7)) (2.1.5)\n",
            "Requirement already satisfied: llvmlite<0.42,>=0.41.0dev0 in /usr/local/lib/python3.10/dist-packages (from numba->facexlib>=0.2.5->-r requirements.txt (line 2)) (0.41.1)\n",
            "Requirement already satisfied: charset-normalizer<4,>=2 in /usr/local/lib/python3.10/dist-packages (from requests->basicsr>=1.4.2->-r requirements.txt (line 1)) (3.3.2)\n",
            "Requirement already satisfied: idna<4,>=2.5 in /usr/local/lib/python3.10/dist-packages (from requests->basicsr>=1.4.2->-r requirements.txt (line 1)) (3.7)\n",
            "Requirement already satisfied: urllib3<3,>=1.21.1 in /usr/local/lib/python3.10/dist-packages (from requests->basicsr>=1.4.2->-r requirements.txt (line 1)) (2.0.7)\n",
            "Requirement already satisfied: certifi>=2017.4.17 in /usr/local/lib/python3.10/dist-packages (from requests->basicsr>=1.4.2->-r requirements.txt (line 1)) (2024.2.2)\n",
            "Requirement already satisfied: imageio>=2.4.1 in /usr/local/lib/python3.10/dist-packages (from scikit-image->basicsr>=1.4.2->-r requirements.txt (line 1)) (2.31.6)\n",
            "Requirement already satisfied: tifffile>=2019.7.26 in /usr/local/lib/python3.10/dist-packages (from scikit-image->basicsr>=1.4.2->-r requirements.txt (line 1)) (2024.5.10)\n",
            "Requirement already satisfied: PyWavelets>=1.1.1 in /usr/local/lib/python3.10/dist-packages (from scikit-image->basicsr>=1.4.2->-r requirements.txt (line 1)) (1.6.0)\n",
            "Requirement already satisfied: packaging>=20.0 in /usr/local/lib/python3.10/dist-packages (from scikit-image->basicsr>=1.4.2->-r requirements.txt (line 1)) (24.0)\n",
            "Requirement already satisfied: mpmath>=0.19 in /usr/local/lib/python3.10/dist-packages (from sympy->torch>=1.7->-r requirements.txt (line 7)) (1.3.0)\n",
            "Requirement already satisfied: absl-py>=0.4 in /usr/local/lib/python3.10/dist-packages (from tb-nightly->basicsr>=1.4.2->-r requirements.txt (line 1)) (1.4.0)\n",
            "Requirement already satisfied: grpcio>=1.48.2 in /usr/local/lib/python3.10/dist-packages (from tb-nightly->basicsr>=1.4.2->-r requirements.txt (line 1)) (1.64.0)\n",
            "Requirement already satisfied: markdown>=2.6.8 in /usr/local/lib/python3.10/dist-packages (from tb-nightly->basicsr>=1.4.2->-r requirements.txt (line 1)) (3.6)\n",
            "Requirement already satisfied: protobuf!=4.24.0,<5.0.0,>=3.19.6 in /usr/local/lib/python3.10/dist-packages (from tb-nightly->basicsr>=1.4.2->-r requirements.txt (line 1)) (3.20.3)\n",
            "Requirement already satisfied: setuptools>=41.0.0 in /usr/local/lib/python3.10/dist-packages (from tb-nightly->basicsr>=1.4.2->-r requirements.txt (line 1)) (67.7.2)\n",
            "Requirement already satisfied: six>1.9 in /usr/local/lib/python3.10/dist-packages (from tb-nightly->basicsr>=1.4.2->-r requirements.txt (line 1)) (1.16.0)\n",
            "Requirement already satisfied: tensorboard-data-server<0.8.0,>=0.7.0 in /usr/local/lib/python3.10/dist-packages (from tb-nightly->basicsr>=1.4.2->-r requirements.txt (line 1)) (0.7.2)\n",
            "Requirement already satisfied: werkzeug>=1.0.1 in /usr/local/lib/python3.10/dist-packages (from tb-nightly->basicsr>=1.4.2->-r requirements.txt (line 1)) (3.0.3)\n",
            "Requirement already satisfied: importlib-metadata>=6.6.0 in /usr/local/lib/python3.10/dist-packages (from yapf->basicsr>=1.4.2->-r requirements.txt (line 1)) (7.1.0)\n",
            "Requirement already satisfied: platformdirs>=3.5.1 in /usr/local/lib/python3.10/dist-packages (from yapf->basicsr>=1.4.2->-r requirements.txt (line 1)) (4.2.2)\n",
            "Requirement already satisfied: tomli>=2.0.1 in /usr/local/lib/python3.10/dist-packages (from yapf->basicsr>=1.4.2->-r requirements.txt (line 1)) (2.0.1)\n",
            "Requirement already satisfied: zipp>=0.5 in /usr/local/lib/python3.10/dist-packages (from importlib-metadata>=6.6.0->yapf->basicsr>=1.4.2->-r requirements.txt (line 1)) (3.18.2)\n",
            "Requirement already satisfied: contourpy>=1.0.1 in /usr/local/lib/python3.10/dist-packages (from matplotlib->filterpy->facexlib>=0.2.5->-r requirements.txt (line 2)) (1.2.1)\n",
            "Requirement already satisfied: cycler>=0.10 in /usr/local/lib/python3.10/dist-packages (from matplotlib->filterpy->facexlib>=0.2.5->-r requirements.txt (line 2)) (0.12.1)\n",
            "Requirement already satisfied: fonttools>=4.22.0 in /usr/local/lib/python3.10/dist-packages (from matplotlib->filterpy->facexlib>=0.2.5->-r requirements.txt (line 2)) (4.51.0)\n",
            "Requirement already satisfied: kiwisolver>=1.0.1 in /usr/local/lib/python3.10/dist-packages (from matplotlib->filterpy->facexlib>=0.2.5->-r requirements.txt (line 2)) (1.4.5)\n",
            "Requirement already satisfied: pyparsing>=2.3.1 in /usr/local/lib/python3.10/dist-packages (from matplotlib->filterpy->facexlib>=0.2.5->-r requirements.txt (line 2)) (3.1.2)\n",
            "Requirement already satisfied: python-dateutil>=2.7 in /usr/local/lib/python3.10/dist-packages (from matplotlib->filterpy->facexlib>=0.2.5->-r requirements.txt (line 2)) (2.8.2)\n",
            "/usr/local/lib/python3.10/dist-packages/setuptools/__init__.py:84: _DeprecatedInstaller: setuptools.installer and fetch_build_eggs are deprecated.\n",
            "!!\n",
            "\n",
            "        ********************************************************************************\n",
            "        Requirements should be satisfied by a PEP 517 installer.\n",
            "        If you are using pip, you can try `pip install --use-pep517`.\n",
            "        ********************************************************************************\n",
            "\n",
            "!!\n",
            "  dist.fetch_build_eggs(dist.setup_requires)\n",
            "running develop\n",
            "/usr/local/lib/python3.10/dist-packages/setuptools/command/develop.py:40: EasyInstallDeprecationWarning: easy_install command is deprecated.\n",
            "!!\n",
            "\n",
            "        ********************************************************************************\n",
            "        Please avoid running ``setup.py`` and ``easy_install``.\n",
            "        Instead, use pypa/build, pypa/installer, pypa/build or\n",
            "        other standards-based tools.\n",
            "\n",
            "        See https://github.com/pypa/setuptools/issues/917 for details.\n",
            "        ********************************************************************************\n",
            "\n",
            "!!\n",
            "  easy_install.initialize_options(self)\n",
            "/usr/local/lib/python3.10/dist-packages/setuptools/_distutils/cmd.py:66: SetuptoolsDeprecationWarning: setup.py install is deprecated.\n",
            "!!\n",
            "\n",
            "        ********************************************************************************\n",
            "        Please avoid running ``setup.py`` directly.\n",
            "        Instead, use pypa/build, pypa/installer, pypa/build or\n",
            "        other standards-based tools.\n",
            "\n",
            "        See https://blog.ganssle.io/articles/2021/10/setup-py-deprecated.html for details.\n",
            "        ********************************************************************************\n",
            "\n",
            "!!\n",
            "  self.initialize_options()\n",
            "running egg_info\n",
            "creating realesrgan.egg-info\n",
            "writing realesrgan.egg-info/PKG-INFO\n",
            "writing dependency_links to realesrgan.egg-info/dependency_links.txt\n",
            "writing requirements to realesrgan.egg-info/requires.txt\n",
            "writing top-level names to realesrgan.egg-info/top_level.txt\n",
            "writing manifest file 'realesrgan.egg-info/SOURCES.txt'\n",
            "reading manifest file 'realesrgan.egg-info/SOURCES.txt'\n",
            "reading manifest template 'MANIFEST.in'\n",
            "adding license file 'LICENSE'\n",
            "writing manifest file 'realesrgan.egg-info/SOURCES.txt'\n",
            "running build_ext\n",
            "Creating /usr/local/lib/python3.10/dist-packages/realesrgan.egg-link (link to .)\n",
            "Adding realesrgan 0.3.0 to easy-install.pth file\n",
            "\n",
            "Installed /content/Real-ESRGAN\n",
            "Processing dependencies for realesrgan==0.3.0\n",
            "Searching for tqdm==4.66.4\n",
            "Best match: tqdm 4.66.4\n",
            "Adding tqdm 4.66.4 to easy-install.pth file\n",
            "Installing tqdm script to /usr/local/bin\n",
            "\n",
            "Using /usr/local/lib/python3.10/dist-packages\n",
            "Searching for torchvision==0.18.0+cu121\n",
            "Best match: torchvision 0.18.0+cu121\n",
            "Adding torchvision 0.18.0+cu121 to easy-install.pth file\n",
            "\n",
            "Using /usr/local/lib/python3.10/dist-packages\n",
            "Searching for torch==2.3.0+cu121\n",
            "Best match: torch 2.3.0+cu121\n",
            "Adding torch 2.3.0+cu121 to easy-install.pth file\n",
            "Installing convert-caffe2-to-onnx script to /usr/local/bin\n",
            "Installing convert-onnx-to-caffe2 script to /usr/local/bin\n",
            "Installing torchrun script to /usr/local/bin\n",
            "\n",
            "Using /usr/local/lib/python3.10/dist-packages\n",
            "Searching for Pillow==9.4.0\n",
            "Best match: Pillow 9.4.0\n",
            "Adding Pillow 9.4.0 to easy-install.pth file\n",
            "\n",
            "Using /usr/local/lib/python3.10/dist-packages\n",
            "Searching for opencv-python==4.8.0.76\n",
            "Best match: opencv-python 4.8.0.76\n",
            "Adding opencv-python 4.8.0.76 to easy-install.pth file\n",
            "\n",
            "Using /usr/local/lib/python3.10/dist-packages\n",
            "Searching for numpy==1.25.2\n",
            "Best match: numpy 1.25.2\n",
            "Adding numpy 1.25.2 to easy-install.pth file\n",
            "Installing f2py script to /usr/local/bin\n",
            "Installing f2py3 script to /usr/local/bin\n",
            "Installing f2py3.10 script to /usr/local/bin\n",
            "\n",
            "Using /usr/local/lib/python3.10/dist-packages\n",
            "Searching for gfpgan==1.3.8\n",
            "Best match: gfpgan 1.3.8\n",
            "Adding gfpgan 1.3.8 to easy-install.pth file\n",
            "\n",
            "Using /usr/local/lib/python3.10/dist-packages\n",
            "Searching for facexlib==0.3.0\n",
            "Best match: facexlib 0.3.0\n",
            "Adding facexlib 0.3.0 to easy-install.pth file\n",
            "\n",
            "Using /usr/local/lib/python3.10/dist-packages\n",
            "Searching for basicsr==1.4.2\n",
            "Best match: basicsr 1.4.2\n",
            "Adding basicsr 1.4.2 to easy-install.pth file\n",
            "\n",
            "Using /usr/local/lib/python3.10/dist-packages\n",
            "Searching for triton==2.3.0\n",
            "Best match: triton 2.3.0\n",
            "Adding triton 2.3.0 to easy-install.pth file\n",
            "\n",
            "Using /usr/local/lib/python3.10/dist-packages\n",
            "Searching for nvidia-nvtx-cu12==12.1.105\n",
            "Best match: nvidia-nvtx-cu12 12.1.105\n",
            "Adding nvidia-nvtx-cu12 12.1.105 to easy-install.pth file\n",
            "\n",
            "Using /usr/local/lib/python3.10/dist-packages\n",
            "Searching for nvidia-nccl-cu12==2.20.5\n",
            "Best match: nvidia-nccl-cu12 2.20.5\n",
            "Adding nvidia-nccl-cu12 2.20.5 to easy-install.pth file\n",
            "\n",
            "Using /usr/local/lib/python3.10/dist-packages\n",
            "Searching for nvidia-cusparse-cu12==12.1.0.106\n",
            "Best match: nvidia-cusparse-cu12 12.1.0.106\n",
            "Adding nvidia-cusparse-cu12 12.1.0.106 to easy-install.pth file\n",
            "\n",
            "Using /usr/local/lib/python3.10/dist-packages\n",
            "Searching for nvidia-cusolver-cu12==11.4.5.107\n",
            "Best match: nvidia-cusolver-cu12 11.4.5.107\n",
            "Adding nvidia-cusolver-cu12 11.4.5.107 to easy-install.pth file\n",
            "\n",
            "Using /usr/local/lib/python3.10/dist-packages\n",
            "Searching for nvidia-curand-cu12==10.3.2.106\n",
            "Best match: nvidia-curand-cu12 10.3.2.106\n",
            "Adding nvidia-curand-cu12 10.3.2.106 to easy-install.pth file\n",
            "\n",
            "Using /usr/local/lib/python3.10/dist-packages\n",
            "Searching for nvidia-cufft-cu12==11.0.2.54\n",
            "Best match: nvidia-cufft-cu12 11.0.2.54\n",
            "Adding nvidia-cufft-cu12 11.0.2.54 to easy-install.pth file\n",
            "\n",
            "Using /usr/local/lib/python3.10/dist-packages\n",
            "Searching for nvidia-cublas-cu12==12.1.3.1\n",
            "Best match: nvidia-cublas-cu12 12.1.3.1\n",
            "Adding nvidia-cublas-cu12 12.1.3.1 to easy-install.pth file\n",
            "\n",
            "Using /usr/local/lib/python3.10/dist-packages\n",
            "Searching for nvidia-cudnn-cu12==8.9.2.26\n",
            "Best match: nvidia-cudnn-cu12 8.9.2.26\n",
            "Adding nvidia-cudnn-cu12 8.9.2.26 to easy-install.pth file\n",
            "\n",
            "Using /usr/local/lib/python3.10/dist-packages\n",
            "Searching for nvidia-cuda-cupti-cu12==12.1.105\n",
            "Best match: nvidia-cuda-cupti-cu12 12.1.105\n",
            "Adding nvidia-cuda-cupti-cu12 12.1.105 to easy-install.pth file\n",
            "\n",
            "Using /usr/local/lib/python3.10/dist-packages\n",
            "Searching for nvidia-cuda-runtime-cu12==12.1.105\n",
            "Best match: nvidia-cuda-runtime-cu12 12.1.105\n",
            "Adding nvidia-cuda-runtime-cu12 12.1.105 to easy-install.pth file\n",
            "\n",
            "Using /usr/local/lib/python3.10/dist-packages\n",
            "Searching for nvidia-cuda-nvrtc-cu12==12.1.105\n",
            "Best match: nvidia-cuda-nvrtc-cu12 12.1.105\n",
            "Adding nvidia-cuda-nvrtc-cu12 12.1.105 to easy-install.pth file\n",
            "\n",
            "Using /usr/local/lib/python3.10/dist-packages\n",
            "Searching for fsspec==2023.6.0\n",
            "Best match: fsspec 2023.6.0\n",
            "Adding fsspec 2023.6.0 to easy-install.pth file\n",
            "\n",
            "Using /usr/local/lib/python3.10/dist-packages\n",
            "Searching for jinja2==3.1.4\n",
            "Best match: jinja2 3.1.4\n",
            "Adding jinja2 3.1.4 to easy-install.pth file\n",
            "\n",
            "Using /usr/local/lib/python3.10/dist-packages\n",
            "Searching for networkx==3.3\n",
            "Best match: networkx 3.3\n",
            "Adding networkx 3.3 to easy-install.pth file\n",
            "\n",
            "Using /usr/local/lib/python3.10/dist-packages\n",
            "Searching for sympy==1.12\n",
            "Best match: sympy 1.12\n",
            "Adding sympy 1.12 to easy-install.pth file\n",
            "Installing isympy script to /usr/local/bin\n",
            "\n",
            "Using /usr/local/lib/python3.10/dist-packages\n",
            "Searching for typing-extensions==4.11.0\n",
            "Best match: typing-extensions 4.11.0\n",
            "Adding typing-extensions 4.11.0 to easy-install.pth file\n",
            "\n",
            "Using /usr/local/lib/python3.10/dist-packages\n",
            "Searching for filelock==3.14.0\n",
            "Best match: filelock 3.14.0\n",
            "Adding filelock 3.14.0 to easy-install.pth file\n",
            "\n",
            "Using /usr/local/lib/python3.10/dist-packages\n",
            "Searching for yapf==0.40.2\n",
            "Best match: yapf 0.40.2\n",
            "Adding yapf 0.40.2 to easy-install.pth file\n",
            "Installing yapf script to /usr/local/bin\n",
            "Installing yapf-diff script to /usr/local/bin\n",
            "\n",
            "Using /usr/local/lib/python3.10/dist-packages\n",
            "Searching for tb-nightly==2.17.0a20240527\n",
            "Best match: tb-nightly 2.17.0a20240527\n",
            "Adding tb-nightly 2.17.0a20240527 to easy-install.pth file\n",
            "Installing tensorboard script to /usr/local/bin\n",
            "\n",
            "Using /usr/local/lib/python3.10/dist-packages\n",
            "Searching for scipy==1.11.4\n",
            "Best match: scipy 1.11.4\n",
            "Adding scipy 1.11.4 to easy-install.pth file\n",
            "\n",
            "Using /usr/local/lib/python3.10/dist-packages\n",
            "Searching for PyYAML==6.0.1\n",
            "Best match: PyYAML 6.0.1\n",
            "Adding PyYAML 6.0.1 to easy-install.pth file\n",
            "\n",
            "Using /usr/local/lib/python3.10/dist-packages\n",
            "Searching for lmdb==1.4.1\n",
            "Best match: lmdb 1.4.1\n",
            "Adding lmdb 1.4.1 to easy-install.pth file\n",
            "\n",
            "Using /usr/local/lib/python3.10/dist-packages\n",
            "Searching for numba==0.58.1\n",
            "Best match: numba 0.58.1\n",
            "Adding numba 0.58.1 to easy-install.pth file\n",
            "\n",
            "Using /usr/local/lib/python3.10/dist-packages\n",
            "Searching for filterpy==1.4.5\n",
            "Best match: filterpy 1.4.5\n",
            "Adding filterpy 1.4.5 to easy-install.pth file\n",
            "\n",
            "Using /usr/local/lib/python3.10/dist-packages\n",
            "Searching for scikit-image==0.19.3\n",
            "Best match: scikit-image 0.19.3\n",
            "Adding scikit-image 0.19.3 to easy-install.pth file\n",
            "Installing skivi script to /usr/local/bin\n",
            "\n",
            "Using /usr/local/lib/python3.10/dist-packages\n",
            "Searching for requests==2.31.0\n",
            "Best match: requests 2.31.0\n",
            "Adding requests 2.31.0 to easy-install.pth file\n",
            "\n",
            "Using /usr/local/lib/python3.10/dist-packages\n",
            "Searching for future==0.18.3\n",
            "Best match: future 0.18.3\n",
            "Adding future 0.18.3 to easy-install.pth file\n",
            "Installing futurize script to /usr/local/bin\n",
            "Installing pasteurize script to /usr/local/bin\n",
            "\n",
            "Using /usr/local/lib/python3.10/dist-packages\n",
            "Searching for addict==2.4.0\n",
            "Best match: addict 2.4.0\n",
            "Adding addict 2.4.0 to easy-install.pth file\n",
            "\n",
            "Using /usr/local/lib/python3.10/dist-packages\n",
            "Searching for nvidia-nvjitlink-cu12==12.5.40\n",
            "Best match: nvidia-nvjitlink-cu12 12.5.40\n",
            "Adding nvidia-nvjitlink-cu12 12.5.40 to easy-install.pth file\n",
            "\n",
            "Using /usr/local/lib/python3.10/dist-packages\n",
            "Searching for MarkupSafe==2.1.5\n",
            "Best match: MarkupSafe 2.1.5\n",
            "Adding MarkupSafe 2.1.5 to easy-install.pth file\n",
            "\n",
            "Using /usr/local/lib/python3.10/dist-packages\n",
            "Searching for mpmath==1.3.0\n",
            "Best match: mpmath 1.3.0\n",
            "Adding mpmath 1.3.0 to easy-install.pth file\n",
            "\n",
            "Using /usr/local/lib/python3.10/dist-packages\n",
            "Searching for tomli==2.0.1\n",
            "Best match: tomli 2.0.1\n",
            "Adding tomli 2.0.1 to easy-install.pth file\n",
            "\n",
            "Using /usr/local/lib/python3.10/dist-packages\n",
            "Searching for platformdirs==4.2.2\n",
            "Best match: platformdirs 4.2.2\n",
            "Adding platformdirs 4.2.2 to easy-install.pth file\n",
            "\n",
            "Using /usr/local/lib/python3.10/dist-packages\n",
            "Searching for importlib-metadata==7.1.0\n",
            "Best match: importlib-metadata 7.1.0\n",
            "Adding importlib-metadata 7.1.0 to easy-install.pth file\n",
            "\n",
            "Using /usr/local/lib/python3.10/dist-packages\n",
            "Searching for werkzeug==3.0.3\n",
            "Best match: werkzeug 3.0.3\n",
            "Adding werkzeug 3.0.3 to easy-install.pth file\n",
            "\n",
            "Using /usr/local/lib/python3.10/dist-packages\n",
            "Searching for tensorboard-data-server==0.7.2\n",
            "Best match: tensorboard-data-server 0.7.2\n",
            "Adding tensorboard-data-server 0.7.2 to easy-install.pth file\n",
            "\n",
            "Using /usr/local/lib/python3.10/dist-packages\n",
            "Searching for six==1.16.0\n",
            "Best match: six 1.16.0\n",
            "Adding six 1.16.0 to easy-install.pth file\n",
            "\n",
            "Using /usr/local/lib/python3.10/dist-packages\n",
            "Searching for setuptools==67.7.2\n",
            "Best match: setuptools 67.7.2\n",
            "Adding setuptools 67.7.2 to easy-install.pth file\n",
            "\n",
            "Using /usr/local/lib/python3.10/dist-packages\n",
            "Searching for protobuf==3.20.3\n",
            "Best match: protobuf 3.20.3\n",
            "Adding protobuf 3.20.3 to easy-install.pth file\n",
            "\n",
            "Using /usr/local/lib/python3.10/dist-packages\n",
            "Searching for Markdown==3.6\n",
            "Best match: Markdown 3.6\n",
            "Adding Markdown 3.6 to easy-install.pth file\n",
            "Installing markdown_py script to /usr/local/bin\n",
            "\n",
            "Using /usr/local/lib/python3.10/dist-packages\n",
            "Searching for grpcio==1.64.0\n",
            "Best match: grpcio 1.64.0\n",
            "Adding grpcio 1.64.0 to easy-install.pth file\n",
            "\n",
            "Using /usr/local/lib/python3.10/dist-packages\n",
            "Searching for absl-py==1.4.0\n",
            "Best match: absl-py 1.4.0\n",
            "Adding absl-py 1.4.0 to easy-install.pth file\n",
            "\n",
            "Using /usr/local/lib/python3.10/dist-packages\n",
            "Searching for llvmlite==0.41.1\n",
            "Best match: llvmlite 0.41.1\n",
            "Adding llvmlite 0.41.1 to easy-install.pth file\n",
            "\n",
            "Using /usr/local/lib/python3.10/dist-packages\n",
            "Searching for matplotlib==3.7.1\n",
            "Best match: matplotlib 3.7.1\n",
            "Adding matplotlib 3.7.1 to easy-install.pth file\n",
            "\n",
            "Using /usr/local/lib/python3.10/dist-packages\n",
            "Searching for packaging==24.0\n",
            "Best match: packaging 24.0\n",
            "Adding packaging 24.0 to easy-install.pth file\n",
            "\n",
            "Using /usr/local/lib/python3.10/dist-packages\n",
            "Searching for pywavelets==1.6.0\n",
            "Best match: pywavelets 1.6.0\n",
            "Adding pywavelets 1.6.0 to easy-install.pth file\n",
            "\n",
            "Using /usr/local/lib/python3.10/dist-packages\n",
            "Searching for tifffile==2024.5.10\n",
            "Best match: tifffile 2024.5.10\n",
            "Adding tifffile 2024.5.10 to easy-install.pth file\n",
            "Installing lsm2bin script to /usr/local/bin\n",
            "Installing tiff2fsspec script to /usr/local/bin\n",
            "Installing tiffcomment script to /usr/local/bin\n",
            "Installing tifffile script to /usr/local/bin\n",
            "\n",
            "Using /usr/local/lib/python3.10/dist-packages\n",
            "Searching for imageio==2.31.6\n",
            "Best match: imageio 2.31.6\n",
            "Adding imageio 2.31.6 to easy-install.pth file\n",
            "Installing imageio_download_bin script to /usr/local/bin\n",
            "Installing imageio_remove_bin script to /usr/local/bin\n",
            "\n",
            "Using /usr/local/lib/python3.10/dist-packages\n",
            "Searching for certifi==2024.2.2\n",
            "Best match: certifi 2024.2.2\n",
            "Adding certifi 2024.2.2 to easy-install.pth file\n",
            "\n",
            "Using /usr/local/lib/python3.10/dist-packages\n",
            "Searching for urllib3==2.0.7\n",
            "Best match: urllib3 2.0.7\n",
            "Adding urllib3 2.0.7 to easy-install.pth file\n",
            "\n",
            "Using /usr/local/lib/python3.10/dist-packages\n",
            "Searching for idna==3.7\n",
            "Best match: idna 3.7\n",
            "Adding idna 3.7 to easy-install.pth file\n",
            "\n",
            "Using /usr/local/lib/python3.10/dist-packages\n",
            "Searching for charset-normalizer==3.3.2\n",
            "Best match: charset-normalizer 3.3.2\n",
            "Adding charset-normalizer 3.3.2 to easy-install.pth file\n",
            "Installing normalizer script to /usr/local/bin\n",
            "\n",
            "Using /usr/local/lib/python3.10/dist-packages\n",
            "Searching for zipp==3.18.2\n",
            "Best match: zipp 3.18.2\n",
            "Adding zipp 3.18.2 to easy-install.pth file\n",
            "\n",
            "Using /usr/local/lib/python3.10/dist-packages\n",
            "Searching for python-dateutil==2.8.2\n",
            "Best match: python-dateutil 2.8.2\n",
            "Adding python-dateutil 2.8.2 to easy-install.pth file\n",
            "\n",
            "Using /usr/local/lib/python3.10/dist-packages\n",
            "Searching for pyparsing==3.1.2\n",
            "Best match: pyparsing 3.1.2\n",
            "Adding pyparsing 3.1.2 to easy-install.pth file\n",
            "\n",
            "Using /usr/local/lib/python3.10/dist-packages\n",
            "Searching for kiwisolver==1.4.5\n",
            "Best match: kiwisolver 1.4.5\n",
            "Adding kiwisolver 1.4.5 to easy-install.pth file\n",
            "\n",
            "Using /usr/local/lib/python3.10/dist-packages\n",
            "Searching for fonttools==4.51.0\n",
            "Best match: fonttools 4.51.0\n",
            "Adding fonttools 4.51.0 to easy-install.pth file\n",
            "Installing fonttools script to /usr/local/bin\n",
            "Installing pyftmerge script to /usr/local/bin\n",
            "Installing pyftsubset script to /usr/local/bin\n",
            "Installing ttx script to /usr/local/bin\n",
            "\n",
            "Using /usr/local/lib/python3.10/dist-packages\n",
            "Searching for cycler==0.12.1\n",
            "Best match: cycler 0.12.1\n",
            "Adding cycler 0.12.1 to easy-install.pth file\n",
            "\n",
            "Using /usr/local/lib/python3.10/dist-packages\n",
            "Searching for contourpy==1.2.1\n",
            "Best match: contourpy 1.2.1\n",
            "Adding contourpy 1.2.1 to easy-install.pth file\n",
            "\n",
            "Using /usr/local/lib/python3.10/dist-packages\n",
            "Finished processing dependencies for realesrgan==0.3.0\n",
            "Extracting ZIP file...\n",
            "Extraction completed.\n",
            "Loading StarDist model...\n",
            "Found model '2D_versatile_fluo' for 'StarDist2D'.\n",
            "Downloading data from https://github.com/stardist/stardist-models/releases/download/v0.1/python_2D_versatile_fluo.zip\n",
            "5320433/5320433 [==============================] - 0s 0us/step\n",
            "Loading network weights from 'weights_best.h5'.\n",
            "Loading thresholds from 'thresholds.json'.\n",
            "Using default values: prob_thresh=0.479071, nms_thresh=0.3.\n",
            "Model loaded successfully.\n",
            "Found 42 RGB image files for upsampling.\n"
          ]
        },
        {
          "output_type": "stream",
          "name": "stderr",
          "text": [
            "<ipython-input-1-a2323bf97049> (148): /content/output/grayscale_tiff/Muc1_Ecad_SPC_x20_2_XY10_00041_CH3_gray_1.tif is a low contrast image\n",
            "<ipython-input-1-a2323bf97049> (148): /content/output/grayscale_tiff/Muc1_Ecad_SPC_x20_2_XY10_00042_CH3_gray_1.tif is a low contrast image\n",
            "<ipython-input-1-a2323bf97049> (148): /content/output/grayscale_tiff/Muc1_Ecad_SPC_x20_2_XY10_00006_CH3_gray_1.tif is a low contrast image\n",
            "<ipython-input-1-a2323bf97049> (148): /content/output/grayscale_tiff/Muc1_Ecad_SPC_x20_2_XY10_00037_CH3_gray_1.tif is a low contrast image\n",
            "<ipython-input-1-a2323bf97049> (148): /content/output/grayscale_tiff/Muc1_Ecad_SPC_x20_2_XY10_00025_CH3_gray_1.tif is a low contrast image\n",
            "<ipython-input-1-a2323bf97049> (148): /content/output/grayscale_tiff/Muc1_Ecad_SPC_x20_2_XY10_00005_CH3_gray_1.tif is a low contrast image\n",
            "<ipython-input-1-a2323bf97049> (148): /content/output/grayscale_tiff/Muc1_Ecad_SPC_x20_2_XY10_00036_CH3_gray_1.tif is a low contrast image\n"
          ]
        },
        {
          "output_type": "stream",
          "name": "stdout",
          "text": [
            "/content/Real-ESRGAN\n",
            "Downloading: \"https://github.com/xinntao/Real-ESRGAN/releases/download/v0.1.0/RealESRGAN_x4plus.pth\" to /content/Real-ESRGAN/weights/RealESRGAN_x4plus.pth\n",
            "\n",
            "100% 63.9M/63.9M [00:00<00:00, 334MB/s]\n",
            "Testing 0 Muc1_Ecad_SPC_x20_2_XY10_00001_CH3_1\n",
            "Testing 1 Muc1_Ecad_SPC_x20_2_XY10_00002_CH3_1\n",
            "Testing 2 Muc1_Ecad_SPC_x20_2_XY10_00003_CH3_1\n",
            "Testing 3 Muc1_Ecad_SPC_x20_2_XY10_00004_CH3_1\n",
            "Testing 4 Muc1_Ecad_SPC_x20_2_XY10_00005_CH3_1\n",
            "Testing 5 Muc1_Ecad_SPC_x20_2_XY10_00006_CH3_1\n",
            "Testing 6 Muc1_Ecad_SPC_x20_2_XY10_00007_CH3_1\n",
            "Testing 7 Muc1_Ecad_SPC_x20_2_XY10_00008_CH3_1\n",
            "Testing 8 Muc1_Ecad_SPC_x20_2_XY10_00009_CH3_1\n",
            "Testing 9 Muc1_Ecad_SPC_x20_2_XY10_00010_CH3_1\n",
            "Testing 10 Muc1_Ecad_SPC_x20_2_XY10_00011_CH3_1\n",
            "Testing 11 Muc1_Ecad_SPC_x20_2_XY10_00012_CH3_1\n",
            "Testing 12 Muc1_Ecad_SPC_x20_2_XY10_00013_CH3_1\n",
            "Testing 13 Muc1_Ecad_SPC_x20_2_XY10_00014_CH3_1\n",
            "Testing 14 Muc1_Ecad_SPC_x20_2_XY10_00015_CH3_1\n",
            "Testing 15 Muc1_Ecad_SPC_x20_2_XY10_00016_CH3_1\n",
            "Testing 16 Muc1_Ecad_SPC_x20_2_XY10_00017_CH3_1\n",
            "Testing 17 Muc1_Ecad_SPC_x20_2_XY10_00018_CH3_1\n",
            "Testing 18 Muc1_Ecad_SPC_x20_2_XY10_00019_CH3_1\n",
            "Testing 19 Muc1_Ecad_SPC_x20_2_XY10_00020_CH3_1\n",
            "Testing 20 Muc1_Ecad_SPC_x20_2_XY10_00021_CH3_1\n",
            "Testing 21 Muc1_Ecad_SPC_x20_2_XY10_00022_CH3_1\n",
            "Testing 22 Muc1_Ecad_SPC_x20_2_XY10_00023_CH3_1\n",
            "Testing 23 Muc1_Ecad_SPC_x20_2_XY10_00024_CH3_1\n",
            "Testing 24 Muc1_Ecad_SPC_x20_2_XY10_00025_CH3_1\n",
            "Testing 25 Muc1_Ecad_SPC_x20_2_XY10_00026_CH3_1\n",
            "Testing 26 Muc1_Ecad_SPC_x20_2_XY10_00027_CH3_1\n",
            "Testing 27 Muc1_Ecad_SPC_x20_2_XY10_00028_CH3_1\n",
            "Testing 28 Muc1_Ecad_SPC_x20_2_XY10_00029_CH3_1\n",
            "Testing 29 Muc1_Ecad_SPC_x20_2_XY10_00030_CH3_1\n",
            "Testing 30 Muc1_Ecad_SPC_x20_2_XY10_00031_CH3_1\n",
            "Testing 31 Muc1_Ecad_SPC_x20_2_XY10_00032_CH3_1\n",
            "Testing 32 Muc1_Ecad_SPC_x20_2_XY10_00033_CH3_1\n",
            "Testing 33 Muc1_Ecad_SPC_x20_2_XY10_00034_CH3_1\n",
            "Testing 34 Muc1_Ecad_SPC_x20_2_XY10_00035_CH3_1\n",
            "Testing 35 Muc1_Ecad_SPC_x20_2_XY10_00036_CH3_1\n",
            "Testing 36 Muc1_Ecad_SPC_x20_2_XY10_00037_CH3_1\n",
            "Testing 37 Muc1_Ecad_SPC_x20_2_XY10_00038_CH3_1\n",
            "Testing 38 Muc1_Ecad_SPC_x20_2_XY10_00039_CH3_1\n",
            "Testing 39 Muc1_Ecad_SPC_x20_2_XY10_00040_CH3_1\n",
            "Testing 40 Muc1_Ecad_SPC_x20_2_XY10_00041_CH3_1\n",
            "Testing 41 Muc1_Ecad_SPC_x20_2_XY10_00042_CH3_1\n"
          ]
        },
        {
          "output_type": "stream",
          "name": "stderr",
          "text": [
            "<ipython-input-1-a2323bf97049> (79): /content/output/upsampled_tiff/Muc1_Ecad_SPC_x20_2_XY10_00005_CH3_1_out.tif is a low contrast image\n",
            "<ipython-input-1-a2323bf97049> (79): /content/output/upsampled_tiff/Muc1_Ecad_SPC_x20_2_XY10_00006_CH3_1_out.tif is a low contrast image\n",
            "<ipython-input-1-a2323bf97049> (79): /content/output/upsampled_tiff/Muc1_Ecad_SPC_x20_2_XY10_00025_CH3_1_out.tif is a low contrast image\n",
            "<ipython-input-1-a2323bf97049> (79): /content/output/upsampled_tiff/Muc1_Ecad_SPC_x20_2_XY10_00031_CH3_1_out.tif is a low contrast image\n",
            "<ipython-input-1-a2323bf97049> (79): /content/output/upsampled_tiff/Muc1_Ecad_SPC_x20_2_XY10_00035_CH3_1_out.tif is a low contrast image\n",
            "<ipython-input-1-a2323bf97049> (79): /content/output/upsampled_tiff/Muc1_Ecad_SPC_x20_2_XY10_00036_CH3_1_out.tif is a low contrast image\n",
            "<ipython-input-1-a2323bf97049> (79): /content/output/upsampled_tiff/Muc1_Ecad_SPC_x20_2_XY10_00037_CH3_1_out.tif is a low contrast image\n",
            "<ipython-input-1-a2323bf97049> (79): /content/output/upsampled_tiff/Muc1_Ecad_SPC_x20_2_XY10_00038_CH3_1_out.tif is a low contrast image\n",
            "<ipython-input-1-a2323bf97049> (79): /content/output/upsampled_tiff/Muc1_Ecad_SPC_x20_2_XY10_00040_CH3_1_out.tif is a low contrast image\n",
            "<ipython-input-1-a2323bf97049> (79): /content/output/upsampled_tiff/Muc1_Ecad_SPC_x20_2_XY10_00041_CH3_1_out.tif is a low contrast image\n",
            "<ipython-input-1-a2323bf97049> (79): /content/output/upsampled_tiff/Muc1_Ecad_SPC_x20_2_XY10_00042_CH3_1_out.tif is a low contrast image\n"
          ]
        },
        {
          "output_type": "stream",
          "name": "stdout",
          "text": [
            "Processing file: /content/sample_data/mono/Muc1_Ecad_SPC_x20_2_XY10_00001_CH3.tif\n",
            "Processing image from file /content/sample_data/mono/Muc1_Ecad_SPC_x20_2_XY10_00001_CH3.tif\n",
            "Image shape: (720, 960), Image dtype: uint8\n"
          ]
        },
        {
          "output_type": "stream",
          "name": "stderr",
          "text": [
            "<ipython-input-1-a2323bf97049> (209): /content/output/Muc1_Ecad_SPC_x20_2_XY10_00001_CH3_segmented_0.tif is a low contrast image\n",
            "<ipython-input-1-a2323bf97049> (211): /content/output/Muc1_Ecad_SPC_x20_2_XY10_00001_CH3_merged_0.tif is a low contrast image\n",
            "WARNING:matplotlib.image:Clipping input data to the valid range for imshow with RGB data ([0..1] for floats or [0..255] for integers).\n"
          ]
        },
        {
          "output_type": "stream",
          "name": "stdout",
          "text": [
            "Processing file: /content/output/grayscale_tiff/Muc1_Ecad_SPC_x20_2_XY10_00001_CH3_gray_1.tif\n",
            "Processing image from file /content/output/grayscale_tiff/Muc1_Ecad_SPC_x20_2_XY10_00001_CH3_gray_1.tif\n",
            "Image shape: (120, 160), Image dtype: uint8\n"
          ]
        },
        {
          "output_type": "stream",
          "name": "stderr",
          "text": [
            "<ipython-input-1-a2323bf97049> (209): /content/output/Muc1_Ecad_SPC_x20_2_XY10_00001_CH3_segmented_1.tif is a low contrast image\n",
            "<ipython-input-1-a2323bf97049> (211): /content/output/Muc1_Ecad_SPC_x20_2_XY10_00001_CH3_merged_1.tif is a low contrast image\n"
          ]
        },
        {
          "output_type": "stream",
          "name": "stdout",
          "text": [
            "Processing file: /content/output/upsampled_tiff/Muc1_Ecad_SPC_x20_2_XY10_00001_CH3_1_out.tif\n",
            "Processing image from file /content/output/upsampled_tiff/Muc1_Ecad_SPC_x20_2_XY10_00001_CH3_1_out.tif\n",
            "Image shape: (720, 960, 3), Image dtype: uint8\n"
          ]
        },
        {
          "output_type": "stream",
          "name": "stderr",
          "text": [
            "<ipython-input-1-a2323bf97049> (209): /content/output/Muc1_Ecad_SPC_x20_2_XY10_00001_CH3_segmented_2.tif is a low contrast image\n",
            "<ipython-input-1-a2323bf97049> (211): /content/output/Muc1_Ecad_SPC_x20_2_XY10_00001_CH3_merged_2.tif is a low contrast image\n",
            "WARNING:matplotlib.image:Clipping input data to the valid range for imshow with RGB data ([0..1] for floats or [0..255] for integers).\n"
          ]
        },
        {
          "output_type": "stream",
          "name": "stdout",
          "text": [
            "Processing file: /content/sample_data/mono/Muc1_Ecad_SPC_x20_2_XY10_00002_CH3.tif\n",
            "Processing image from file /content/sample_data/mono/Muc1_Ecad_SPC_x20_2_XY10_00002_CH3.tif\n",
            "Image shape: (720, 960), Image dtype: uint8\n"
          ]
        },
        {
          "output_type": "stream",
          "name": "stderr",
          "text": [
            "<ipython-input-1-a2323bf97049> (209): /content/output/Muc1_Ecad_SPC_x20_2_XY10_00002_CH3_segmented_0.tif is a low contrast image\n",
            "<ipython-input-1-a2323bf97049> (211): /content/output/Muc1_Ecad_SPC_x20_2_XY10_00002_CH3_merged_0.tif is a low contrast image\n",
            "WARNING:matplotlib.image:Clipping input data to the valid range for imshow with RGB data ([0..1] for floats or [0..255] for integers).\n"
          ]
        },
        {
          "output_type": "stream",
          "name": "stdout",
          "text": [
            "Processing file: /content/output/grayscale_tiff/Muc1_Ecad_SPC_x20_2_XY10_00002_CH3_gray_1.tif\n",
            "Processing image from file /content/output/grayscale_tiff/Muc1_Ecad_SPC_x20_2_XY10_00002_CH3_gray_1.tif\n",
            "Image shape: (120, 160), Image dtype: uint8\n"
          ]
        },
        {
          "output_type": "stream",
          "name": "stderr",
          "text": [
            "<ipython-input-1-a2323bf97049> (209): /content/output/Muc1_Ecad_SPC_x20_2_XY10_00002_CH3_segmented_1.tif is a low contrast image\n",
            "<ipython-input-1-a2323bf97049> (211): /content/output/Muc1_Ecad_SPC_x20_2_XY10_00002_CH3_merged_1.tif is a low contrast image\n"
          ]
        },
        {
          "output_type": "stream",
          "name": "stdout",
          "text": [
            "Processing file: /content/output/upsampled_tiff/Muc1_Ecad_SPC_x20_2_XY10_00002_CH3_1_out.tif\n",
            "Processing image from file /content/output/upsampled_tiff/Muc1_Ecad_SPC_x20_2_XY10_00002_CH3_1_out.tif\n",
            "Image shape: (720, 960, 3), Image dtype: uint8\n"
          ]
        },
        {
          "output_type": "stream",
          "name": "stderr",
          "text": [
            "<ipython-input-1-a2323bf97049> (209): /content/output/Muc1_Ecad_SPC_x20_2_XY10_00002_CH3_segmented_2.tif is a low contrast image\n",
            "<ipython-input-1-a2323bf97049> (211): /content/output/Muc1_Ecad_SPC_x20_2_XY10_00002_CH3_merged_2.tif is a low contrast image\n",
            "WARNING:matplotlib.image:Clipping input data to the valid range for imshow with RGB data ([0..1] for floats or [0..255] for integers).\n"
          ]
        },
        {
          "output_type": "stream",
          "name": "stdout",
          "text": [
            "Processing file: /content/sample_data/mono/Muc1_Ecad_SPC_x20_2_XY10_00003_CH3.tif\n",
            "Processing image from file /content/sample_data/mono/Muc1_Ecad_SPC_x20_2_XY10_00003_CH3.tif\n",
            "Image shape: (720, 960), Image dtype: uint8\n"
          ]
        },
        {
          "output_type": "stream",
          "name": "stderr",
          "text": [
            "<ipython-input-1-a2323bf97049> (209): /content/output/Muc1_Ecad_SPC_x20_2_XY10_00003_CH3_segmented_0.tif is a low contrast image\n",
            "<ipython-input-1-a2323bf97049> (211): /content/output/Muc1_Ecad_SPC_x20_2_XY10_00003_CH3_merged_0.tif is a low contrast image\n",
            "WARNING:matplotlib.image:Clipping input data to the valid range for imshow with RGB data ([0..1] for floats or [0..255] for integers).\n"
          ]
        },
        {
          "output_type": "stream",
          "name": "stdout",
          "text": [
            "Processing file: /content/output/grayscale_tiff/Muc1_Ecad_SPC_x20_2_XY10_00003_CH3_gray_1.tif\n",
            "Processing image from file /content/output/grayscale_tiff/Muc1_Ecad_SPC_x20_2_XY10_00003_CH3_gray_1.tif\n",
            "Image shape: (120, 160), Image dtype: uint8\n"
          ]
        },
        {
          "output_type": "stream",
          "name": "stderr",
          "text": [
            "<ipython-input-1-a2323bf97049> (209): /content/output/Muc1_Ecad_SPC_x20_2_XY10_00003_CH3_segmented_1.tif is a low contrast image\n",
            "<ipython-input-1-a2323bf97049> (211): /content/output/Muc1_Ecad_SPC_x20_2_XY10_00003_CH3_merged_1.tif is a low contrast image\n"
          ]
        },
        {
          "output_type": "stream",
          "name": "stdout",
          "text": [
            "Processing file: /content/output/upsampled_tiff/Muc1_Ecad_SPC_x20_2_XY10_00003_CH3_1_out.tif\n",
            "Processing image from file /content/output/upsampled_tiff/Muc1_Ecad_SPC_x20_2_XY10_00003_CH3_1_out.tif\n",
            "Image shape: (720, 960, 3), Image dtype: uint8\n"
          ]
        },
        {
          "output_type": "stream",
          "name": "stderr",
          "text": [
            "<ipython-input-1-a2323bf97049> (209): /content/output/Muc1_Ecad_SPC_x20_2_XY10_00003_CH3_segmented_2.tif is a low contrast image\n",
            "<ipython-input-1-a2323bf97049> (211): /content/output/Muc1_Ecad_SPC_x20_2_XY10_00003_CH3_merged_2.tif is a low contrast image\n",
            "WARNING:matplotlib.image:Clipping input data to the valid range for imshow with RGB data ([0..1] for floats or [0..255] for integers).\n"
          ]
        },
        {
          "output_type": "stream",
          "name": "stdout",
          "text": [
            "Processing file: /content/sample_data/mono/Muc1_Ecad_SPC_x20_2_XY10_00004_CH3.tif\n",
            "Processing image from file /content/sample_data/mono/Muc1_Ecad_SPC_x20_2_XY10_00004_CH3.tif\n",
            "Image shape: (720, 960), Image dtype: uint8\n"
          ]
        },
        {
          "output_type": "stream",
          "name": "stderr",
          "text": [
            "<ipython-input-1-a2323bf97049> (209): /content/output/Muc1_Ecad_SPC_x20_2_XY10_00004_CH3_segmented_0.tif is a low contrast image\n",
            "<ipython-input-1-a2323bf97049> (211): /content/output/Muc1_Ecad_SPC_x20_2_XY10_00004_CH3_merged_0.tif is a low contrast image\n",
            "WARNING:matplotlib.image:Clipping input data to the valid range for imshow with RGB data ([0..1] for floats or [0..255] for integers).\n"
          ]
        },
        {
          "output_type": "stream",
          "name": "stdout",
          "text": [
            "Processing file: /content/output/grayscale_tiff/Muc1_Ecad_SPC_x20_2_XY10_00004_CH3_gray_1.tif\n",
            "Processing image from file /content/output/grayscale_tiff/Muc1_Ecad_SPC_x20_2_XY10_00004_CH3_gray_1.tif\n",
            "Image shape: (120, 160), Image dtype: uint8\n"
          ]
        },
        {
          "output_type": "stream",
          "name": "stderr",
          "text": [
            "<ipython-input-1-a2323bf97049> (209): /content/output/Muc1_Ecad_SPC_x20_2_XY10_00004_CH3_segmented_1.tif is a low contrast image\n",
            "<ipython-input-1-a2323bf97049> (211): /content/output/Muc1_Ecad_SPC_x20_2_XY10_00004_CH3_merged_1.tif is a low contrast image\n"
          ]
        },
        {
          "output_type": "stream",
          "name": "stdout",
          "text": [
            "Processing file: /content/output/upsampled_tiff/Muc1_Ecad_SPC_x20_2_XY10_00004_CH3_1_out.tif\n",
            "Processing image from file /content/output/upsampled_tiff/Muc1_Ecad_SPC_x20_2_XY10_00004_CH3_1_out.tif\n",
            "Image shape: (720, 960, 3), Image dtype: uint8\n"
          ]
        },
        {
          "output_type": "stream",
          "name": "stderr",
          "text": [
            "<ipython-input-1-a2323bf97049> (209): /content/output/Muc1_Ecad_SPC_x20_2_XY10_00004_CH3_segmented_2.tif is a low contrast image\n",
            "<ipython-input-1-a2323bf97049> (211): /content/output/Muc1_Ecad_SPC_x20_2_XY10_00004_CH3_merged_2.tif is a low contrast image\n"
          ]
        },
        {
          "output_type": "stream",
          "name": "stdout",
          "text": [
            "Processing file: /content/sample_data/mono/Muc1_Ecad_SPC_x20_2_XY10_00005_CH3.tif\n",
            "Processing image from file /content/sample_data/mono/Muc1_Ecad_SPC_x20_2_XY10_00005_CH3.tif\n",
            "Image shape: (720, 960), Image dtype: uint8\n"
          ]
        },
        {
          "output_type": "stream",
          "name": "stderr",
          "text": [
            "<ipython-input-1-a2323bf97049> (209): /content/output/Muc1_Ecad_SPC_x20_2_XY10_00005_CH3_segmented_0.tif is a low contrast image\n",
            "<ipython-input-1-a2323bf97049> (211): /content/output/Muc1_Ecad_SPC_x20_2_XY10_00005_CH3_merged_0.tif is a low contrast image\n"
          ]
        },
        {
          "output_type": "stream",
          "name": "stdout",
          "text": [
            "Processing file: /content/output/grayscale_tiff/Muc1_Ecad_SPC_x20_2_XY10_00005_CH3_gray_1.tif\n",
            "Processing image from file /content/output/grayscale_tiff/Muc1_Ecad_SPC_x20_2_XY10_00005_CH3_gray_1.tif\n",
            "Image shape: (120, 160), Image dtype: uint8\n"
          ]
        },
        {
          "output_type": "stream",
          "name": "stderr",
          "text": [
            "<ipython-input-1-a2323bf97049> (209): /content/output/Muc1_Ecad_SPC_x20_2_XY10_00005_CH3_segmented_1.tif is a low contrast image\n",
            "<ipython-input-1-a2323bf97049> (211): /content/output/Muc1_Ecad_SPC_x20_2_XY10_00005_CH3_merged_1.tif is a low contrast image\n"
          ]
        },
        {
          "output_type": "stream",
          "name": "stdout",
          "text": [
            "Processing file: /content/output/upsampled_tiff/Muc1_Ecad_SPC_x20_2_XY10_00005_CH3_1_out.tif\n",
            "Processing image from file /content/output/upsampled_tiff/Muc1_Ecad_SPC_x20_2_XY10_00005_CH3_1_out.tif\n",
            "Image shape: (720, 960, 3), Image dtype: uint8\n"
          ]
        },
        {
          "output_type": "stream",
          "name": "stderr",
          "text": [
            "<ipython-input-1-a2323bf97049> (209): /content/output/Muc1_Ecad_SPC_x20_2_XY10_00005_CH3_segmented_2.tif is a low contrast image\n",
            "<ipython-input-1-a2323bf97049> (211): /content/output/Muc1_Ecad_SPC_x20_2_XY10_00005_CH3_merged_2.tif is a low contrast image\n"
          ]
        },
        {
          "output_type": "stream",
          "name": "stdout",
          "text": [
            "Processing file: /content/sample_data/mono/Muc1_Ecad_SPC_x20_2_XY10_00006_CH3.tif\n",
            "Processing image from file /content/sample_data/mono/Muc1_Ecad_SPC_x20_2_XY10_00006_CH3.tif\n",
            "Image shape: (720, 960), Image dtype: uint8\n"
          ]
        },
        {
          "output_type": "stream",
          "name": "stderr",
          "text": [
            "<ipython-input-1-a2323bf97049> (209): /content/output/Muc1_Ecad_SPC_x20_2_XY10_00006_CH3_segmented_0.tif is a low contrast image\n",
            "<ipython-input-1-a2323bf97049> (211): /content/output/Muc1_Ecad_SPC_x20_2_XY10_00006_CH3_merged_0.tif is a low contrast image\n"
          ]
        },
        {
          "output_type": "stream",
          "name": "stdout",
          "text": [
            "Processing file: /content/output/grayscale_tiff/Muc1_Ecad_SPC_x20_2_XY10_00006_CH3_gray_1.tif\n",
            "Processing image from file /content/output/grayscale_tiff/Muc1_Ecad_SPC_x20_2_XY10_00006_CH3_gray_1.tif\n",
            "Image shape: (120, 160), Image dtype: uint8\n"
          ]
        },
        {
          "output_type": "stream",
          "name": "stderr",
          "text": [
            "<ipython-input-1-a2323bf97049> (209): /content/output/Muc1_Ecad_SPC_x20_2_XY10_00006_CH3_segmented_1.tif is a low contrast image\n",
            "<ipython-input-1-a2323bf97049> (211): /content/output/Muc1_Ecad_SPC_x20_2_XY10_00006_CH3_merged_1.tif is a low contrast image\n"
          ]
        },
        {
          "output_type": "stream",
          "name": "stdout",
          "text": [
            "Processing file: /content/output/upsampled_tiff/Muc1_Ecad_SPC_x20_2_XY10_00006_CH3_1_out.tif\n",
            "Processing image from file /content/output/upsampled_tiff/Muc1_Ecad_SPC_x20_2_XY10_00006_CH3_1_out.tif\n",
            "Image shape: (720, 960, 3), Image dtype: uint8\n"
          ]
        },
        {
          "output_type": "stream",
          "name": "stderr",
          "text": [
            "<ipython-input-1-a2323bf97049> (208): /content/output/Muc1_Ecad_SPC_x20_2_XY10_00006_CH3_original_2.tif is a low contrast image\n",
            "<ipython-input-1-a2323bf97049> (209): /content/output/Muc1_Ecad_SPC_x20_2_XY10_00006_CH3_segmented_2.tif is a low contrast image\n",
            "<ipython-input-1-a2323bf97049> (211): /content/output/Muc1_Ecad_SPC_x20_2_XY10_00006_CH3_merged_2.tif is a low contrast image\n"
          ]
        },
        {
          "output_type": "stream",
          "name": "stdout",
          "text": [
            "Processing file: /content/sample_data/mono/Muc1_Ecad_SPC_x20_2_XY10_00007_CH3.tif\n",
            "Processing image from file /content/sample_data/mono/Muc1_Ecad_SPC_x20_2_XY10_00007_CH3.tif\n",
            "Image shape: (720, 960), Image dtype: uint8\n"
          ]
        },
        {
          "output_type": "stream",
          "name": "stderr",
          "text": [
            "<ipython-input-1-a2323bf97049> (209): /content/output/Muc1_Ecad_SPC_x20_2_XY10_00007_CH3_segmented_0.tif is a low contrast image\n",
            "<ipython-input-1-a2323bf97049> (211): /content/output/Muc1_Ecad_SPC_x20_2_XY10_00007_CH3_merged_0.tif is a low contrast image\n",
            "WARNING:matplotlib.image:Clipping input data to the valid range for imshow with RGB data ([0..1] for floats or [0..255] for integers).\n"
          ]
        },
        {
          "output_type": "stream",
          "name": "stdout",
          "text": [
            "Processing file: /content/output/grayscale_tiff/Muc1_Ecad_SPC_x20_2_XY10_00007_CH3_gray_1.tif\n",
            "Processing image from file /content/output/grayscale_tiff/Muc1_Ecad_SPC_x20_2_XY10_00007_CH3_gray_1.tif\n",
            "Image shape: (120, 160), Image dtype: uint8\n"
          ]
        },
        {
          "output_type": "stream",
          "name": "stderr",
          "text": [
            "<ipython-input-1-a2323bf97049> (209): /content/output/Muc1_Ecad_SPC_x20_2_XY10_00007_CH3_segmented_1.tif is a low contrast image\n",
            "<ipython-input-1-a2323bf97049> (211): /content/output/Muc1_Ecad_SPC_x20_2_XY10_00007_CH3_merged_1.tif is a low contrast image\n"
          ]
        },
        {
          "output_type": "stream",
          "name": "stdout",
          "text": [
            "Processing file: /content/output/upsampled_tiff/Muc1_Ecad_SPC_x20_2_XY10_00007_CH3_1_out.tif\n",
            "Processing image from file /content/output/upsampled_tiff/Muc1_Ecad_SPC_x20_2_XY10_00007_CH3_1_out.tif\n",
            "Image shape: (720, 960, 3), Image dtype: uint8\n"
          ]
        },
        {
          "output_type": "stream",
          "name": "stderr",
          "text": [
            "<ipython-input-1-a2323bf97049> (209): /content/output/Muc1_Ecad_SPC_x20_2_XY10_00007_CH3_segmented_2.tif is a low contrast image\n",
            "<ipython-input-1-a2323bf97049> (211): /content/output/Muc1_Ecad_SPC_x20_2_XY10_00007_CH3_merged_2.tif is a low contrast image\n",
            "WARNING:matplotlib.image:Clipping input data to the valid range for imshow with RGB data ([0..1] for floats or [0..255] for integers).\n"
          ]
        },
        {
          "output_type": "stream",
          "name": "stdout",
          "text": [
            "Processing file: /content/sample_data/mono/Muc1_Ecad_SPC_x20_2_XY10_00008_CH3.tif\n",
            "Processing image from file /content/sample_data/mono/Muc1_Ecad_SPC_x20_2_XY10_00008_CH3.tif\n",
            "Image shape: (720, 960), Image dtype: uint8\n"
          ]
        },
        {
          "output_type": "stream",
          "name": "stderr",
          "text": [
            "<ipython-input-1-a2323bf97049> (209): /content/output/Muc1_Ecad_SPC_x20_2_XY10_00008_CH3_segmented_0.tif is a low contrast image\n",
            "<ipython-input-1-a2323bf97049> (211): /content/output/Muc1_Ecad_SPC_x20_2_XY10_00008_CH3_merged_0.tif is a low contrast image\n",
            "WARNING:matplotlib.image:Clipping input data to the valid range for imshow with RGB data ([0..1] for floats or [0..255] for integers).\n"
          ]
        },
        {
          "output_type": "stream",
          "name": "stdout",
          "text": [
            "Processing file: /content/output/grayscale_tiff/Muc1_Ecad_SPC_x20_2_XY10_00008_CH3_gray_1.tif\n",
            "Processing image from file /content/output/grayscale_tiff/Muc1_Ecad_SPC_x20_2_XY10_00008_CH3_gray_1.tif\n",
            "Image shape: (120, 160), Image dtype: uint8\n"
          ]
        },
        {
          "output_type": "stream",
          "name": "stderr",
          "text": [
            "<ipython-input-1-a2323bf97049> (209): /content/output/Muc1_Ecad_SPC_x20_2_XY10_00008_CH3_segmented_1.tif is a low contrast image\n",
            "<ipython-input-1-a2323bf97049> (211): /content/output/Muc1_Ecad_SPC_x20_2_XY10_00008_CH3_merged_1.tif is a low contrast image\n"
          ]
        },
        {
          "output_type": "stream",
          "name": "stdout",
          "text": [
            "Processing file: /content/output/upsampled_tiff/Muc1_Ecad_SPC_x20_2_XY10_00008_CH3_1_out.tif\n",
            "Processing image from file /content/output/upsampled_tiff/Muc1_Ecad_SPC_x20_2_XY10_00008_CH3_1_out.tif\n",
            "Image shape: (720, 960, 3), Image dtype: uint8\n"
          ]
        },
        {
          "output_type": "stream",
          "name": "stderr",
          "text": [
            "<ipython-input-1-a2323bf97049> (209): /content/output/Muc1_Ecad_SPC_x20_2_XY10_00008_CH3_segmented_2.tif is a low contrast image\n",
            "<ipython-input-1-a2323bf97049> (211): /content/output/Muc1_Ecad_SPC_x20_2_XY10_00008_CH3_merged_2.tif is a low contrast image\n",
            "WARNING:matplotlib.image:Clipping input data to the valid range for imshow with RGB data ([0..1] for floats or [0..255] for integers).\n"
          ]
        },
        {
          "output_type": "stream",
          "name": "stdout",
          "text": [
            "Processing file: /content/sample_data/mono/Muc1_Ecad_SPC_x20_2_XY10_00009_CH3.tif\n",
            "Processing image from file /content/sample_data/mono/Muc1_Ecad_SPC_x20_2_XY10_00009_CH3.tif\n",
            "Image shape: (720, 960), Image dtype: uint8\n"
          ]
        },
        {
          "output_type": "stream",
          "name": "stderr",
          "text": [
            "<ipython-input-1-a2323bf97049> (209): /content/output/Muc1_Ecad_SPC_x20_2_XY10_00009_CH3_segmented_0.tif is a low contrast image\n",
            "<ipython-input-1-a2323bf97049> (211): /content/output/Muc1_Ecad_SPC_x20_2_XY10_00009_CH3_merged_0.tif is a low contrast image\n",
            "WARNING:matplotlib.image:Clipping input data to the valid range for imshow with RGB data ([0..1] for floats or [0..255] for integers).\n"
          ]
        },
        {
          "output_type": "stream",
          "name": "stdout",
          "text": [
            "Processing file: /content/output/grayscale_tiff/Muc1_Ecad_SPC_x20_2_XY10_00009_CH3_gray_1.tif\n",
            "Processing image from file /content/output/grayscale_tiff/Muc1_Ecad_SPC_x20_2_XY10_00009_CH3_gray_1.tif\n",
            "Image shape: (120, 160), Image dtype: uint8\n"
          ]
        },
        {
          "output_type": "stream",
          "name": "stderr",
          "text": [
            "<ipython-input-1-a2323bf97049> (209): /content/output/Muc1_Ecad_SPC_x20_2_XY10_00009_CH3_segmented_1.tif is a low contrast image\n",
            "<ipython-input-1-a2323bf97049> (211): /content/output/Muc1_Ecad_SPC_x20_2_XY10_00009_CH3_merged_1.tif is a low contrast image\n"
          ]
        },
        {
          "output_type": "stream",
          "name": "stdout",
          "text": [
            "Processing file: /content/output/upsampled_tiff/Muc1_Ecad_SPC_x20_2_XY10_00009_CH3_1_out.tif\n",
            "Processing image from file /content/output/upsampled_tiff/Muc1_Ecad_SPC_x20_2_XY10_00009_CH3_1_out.tif\n",
            "Image shape: (720, 960, 3), Image dtype: uint8\n"
          ]
        },
        {
          "output_type": "stream",
          "name": "stderr",
          "text": [
            "<ipython-input-1-a2323bf97049> (209): /content/output/Muc1_Ecad_SPC_x20_2_XY10_00009_CH3_segmented_2.tif is a low contrast image\n",
            "<ipython-input-1-a2323bf97049> (211): /content/output/Muc1_Ecad_SPC_x20_2_XY10_00009_CH3_merged_2.tif is a low contrast image\n",
            "WARNING:matplotlib.image:Clipping input data to the valid range for imshow with RGB data ([0..1] for floats or [0..255] for integers).\n"
          ]
        },
        {
          "output_type": "stream",
          "name": "stdout",
          "text": [
            "Processing file: /content/sample_data/mono/Muc1_Ecad_SPC_x20_2_XY10_00010_CH3.tif\n",
            "Processing image from file /content/sample_data/mono/Muc1_Ecad_SPC_x20_2_XY10_00010_CH3.tif\n",
            "Image shape: (720, 960), Image dtype: uint8\n"
          ]
        },
        {
          "output_type": "stream",
          "name": "stderr",
          "text": [
            "<ipython-input-1-a2323bf97049> (209): /content/output/Muc1_Ecad_SPC_x20_2_XY10_00010_CH3_segmented_0.tif is a low contrast image\n",
            "<ipython-input-1-a2323bf97049> (211): /content/output/Muc1_Ecad_SPC_x20_2_XY10_00010_CH3_merged_0.tif is a low contrast image\n",
            "WARNING:matplotlib.image:Clipping input data to the valid range for imshow with RGB data ([0..1] for floats or [0..255] for integers).\n"
          ]
        },
        {
          "output_type": "stream",
          "name": "stdout",
          "text": [
            "Processing file: /content/output/grayscale_tiff/Muc1_Ecad_SPC_x20_2_XY10_00010_CH3_gray_1.tif\n",
            "Processing image from file /content/output/grayscale_tiff/Muc1_Ecad_SPC_x20_2_XY10_00010_CH3_gray_1.tif\n",
            "Image shape: (120, 160), Image dtype: uint8\n"
          ]
        },
        {
          "output_type": "stream",
          "name": "stderr",
          "text": [
            "<ipython-input-1-a2323bf97049> (209): /content/output/Muc1_Ecad_SPC_x20_2_XY10_00010_CH3_segmented_1.tif is a low contrast image\n",
            "<ipython-input-1-a2323bf97049> (211): /content/output/Muc1_Ecad_SPC_x20_2_XY10_00010_CH3_merged_1.tif is a low contrast image\n"
          ]
        },
        {
          "output_type": "stream",
          "name": "stdout",
          "text": [
            "Processing file: /content/output/upsampled_tiff/Muc1_Ecad_SPC_x20_2_XY10_00010_CH3_1_out.tif\n",
            "Processing image from file /content/output/upsampled_tiff/Muc1_Ecad_SPC_x20_2_XY10_00010_CH3_1_out.tif\n",
            "Image shape: (720, 960, 3), Image dtype: uint8\n"
          ]
        },
        {
          "output_type": "stream",
          "name": "stderr",
          "text": [
            "<ipython-input-1-a2323bf97049> (209): /content/output/Muc1_Ecad_SPC_x20_2_XY10_00010_CH3_segmented_2.tif is a low contrast image\n",
            "<ipython-input-1-a2323bf97049> (211): /content/output/Muc1_Ecad_SPC_x20_2_XY10_00010_CH3_merged_2.tif is a low contrast image\n",
            "WARNING:matplotlib.image:Clipping input data to the valid range for imshow with RGB data ([0..1] for floats or [0..255] for integers).\n"
          ]
        },
        {
          "output_type": "stream",
          "name": "stdout",
          "text": [
            "Processing file: /content/sample_data/mono/Muc1_Ecad_SPC_x20_2_XY10_00011_CH3.tif\n",
            "Processing image from file /content/sample_data/mono/Muc1_Ecad_SPC_x20_2_XY10_00011_CH3.tif\n",
            "Image shape: (720, 960), Image dtype: uint8\n"
          ]
        },
        {
          "output_type": "stream",
          "name": "stderr",
          "text": [
            "<ipython-input-1-a2323bf97049> (209): /content/output/Muc1_Ecad_SPC_x20_2_XY10_00011_CH3_segmented_0.tif is a low contrast image\n",
            "<ipython-input-1-a2323bf97049> (211): /content/output/Muc1_Ecad_SPC_x20_2_XY10_00011_CH3_merged_0.tif is a low contrast image\n",
            "WARNING:matplotlib.image:Clipping input data to the valid range for imshow with RGB data ([0..1] for floats or [0..255] for integers).\n"
          ]
        },
        {
          "output_type": "stream",
          "name": "stdout",
          "text": [
            "Processing file: /content/output/grayscale_tiff/Muc1_Ecad_SPC_x20_2_XY10_00011_CH3_gray_1.tif\n",
            "Processing image from file /content/output/grayscale_tiff/Muc1_Ecad_SPC_x20_2_XY10_00011_CH3_gray_1.tif\n",
            "Image shape: (120, 160), Image dtype: uint8\n"
          ]
        },
        {
          "output_type": "stream",
          "name": "stderr",
          "text": [
            "<ipython-input-1-a2323bf97049> (209): /content/output/Muc1_Ecad_SPC_x20_2_XY10_00011_CH3_segmented_1.tif is a low contrast image\n",
            "<ipython-input-1-a2323bf97049> (211): /content/output/Muc1_Ecad_SPC_x20_2_XY10_00011_CH3_merged_1.tif is a low contrast image\n"
          ]
        },
        {
          "output_type": "stream",
          "name": "stdout",
          "text": [
            "Processing file: /content/output/upsampled_tiff/Muc1_Ecad_SPC_x20_2_XY10_00011_CH3_1_out.tif\n",
            "Processing image from file /content/output/upsampled_tiff/Muc1_Ecad_SPC_x20_2_XY10_00011_CH3_1_out.tif\n",
            "Image shape: (720, 960, 3), Image dtype: uint8\n"
          ]
        },
        {
          "output_type": "stream",
          "name": "stderr",
          "text": [
            "<ipython-input-1-a2323bf97049> (209): /content/output/Muc1_Ecad_SPC_x20_2_XY10_00011_CH3_segmented_2.tif is a low contrast image\n",
            "<ipython-input-1-a2323bf97049> (211): /content/output/Muc1_Ecad_SPC_x20_2_XY10_00011_CH3_merged_2.tif is a low contrast image\n",
            "WARNING:matplotlib.image:Clipping input data to the valid range for imshow with RGB data ([0..1] for floats or [0..255] for integers).\n"
          ]
        },
        {
          "output_type": "stream",
          "name": "stdout",
          "text": [
            "Processing file: /content/sample_data/mono/Muc1_Ecad_SPC_x20_2_XY10_00012_CH3.tif\n",
            "Processing image from file /content/sample_data/mono/Muc1_Ecad_SPC_x20_2_XY10_00012_CH3.tif\n",
            "Image shape: (720, 960), Image dtype: uint8\n"
          ]
        },
        {
          "output_type": "stream",
          "name": "stderr",
          "text": [
            "<ipython-input-1-a2323bf97049> (209): /content/output/Muc1_Ecad_SPC_x20_2_XY10_00012_CH3_segmented_0.tif is a low contrast image\n",
            "<ipython-input-1-a2323bf97049> (211): /content/output/Muc1_Ecad_SPC_x20_2_XY10_00012_CH3_merged_0.tif is a low contrast image\n",
            "WARNING:matplotlib.image:Clipping input data to the valid range for imshow with RGB data ([0..1] for floats or [0..255] for integers).\n"
          ]
        },
        {
          "output_type": "stream",
          "name": "stdout",
          "text": [
            "Processing file: /content/output/grayscale_tiff/Muc1_Ecad_SPC_x20_2_XY10_00012_CH3_gray_1.tif\n",
            "Processing image from file /content/output/grayscale_tiff/Muc1_Ecad_SPC_x20_2_XY10_00012_CH3_gray_1.tif\n",
            "Image shape: (120, 160), Image dtype: uint8\n"
          ]
        },
        {
          "output_type": "stream",
          "name": "stderr",
          "text": [
            "<ipython-input-1-a2323bf97049> (209): /content/output/Muc1_Ecad_SPC_x20_2_XY10_00012_CH3_segmented_1.tif is a low contrast image\n",
            "<ipython-input-1-a2323bf97049> (211): /content/output/Muc1_Ecad_SPC_x20_2_XY10_00012_CH3_merged_1.tif is a low contrast image\n"
          ]
        },
        {
          "output_type": "stream",
          "name": "stdout",
          "text": [
            "Processing file: /content/output/upsampled_tiff/Muc1_Ecad_SPC_x20_2_XY10_00012_CH3_1_out.tif\n",
            "Processing image from file /content/output/upsampled_tiff/Muc1_Ecad_SPC_x20_2_XY10_00012_CH3_1_out.tif\n",
            "Image shape: (720, 960, 3), Image dtype: uint8\n"
          ]
        },
        {
          "output_type": "stream",
          "name": "stderr",
          "text": [
            "<ipython-input-1-a2323bf97049> (209): /content/output/Muc1_Ecad_SPC_x20_2_XY10_00012_CH3_segmented_2.tif is a low contrast image\n",
            "<ipython-input-1-a2323bf97049> (211): /content/output/Muc1_Ecad_SPC_x20_2_XY10_00012_CH3_merged_2.tif is a low contrast image\n",
            "WARNING:matplotlib.image:Clipping input data to the valid range for imshow with RGB data ([0..1] for floats or [0..255] for integers).\n"
          ]
        },
        {
          "output_type": "stream",
          "name": "stdout",
          "text": [
            "Processing file: /content/sample_data/mono/Muc1_Ecad_SPC_x20_2_XY10_00013_CH3.tif\n",
            "Processing image from file /content/sample_data/mono/Muc1_Ecad_SPC_x20_2_XY10_00013_CH3.tif\n",
            "Image shape: (720, 960), Image dtype: uint8\n"
          ]
        },
        {
          "output_type": "stream",
          "name": "stderr",
          "text": [
            "<ipython-input-1-a2323bf97049> (209): /content/output/Muc1_Ecad_SPC_x20_2_XY10_00013_CH3_segmented_0.tif is a low contrast image\n",
            "<ipython-input-1-a2323bf97049> (211): /content/output/Muc1_Ecad_SPC_x20_2_XY10_00013_CH3_merged_0.tif is a low contrast image\n",
            "WARNING:matplotlib.image:Clipping input data to the valid range for imshow with RGB data ([0..1] for floats or [0..255] for integers).\n"
          ]
        },
        {
          "output_type": "stream",
          "name": "stdout",
          "text": [
            "Processing file: /content/output/grayscale_tiff/Muc1_Ecad_SPC_x20_2_XY10_00013_CH3_gray_1.tif\n",
            "Processing image from file /content/output/grayscale_tiff/Muc1_Ecad_SPC_x20_2_XY10_00013_CH3_gray_1.tif\n",
            "Image shape: (120, 160), Image dtype: uint8\n"
          ]
        },
        {
          "output_type": "stream",
          "name": "stderr",
          "text": [
            "<ipython-input-1-a2323bf97049> (209): /content/output/Muc1_Ecad_SPC_x20_2_XY10_00013_CH3_segmented_1.tif is a low contrast image\n",
            "<ipython-input-1-a2323bf97049> (211): /content/output/Muc1_Ecad_SPC_x20_2_XY10_00013_CH3_merged_1.tif is a low contrast image\n"
          ]
        },
        {
          "output_type": "stream",
          "name": "stdout",
          "text": [
            "Processing file: /content/output/upsampled_tiff/Muc1_Ecad_SPC_x20_2_XY10_00013_CH3_1_out.tif\n",
            "Processing image from file /content/output/upsampled_tiff/Muc1_Ecad_SPC_x20_2_XY10_00013_CH3_1_out.tif\n",
            "Image shape: (720, 960, 3), Image dtype: uint8\n"
          ]
        },
        {
          "output_type": "stream",
          "name": "stderr",
          "text": [
            "<ipython-input-1-a2323bf97049> (209): /content/output/Muc1_Ecad_SPC_x20_2_XY10_00013_CH3_segmented_2.tif is a low contrast image\n",
            "<ipython-input-1-a2323bf97049> (211): /content/output/Muc1_Ecad_SPC_x20_2_XY10_00013_CH3_merged_2.tif is a low contrast image\n",
            "WARNING:matplotlib.image:Clipping input data to the valid range for imshow with RGB data ([0..1] for floats or [0..255] for integers).\n"
          ]
        },
        {
          "output_type": "stream",
          "name": "stdout",
          "text": [
            "Processing file: /content/sample_data/mono/Muc1_Ecad_SPC_x20_2_XY10_00014_CH3.tif\n",
            "Processing image from file /content/sample_data/mono/Muc1_Ecad_SPC_x20_2_XY10_00014_CH3.tif\n",
            "Image shape: (720, 960), Image dtype: uint8\n"
          ]
        },
        {
          "output_type": "stream",
          "name": "stderr",
          "text": [
            "<ipython-input-1-a2323bf97049> (209): /content/output/Muc1_Ecad_SPC_x20_2_XY10_00014_CH3_segmented_0.tif is a low contrast image\n",
            "<ipython-input-1-a2323bf97049> (211): /content/output/Muc1_Ecad_SPC_x20_2_XY10_00014_CH3_merged_0.tif is a low contrast image\n",
            "WARNING:matplotlib.image:Clipping input data to the valid range for imshow with RGB data ([0..1] for floats or [0..255] for integers).\n"
          ]
        },
        {
          "output_type": "stream",
          "name": "stdout",
          "text": [
            "Processing file: /content/output/grayscale_tiff/Muc1_Ecad_SPC_x20_2_XY10_00014_CH3_gray_1.tif\n",
            "Processing image from file /content/output/grayscale_tiff/Muc1_Ecad_SPC_x20_2_XY10_00014_CH3_gray_1.tif\n",
            "Image shape: (120, 160), Image dtype: uint8\n"
          ]
        },
        {
          "output_type": "stream",
          "name": "stderr",
          "text": [
            "<ipython-input-1-a2323bf97049> (209): /content/output/Muc1_Ecad_SPC_x20_2_XY10_00014_CH3_segmented_1.tif is a low contrast image\n",
            "<ipython-input-1-a2323bf97049> (211): /content/output/Muc1_Ecad_SPC_x20_2_XY10_00014_CH3_merged_1.tif is a low contrast image\n"
          ]
        },
        {
          "output_type": "stream",
          "name": "stdout",
          "text": [
            "Processing file: /content/output/upsampled_tiff/Muc1_Ecad_SPC_x20_2_XY10_00014_CH3_1_out.tif\n",
            "Processing image from file /content/output/upsampled_tiff/Muc1_Ecad_SPC_x20_2_XY10_00014_CH3_1_out.tif\n",
            "Image shape: (720, 960, 3), Image dtype: uint8\n"
          ]
        },
        {
          "output_type": "stream",
          "name": "stderr",
          "text": [
            "<ipython-input-1-a2323bf97049> (209): /content/output/Muc1_Ecad_SPC_x20_2_XY10_00014_CH3_segmented_2.tif is a low contrast image\n",
            "<ipython-input-1-a2323bf97049> (211): /content/output/Muc1_Ecad_SPC_x20_2_XY10_00014_CH3_merged_2.tif is a low contrast image\n",
            "WARNING:matplotlib.image:Clipping input data to the valid range for imshow with RGB data ([0..1] for floats or [0..255] for integers).\n"
          ]
        },
        {
          "output_type": "stream",
          "name": "stdout",
          "text": [
            "Processing file: /content/sample_data/mono/Muc1_Ecad_SPC_x20_2_XY10_00015_CH3.tif\n",
            "Processing image from file /content/sample_data/mono/Muc1_Ecad_SPC_x20_2_XY10_00015_CH3.tif\n",
            "Image shape: (720, 960), Image dtype: uint8\n"
          ]
        },
        {
          "output_type": "stream",
          "name": "stderr",
          "text": [
            "<ipython-input-1-a2323bf97049> (209): /content/output/Muc1_Ecad_SPC_x20_2_XY10_00015_CH3_segmented_0.tif is a low contrast image\n",
            "<ipython-input-1-a2323bf97049> (211): /content/output/Muc1_Ecad_SPC_x20_2_XY10_00015_CH3_merged_0.tif is a low contrast image\n",
            "WARNING:matplotlib.image:Clipping input data to the valid range for imshow with RGB data ([0..1] for floats or [0..255] for integers).\n"
          ]
        },
        {
          "output_type": "stream",
          "name": "stdout",
          "text": [
            "Processing file: /content/output/grayscale_tiff/Muc1_Ecad_SPC_x20_2_XY10_00015_CH3_gray_1.tif\n",
            "Processing image from file /content/output/grayscale_tiff/Muc1_Ecad_SPC_x20_2_XY10_00015_CH3_gray_1.tif\n",
            "Image shape: (120, 160), Image dtype: uint8\n"
          ]
        },
        {
          "output_type": "stream",
          "name": "stderr",
          "text": [
            "<ipython-input-1-a2323bf97049> (209): /content/output/Muc1_Ecad_SPC_x20_2_XY10_00015_CH3_segmented_1.tif is a low contrast image\n",
            "<ipython-input-1-a2323bf97049> (211): /content/output/Muc1_Ecad_SPC_x20_2_XY10_00015_CH3_merged_1.tif is a low contrast image\n"
          ]
        },
        {
          "output_type": "stream",
          "name": "stdout",
          "text": [
            "Processing file: /content/output/upsampled_tiff/Muc1_Ecad_SPC_x20_2_XY10_00015_CH3_1_out.tif\n",
            "Processing image from file /content/output/upsampled_tiff/Muc1_Ecad_SPC_x20_2_XY10_00015_CH3_1_out.tif\n",
            "Image shape: (720, 960, 3), Image dtype: uint8\n"
          ]
        },
        {
          "output_type": "stream",
          "name": "stderr",
          "text": [
            "<ipython-input-1-a2323bf97049> (209): /content/output/Muc1_Ecad_SPC_x20_2_XY10_00015_CH3_segmented_2.tif is a low contrast image\n",
            "<ipython-input-1-a2323bf97049> (211): /content/output/Muc1_Ecad_SPC_x20_2_XY10_00015_CH3_merged_2.tif is a low contrast image\n",
            "WARNING:matplotlib.image:Clipping input data to the valid range for imshow with RGB data ([0..1] for floats or [0..255] for integers).\n"
          ]
        },
        {
          "output_type": "stream",
          "name": "stdout",
          "text": [
            "Processing file: /content/sample_data/mono/Muc1_Ecad_SPC_x20_2_XY10_00016_CH3.tif\n",
            "Processing image from file /content/sample_data/mono/Muc1_Ecad_SPC_x20_2_XY10_00016_CH3.tif\n",
            "Image shape: (720, 960), Image dtype: uint8\n"
          ]
        },
        {
          "output_type": "stream",
          "name": "stderr",
          "text": [
            "<ipython-input-1-a2323bf97049> (209): /content/output/Muc1_Ecad_SPC_x20_2_XY10_00016_CH3_segmented_0.tif is a low contrast image\n",
            "<ipython-input-1-a2323bf97049> (211): /content/output/Muc1_Ecad_SPC_x20_2_XY10_00016_CH3_merged_0.tif is a low contrast image\n",
            "WARNING:matplotlib.image:Clipping input data to the valid range for imshow with RGB data ([0..1] for floats or [0..255] for integers).\n"
          ]
        },
        {
          "output_type": "stream",
          "name": "stdout",
          "text": [
            "Processing file: /content/output/grayscale_tiff/Muc1_Ecad_SPC_x20_2_XY10_00016_CH3_gray_1.tif\n",
            "Processing image from file /content/output/grayscale_tiff/Muc1_Ecad_SPC_x20_2_XY10_00016_CH3_gray_1.tif\n",
            "Image shape: (120, 160), Image dtype: uint8\n"
          ]
        },
        {
          "output_type": "stream",
          "name": "stderr",
          "text": [
            "<ipython-input-1-a2323bf97049> (209): /content/output/Muc1_Ecad_SPC_x20_2_XY10_00016_CH3_segmented_1.tif is a low contrast image\n",
            "<ipython-input-1-a2323bf97049> (211): /content/output/Muc1_Ecad_SPC_x20_2_XY10_00016_CH3_merged_1.tif is a low contrast image\n"
          ]
        },
        {
          "output_type": "stream",
          "name": "stdout",
          "text": [
            "Processing file: /content/output/upsampled_tiff/Muc1_Ecad_SPC_x20_2_XY10_00016_CH3_1_out.tif\n",
            "Processing image from file /content/output/upsampled_tiff/Muc1_Ecad_SPC_x20_2_XY10_00016_CH3_1_out.tif\n",
            "Image shape: (720, 960, 3), Image dtype: uint8\n"
          ]
        },
        {
          "output_type": "stream",
          "name": "stderr",
          "text": [
            "<ipython-input-1-a2323bf97049> (209): /content/output/Muc1_Ecad_SPC_x20_2_XY10_00016_CH3_segmented_2.tif is a low contrast image\n",
            "<ipython-input-1-a2323bf97049> (211): /content/output/Muc1_Ecad_SPC_x20_2_XY10_00016_CH3_merged_2.tif is a low contrast image\n",
            "WARNING:matplotlib.image:Clipping input data to the valid range for imshow with RGB data ([0..1] for floats or [0..255] for integers).\n"
          ]
        },
        {
          "output_type": "stream",
          "name": "stdout",
          "text": [
            "Processing file: /content/sample_data/mono/Muc1_Ecad_SPC_x20_2_XY10_00017_CH3.tif\n",
            "Processing image from file /content/sample_data/mono/Muc1_Ecad_SPC_x20_2_XY10_00017_CH3.tif\n",
            "Image shape: (720, 960), Image dtype: uint8\n"
          ]
        },
        {
          "output_type": "stream",
          "name": "stderr",
          "text": [
            "<ipython-input-1-a2323bf97049> (209): /content/output/Muc1_Ecad_SPC_x20_2_XY10_00017_CH3_segmented_0.tif is a low contrast image\n",
            "<ipython-input-1-a2323bf97049> (211): /content/output/Muc1_Ecad_SPC_x20_2_XY10_00017_CH3_merged_0.tif is a low contrast image\n",
            "WARNING:matplotlib.image:Clipping input data to the valid range for imshow with RGB data ([0..1] for floats or [0..255] for integers).\n"
          ]
        },
        {
          "output_type": "stream",
          "name": "stdout",
          "text": [
            "Processing file: /content/output/grayscale_tiff/Muc1_Ecad_SPC_x20_2_XY10_00017_CH3_gray_1.tif\n",
            "Processing image from file /content/output/grayscale_tiff/Muc1_Ecad_SPC_x20_2_XY10_00017_CH3_gray_1.tif\n",
            "Image shape: (120, 160), Image dtype: uint8\n"
          ]
        },
        {
          "output_type": "stream",
          "name": "stderr",
          "text": [
            "<ipython-input-1-a2323bf97049> (209): /content/output/Muc1_Ecad_SPC_x20_2_XY10_00017_CH3_segmented_1.tif is a low contrast image\n",
            "<ipython-input-1-a2323bf97049> (211): /content/output/Muc1_Ecad_SPC_x20_2_XY10_00017_CH3_merged_1.tif is a low contrast image\n"
          ]
        },
        {
          "output_type": "stream",
          "name": "stdout",
          "text": [
            "Processing file: /content/output/upsampled_tiff/Muc1_Ecad_SPC_x20_2_XY10_00017_CH3_1_out.tif\n",
            "Processing image from file /content/output/upsampled_tiff/Muc1_Ecad_SPC_x20_2_XY10_00017_CH3_1_out.tif\n",
            "Image shape: (720, 960, 3), Image dtype: uint8\n"
          ]
        },
        {
          "output_type": "stream",
          "name": "stderr",
          "text": [
            "<ipython-input-1-a2323bf97049> (209): /content/output/Muc1_Ecad_SPC_x20_2_XY10_00017_CH3_segmented_2.tif is a low contrast image\n",
            "<ipython-input-1-a2323bf97049> (211): /content/output/Muc1_Ecad_SPC_x20_2_XY10_00017_CH3_merged_2.tif is a low contrast image\n",
            "WARNING:matplotlib.image:Clipping input data to the valid range for imshow with RGB data ([0..1] for floats or [0..255] for integers).\n"
          ]
        },
        {
          "output_type": "stream",
          "name": "stdout",
          "text": [
            "Processing file: /content/sample_data/mono/Muc1_Ecad_SPC_x20_2_XY10_00018_CH3.tif\n",
            "Processing image from file /content/sample_data/mono/Muc1_Ecad_SPC_x20_2_XY10_00018_CH3.tif\n",
            "Image shape: (720, 960), Image dtype: uint8\n"
          ]
        },
        {
          "output_type": "stream",
          "name": "stderr",
          "text": [
            "<ipython-input-1-a2323bf97049> (209): /content/output/Muc1_Ecad_SPC_x20_2_XY10_00018_CH3_segmented_0.tif is a low contrast image\n",
            "<ipython-input-1-a2323bf97049> (211): /content/output/Muc1_Ecad_SPC_x20_2_XY10_00018_CH3_merged_0.tif is a low contrast image\n",
            "WARNING:matplotlib.image:Clipping input data to the valid range for imshow with RGB data ([0..1] for floats or [0..255] for integers).\n"
          ]
        },
        {
          "output_type": "stream",
          "name": "stdout",
          "text": [
            "Processing file: /content/output/grayscale_tiff/Muc1_Ecad_SPC_x20_2_XY10_00018_CH3_gray_1.tif\n",
            "Processing image from file /content/output/grayscale_tiff/Muc1_Ecad_SPC_x20_2_XY10_00018_CH3_gray_1.tif\n",
            "Image shape: (120, 160), Image dtype: uint8\n"
          ]
        },
        {
          "output_type": "stream",
          "name": "stderr",
          "text": [
            "<ipython-input-1-a2323bf97049> (209): /content/output/Muc1_Ecad_SPC_x20_2_XY10_00018_CH3_segmented_1.tif is a low contrast image\n",
            "<ipython-input-1-a2323bf97049> (211): /content/output/Muc1_Ecad_SPC_x20_2_XY10_00018_CH3_merged_1.tif is a low contrast image\n"
          ]
        },
        {
          "output_type": "stream",
          "name": "stdout",
          "text": [
            "Processing file: /content/output/upsampled_tiff/Muc1_Ecad_SPC_x20_2_XY10_00018_CH3_1_out.tif\n",
            "Processing image from file /content/output/upsampled_tiff/Muc1_Ecad_SPC_x20_2_XY10_00018_CH3_1_out.tif\n",
            "Image shape: (720, 960, 3), Image dtype: uint8\n"
          ]
        },
        {
          "output_type": "stream",
          "name": "stderr",
          "text": [
            "<ipython-input-1-a2323bf97049> (209): /content/output/Muc1_Ecad_SPC_x20_2_XY10_00018_CH3_segmented_2.tif is a low contrast image\n",
            "<ipython-input-1-a2323bf97049> (211): /content/output/Muc1_Ecad_SPC_x20_2_XY10_00018_CH3_merged_2.tif is a low contrast image\n",
            "WARNING:matplotlib.image:Clipping input data to the valid range for imshow with RGB data ([0..1] for floats or [0..255] for integers).\n"
          ]
        },
        {
          "output_type": "stream",
          "name": "stdout",
          "text": [
            "Processing file: /content/sample_data/mono/Muc1_Ecad_SPC_x20_2_XY10_00019_CH3.tif\n",
            "Processing image from file /content/sample_data/mono/Muc1_Ecad_SPC_x20_2_XY10_00019_CH3.tif\n",
            "Image shape: (720, 960), Image dtype: uint8\n"
          ]
        },
        {
          "output_type": "stream",
          "name": "stderr",
          "text": [
            "<ipython-input-1-a2323bf97049> (209): /content/output/Muc1_Ecad_SPC_x20_2_XY10_00019_CH3_segmented_0.tif is a low contrast image\n",
            "<ipython-input-1-a2323bf97049> (211): /content/output/Muc1_Ecad_SPC_x20_2_XY10_00019_CH3_merged_0.tif is a low contrast image\n",
            "WARNING:matplotlib.image:Clipping input data to the valid range for imshow with RGB data ([0..1] for floats or [0..255] for integers).\n"
          ]
        },
        {
          "output_type": "stream",
          "name": "stdout",
          "text": [
            "Processing file: /content/output/grayscale_tiff/Muc1_Ecad_SPC_x20_2_XY10_00019_CH3_gray_1.tif\n",
            "Processing image from file /content/output/grayscale_tiff/Muc1_Ecad_SPC_x20_2_XY10_00019_CH3_gray_1.tif\n",
            "Image shape: (120, 160), Image dtype: uint8\n"
          ]
        },
        {
          "output_type": "stream",
          "name": "stderr",
          "text": [
            "<ipython-input-1-a2323bf97049> (209): /content/output/Muc1_Ecad_SPC_x20_2_XY10_00019_CH3_segmented_1.tif is a low contrast image\n",
            "<ipython-input-1-a2323bf97049> (211): /content/output/Muc1_Ecad_SPC_x20_2_XY10_00019_CH3_merged_1.tif is a low contrast image\n"
          ]
        },
        {
          "output_type": "stream",
          "name": "stdout",
          "text": [
            "Processing file: /content/output/upsampled_tiff/Muc1_Ecad_SPC_x20_2_XY10_00019_CH3_1_out.tif\n",
            "Processing image from file /content/output/upsampled_tiff/Muc1_Ecad_SPC_x20_2_XY10_00019_CH3_1_out.tif\n",
            "Image shape: (720, 960, 3), Image dtype: uint8\n"
          ]
        },
        {
          "output_type": "stream",
          "name": "stderr",
          "text": [
            "<ipython-input-1-a2323bf97049> (209): /content/output/Muc1_Ecad_SPC_x20_2_XY10_00019_CH3_segmented_2.tif is a low contrast image\n",
            "<ipython-input-1-a2323bf97049> (211): /content/output/Muc1_Ecad_SPC_x20_2_XY10_00019_CH3_merged_2.tif is a low contrast image\n",
            "WARNING:matplotlib.image:Clipping input data to the valid range for imshow with RGB data ([0..1] for floats or [0..255] for integers).\n"
          ]
        },
        {
          "output_type": "stream",
          "name": "stdout",
          "text": [
            "Processing file: /content/sample_data/mono/Muc1_Ecad_SPC_x20_2_XY10_00020_CH3.tif\n",
            "Processing image from file /content/sample_data/mono/Muc1_Ecad_SPC_x20_2_XY10_00020_CH3.tif\n",
            "Image shape: (720, 960), Image dtype: uint8\n"
          ]
        },
        {
          "output_type": "stream",
          "name": "stderr",
          "text": [
            "<ipython-input-1-a2323bf97049> (209): /content/output/Muc1_Ecad_SPC_x20_2_XY10_00020_CH3_segmented_0.tif is a low contrast image\n",
            "<ipython-input-1-a2323bf97049> (211): /content/output/Muc1_Ecad_SPC_x20_2_XY10_00020_CH3_merged_0.tif is a low contrast image\n",
            "WARNING:matplotlib.image:Clipping input data to the valid range for imshow with RGB data ([0..1] for floats or [0..255] for integers).\n"
          ]
        },
        {
          "output_type": "stream",
          "name": "stdout",
          "text": [
            "Processing file: /content/output/grayscale_tiff/Muc1_Ecad_SPC_x20_2_XY10_00020_CH3_gray_1.tif\n",
            "Processing image from file /content/output/grayscale_tiff/Muc1_Ecad_SPC_x20_2_XY10_00020_CH3_gray_1.tif\n",
            "Image shape: (120, 160), Image dtype: uint8\n"
          ]
        },
        {
          "output_type": "stream",
          "name": "stderr",
          "text": [
            "<ipython-input-1-a2323bf97049> (209): /content/output/Muc1_Ecad_SPC_x20_2_XY10_00020_CH3_segmented_1.tif is a low contrast image\n",
            "<ipython-input-1-a2323bf97049> (211): /content/output/Muc1_Ecad_SPC_x20_2_XY10_00020_CH3_merged_1.tif is a low contrast image\n"
          ]
        },
        {
          "output_type": "stream",
          "name": "stdout",
          "text": [
            "Processing file: /content/output/upsampled_tiff/Muc1_Ecad_SPC_x20_2_XY10_00020_CH3_1_out.tif\n",
            "Processing image from file /content/output/upsampled_tiff/Muc1_Ecad_SPC_x20_2_XY10_00020_CH3_1_out.tif\n",
            "Image shape: (720, 960, 3), Image dtype: uint8\n"
          ]
        },
        {
          "output_type": "stream",
          "name": "stderr",
          "text": [
            "<ipython-input-1-a2323bf97049> (209): /content/output/Muc1_Ecad_SPC_x20_2_XY10_00020_CH3_segmented_2.tif is a low contrast image\n",
            "<ipython-input-1-a2323bf97049> (211): /content/output/Muc1_Ecad_SPC_x20_2_XY10_00020_CH3_merged_2.tif is a low contrast image\n",
            "WARNING:matplotlib.image:Clipping input data to the valid range for imshow with RGB data ([0..1] for floats or [0..255] for integers).\n"
          ]
        },
        {
          "output_type": "stream",
          "name": "stdout",
          "text": [
            "Processing file: /content/sample_data/mono/Muc1_Ecad_SPC_x20_2_XY10_00021_CH3.tif\n",
            "Processing image from file /content/sample_data/mono/Muc1_Ecad_SPC_x20_2_XY10_00021_CH3.tif\n",
            "Image shape: (720, 960), Image dtype: uint8\n"
          ]
        },
        {
          "output_type": "stream",
          "name": "stderr",
          "text": [
            "<ipython-input-1-a2323bf97049> (209): /content/output/Muc1_Ecad_SPC_x20_2_XY10_00021_CH3_segmented_0.tif is a low contrast image\n",
            "<ipython-input-1-a2323bf97049> (211): /content/output/Muc1_Ecad_SPC_x20_2_XY10_00021_CH3_merged_0.tif is a low contrast image\n",
            "WARNING:matplotlib.image:Clipping input data to the valid range for imshow with RGB data ([0..1] for floats or [0..255] for integers).\n"
          ]
        },
        {
          "output_type": "stream",
          "name": "stdout",
          "text": [
            "Processing file: /content/output/grayscale_tiff/Muc1_Ecad_SPC_x20_2_XY10_00021_CH3_gray_1.tif\n",
            "Processing image from file /content/output/grayscale_tiff/Muc1_Ecad_SPC_x20_2_XY10_00021_CH3_gray_1.tif\n",
            "Image shape: (120, 160), Image dtype: uint8\n"
          ]
        },
        {
          "output_type": "stream",
          "name": "stderr",
          "text": [
            "<ipython-input-1-a2323bf97049> (209): /content/output/Muc1_Ecad_SPC_x20_2_XY10_00021_CH3_segmented_1.tif is a low contrast image\n",
            "<ipython-input-1-a2323bf97049> (211): /content/output/Muc1_Ecad_SPC_x20_2_XY10_00021_CH3_merged_1.tif is a low contrast image\n"
          ]
        },
        {
          "output_type": "stream",
          "name": "stdout",
          "text": [
            "Processing file: /content/output/upsampled_tiff/Muc1_Ecad_SPC_x20_2_XY10_00021_CH3_1_out.tif\n",
            "Processing image from file /content/output/upsampled_tiff/Muc1_Ecad_SPC_x20_2_XY10_00021_CH3_1_out.tif\n",
            "Image shape: (720, 960, 3), Image dtype: uint8\n"
          ]
        },
        {
          "output_type": "stream",
          "name": "stderr",
          "text": [
            "<ipython-input-1-a2323bf97049> (209): /content/output/Muc1_Ecad_SPC_x20_2_XY10_00021_CH3_segmented_2.tif is a low contrast image\n",
            "<ipython-input-1-a2323bf97049> (211): /content/output/Muc1_Ecad_SPC_x20_2_XY10_00021_CH3_merged_2.tif is a low contrast image\n",
            "WARNING:matplotlib.image:Clipping input data to the valid range for imshow with RGB data ([0..1] for floats or [0..255] for integers).\n"
          ]
        },
        {
          "output_type": "stream",
          "name": "stdout",
          "text": [
            "Processing file: /content/sample_data/mono/Muc1_Ecad_SPC_x20_2_XY10_00022_CH3.tif\n",
            "Processing image from file /content/sample_data/mono/Muc1_Ecad_SPC_x20_2_XY10_00022_CH3.tif\n",
            "Image shape: (720, 960), Image dtype: uint8\n"
          ]
        },
        {
          "output_type": "stream",
          "name": "stderr",
          "text": [
            "<ipython-input-1-a2323bf97049> (209): /content/output/Muc1_Ecad_SPC_x20_2_XY10_00022_CH3_segmented_0.tif is a low contrast image\n",
            "<ipython-input-1-a2323bf97049> (211): /content/output/Muc1_Ecad_SPC_x20_2_XY10_00022_CH3_merged_0.tif is a low contrast image\n",
            "WARNING:matplotlib.image:Clipping input data to the valid range for imshow with RGB data ([0..1] for floats or [0..255] for integers).\n"
          ]
        },
        {
          "output_type": "stream",
          "name": "stdout",
          "text": [
            "Processing file: /content/output/grayscale_tiff/Muc1_Ecad_SPC_x20_2_XY10_00022_CH3_gray_1.tif\n",
            "Processing image from file /content/output/grayscale_tiff/Muc1_Ecad_SPC_x20_2_XY10_00022_CH3_gray_1.tif\n",
            "Image shape: (120, 160), Image dtype: uint8\n"
          ]
        },
        {
          "output_type": "stream",
          "name": "stderr",
          "text": [
            "<ipython-input-1-a2323bf97049> (209): /content/output/Muc1_Ecad_SPC_x20_2_XY10_00022_CH3_segmented_1.tif is a low contrast image\n",
            "<ipython-input-1-a2323bf97049> (211): /content/output/Muc1_Ecad_SPC_x20_2_XY10_00022_CH3_merged_1.tif is a low contrast image\n"
          ]
        },
        {
          "output_type": "stream",
          "name": "stdout",
          "text": [
            "Processing file: /content/output/upsampled_tiff/Muc1_Ecad_SPC_x20_2_XY10_00022_CH3_1_out.tif\n",
            "Processing image from file /content/output/upsampled_tiff/Muc1_Ecad_SPC_x20_2_XY10_00022_CH3_1_out.tif\n",
            "Image shape: (720, 960, 3), Image dtype: uint8\n"
          ]
        },
        {
          "output_type": "stream",
          "name": "stderr",
          "text": [
            "<ipython-input-1-a2323bf97049> (209): /content/output/Muc1_Ecad_SPC_x20_2_XY10_00022_CH3_segmented_2.tif is a low contrast image\n",
            "<ipython-input-1-a2323bf97049> (211): /content/output/Muc1_Ecad_SPC_x20_2_XY10_00022_CH3_merged_2.tif is a low contrast image\n",
            "WARNING:matplotlib.image:Clipping input data to the valid range for imshow with RGB data ([0..1] for floats or [0..255] for integers).\n"
          ]
        },
        {
          "output_type": "stream",
          "name": "stdout",
          "text": [
            "Processing file: /content/sample_data/mono/Muc1_Ecad_SPC_x20_2_XY10_00023_CH3.tif\n",
            "Processing image from file /content/sample_data/mono/Muc1_Ecad_SPC_x20_2_XY10_00023_CH3.tif\n",
            "Image shape: (720, 960), Image dtype: uint8\n"
          ]
        },
        {
          "output_type": "stream",
          "name": "stderr",
          "text": [
            "<ipython-input-1-a2323bf97049> (209): /content/output/Muc1_Ecad_SPC_x20_2_XY10_00023_CH3_segmented_0.tif is a low contrast image\n",
            "<ipython-input-1-a2323bf97049> (211): /content/output/Muc1_Ecad_SPC_x20_2_XY10_00023_CH3_merged_0.tif is a low contrast image\n",
            "WARNING:matplotlib.image:Clipping input data to the valid range for imshow with RGB data ([0..1] for floats or [0..255] for integers).\n"
          ]
        },
        {
          "output_type": "stream",
          "name": "stdout",
          "text": [
            "Processing file: /content/output/grayscale_tiff/Muc1_Ecad_SPC_x20_2_XY10_00023_CH3_gray_1.tif\n",
            "Processing image from file /content/output/grayscale_tiff/Muc1_Ecad_SPC_x20_2_XY10_00023_CH3_gray_1.tif\n",
            "Image shape: (120, 160), Image dtype: uint8\n"
          ]
        },
        {
          "output_type": "stream",
          "name": "stderr",
          "text": [
            "<ipython-input-1-a2323bf97049> (209): /content/output/Muc1_Ecad_SPC_x20_2_XY10_00023_CH3_segmented_1.tif is a low contrast image\n",
            "<ipython-input-1-a2323bf97049> (211): /content/output/Muc1_Ecad_SPC_x20_2_XY10_00023_CH3_merged_1.tif is a low contrast image\n"
          ]
        },
        {
          "output_type": "stream",
          "name": "stdout",
          "text": [
            "Processing file: /content/output/upsampled_tiff/Muc1_Ecad_SPC_x20_2_XY10_00023_CH3_1_out.tif\n",
            "Processing image from file /content/output/upsampled_tiff/Muc1_Ecad_SPC_x20_2_XY10_00023_CH3_1_out.tif\n",
            "Image shape: (720, 960, 3), Image dtype: uint8\n"
          ]
        },
        {
          "output_type": "stream",
          "name": "stderr",
          "text": [
            "<ipython-input-1-a2323bf97049> (209): /content/output/Muc1_Ecad_SPC_x20_2_XY10_00023_CH3_segmented_2.tif is a low contrast image\n",
            "<ipython-input-1-a2323bf97049> (211): /content/output/Muc1_Ecad_SPC_x20_2_XY10_00023_CH3_merged_2.tif is a low contrast image\n",
            "WARNING:matplotlib.image:Clipping input data to the valid range for imshow with RGB data ([0..1] for floats or [0..255] for integers).\n"
          ]
        },
        {
          "output_type": "stream",
          "name": "stdout",
          "text": [
            "Processing file: /content/sample_data/mono/Muc1_Ecad_SPC_x20_2_XY10_00024_CH3.tif\n",
            "Processing image from file /content/sample_data/mono/Muc1_Ecad_SPC_x20_2_XY10_00024_CH3.tif\n",
            "Image shape: (720, 960), Image dtype: uint8\n"
          ]
        },
        {
          "output_type": "stream",
          "name": "stderr",
          "text": [
            "<ipython-input-1-a2323bf97049> (209): /content/output/Muc1_Ecad_SPC_x20_2_XY10_00024_CH3_segmented_0.tif is a low contrast image\n",
            "<ipython-input-1-a2323bf97049> (211): /content/output/Muc1_Ecad_SPC_x20_2_XY10_00024_CH3_merged_0.tif is a low contrast image\n",
            "WARNING:matplotlib.image:Clipping input data to the valid range for imshow with RGB data ([0..1] for floats or [0..255] for integers).\n"
          ]
        },
        {
          "output_type": "stream",
          "name": "stdout",
          "text": [
            "Processing file: /content/output/grayscale_tiff/Muc1_Ecad_SPC_x20_2_XY10_00024_CH3_gray_1.tif\n",
            "Processing image from file /content/output/grayscale_tiff/Muc1_Ecad_SPC_x20_2_XY10_00024_CH3_gray_1.tif\n",
            "Image shape: (120, 160), Image dtype: uint8\n"
          ]
        },
        {
          "output_type": "stream",
          "name": "stderr",
          "text": [
            "<ipython-input-1-a2323bf97049> (209): /content/output/Muc1_Ecad_SPC_x20_2_XY10_00024_CH3_segmented_1.tif is a low contrast image\n",
            "<ipython-input-1-a2323bf97049> (211): /content/output/Muc1_Ecad_SPC_x20_2_XY10_00024_CH3_merged_1.tif is a low contrast image\n"
          ]
        },
        {
          "output_type": "stream",
          "name": "stdout",
          "text": [
            "Processing file: /content/output/upsampled_tiff/Muc1_Ecad_SPC_x20_2_XY10_00024_CH3_1_out.tif\n",
            "Processing image from file /content/output/upsampled_tiff/Muc1_Ecad_SPC_x20_2_XY10_00024_CH3_1_out.tif\n",
            "Image shape: (720, 960, 3), Image dtype: uint8\n"
          ]
        },
        {
          "output_type": "stream",
          "name": "stderr",
          "text": [
            "<ipython-input-1-a2323bf97049> (209): /content/output/Muc1_Ecad_SPC_x20_2_XY10_00024_CH3_segmented_2.tif is a low contrast image\n",
            "<ipython-input-1-a2323bf97049> (211): /content/output/Muc1_Ecad_SPC_x20_2_XY10_00024_CH3_merged_2.tif is a low contrast image\n",
            "WARNING:matplotlib.image:Clipping input data to the valid range for imshow with RGB data ([0..1] for floats or [0..255] for integers).\n"
          ]
        },
        {
          "output_type": "stream",
          "name": "stdout",
          "text": [
            "Processing file: /content/sample_data/mono/Muc1_Ecad_SPC_x20_2_XY10_00025_CH3.tif\n",
            "Processing image from file /content/sample_data/mono/Muc1_Ecad_SPC_x20_2_XY10_00025_CH3.tif\n",
            "Image shape: (720, 960), Image dtype: uint8\n"
          ]
        },
        {
          "output_type": "stream",
          "name": "stderr",
          "text": [
            "<ipython-input-1-a2323bf97049> (209): /content/output/Muc1_Ecad_SPC_x20_2_XY10_00025_CH3_segmented_0.tif is a low contrast image\n",
            "<ipython-input-1-a2323bf97049> (211): /content/output/Muc1_Ecad_SPC_x20_2_XY10_00025_CH3_merged_0.tif is a low contrast image\n"
          ]
        },
        {
          "output_type": "stream",
          "name": "stdout",
          "text": [
            "Processing file: /content/output/grayscale_tiff/Muc1_Ecad_SPC_x20_2_XY10_00025_CH3_gray_1.tif\n",
            "Processing image from file /content/output/grayscale_tiff/Muc1_Ecad_SPC_x20_2_XY10_00025_CH3_gray_1.tif\n",
            "Image shape: (120, 160), Image dtype: uint8\n"
          ]
        },
        {
          "output_type": "stream",
          "name": "stderr",
          "text": [
            "<ipython-input-1-a2323bf97049> (209): /content/output/Muc1_Ecad_SPC_x20_2_XY10_00025_CH3_segmented_1.tif is a low contrast image\n",
            "<ipython-input-1-a2323bf97049> (211): /content/output/Muc1_Ecad_SPC_x20_2_XY10_00025_CH3_merged_1.tif is a low contrast image\n"
          ]
        },
        {
          "output_type": "stream",
          "name": "stdout",
          "text": [
            "Processing file: /content/output/upsampled_tiff/Muc1_Ecad_SPC_x20_2_XY10_00025_CH3_1_out.tif\n",
            "Processing image from file /content/output/upsampled_tiff/Muc1_Ecad_SPC_x20_2_XY10_00025_CH3_1_out.tif\n",
            "Image shape: (720, 960, 3), Image dtype: uint8\n"
          ]
        },
        {
          "output_type": "stream",
          "name": "stderr",
          "text": [
            "<ipython-input-1-a2323bf97049> (209): /content/output/Muc1_Ecad_SPC_x20_2_XY10_00025_CH3_segmented_2.tif is a low contrast image\n",
            "<ipython-input-1-a2323bf97049> (211): /content/output/Muc1_Ecad_SPC_x20_2_XY10_00025_CH3_merged_2.tif is a low contrast image\n"
          ]
        },
        {
          "output_type": "stream",
          "name": "stdout",
          "text": [
            "Processing file: /content/sample_data/mono/Muc1_Ecad_SPC_x20_2_XY10_00026_CH3.tif\n",
            "Processing image from file /content/sample_data/mono/Muc1_Ecad_SPC_x20_2_XY10_00026_CH3.tif\n",
            "Image shape: (720, 960), Image dtype: uint8\n"
          ]
        },
        {
          "output_type": "stream",
          "name": "stderr",
          "text": [
            "<ipython-input-1-a2323bf97049> (209): /content/output/Muc1_Ecad_SPC_x20_2_XY10_00026_CH3_segmented_0.tif is a low contrast image\n",
            "<ipython-input-1-a2323bf97049> (211): /content/output/Muc1_Ecad_SPC_x20_2_XY10_00026_CH3_merged_0.tif is a low contrast image\n",
            "WARNING:matplotlib.image:Clipping input data to the valid range for imshow with RGB data ([0..1] for floats or [0..255] for integers).\n"
          ]
        },
        {
          "output_type": "stream",
          "name": "stdout",
          "text": [
            "Processing file: /content/output/grayscale_tiff/Muc1_Ecad_SPC_x20_2_XY10_00026_CH3_gray_1.tif\n",
            "Processing image from file /content/output/grayscale_tiff/Muc1_Ecad_SPC_x20_2_XY10_00026_CH3_gray_1.tif\n",
            "Image shape: (120, 160), Image dtype: uint8\n"
          ]
        },
        {
          "output_type": "stream",
          "name": "stderr",
          "text": [
            "<ipython-input-1-a2323bf97049> (209): /content/output/Muc1_Ecad_SPC_x20_2_XY10_00026_CH3_segmented_1.tif is a low contrast image\n",
            "<ipython-input-1-a2323bf97049> (211): /content/output/Muc1_Ecad_SPC_x20_2_XY10_00026_CH3_merged_1.tif is a low contrast image\n"
          ]
        },
        {
          "output_type": "stream",
          "name": "stdout",
          "text": [
            "Processing file: /content/output/upsampled_tiff/Muc1_Ecad_SPC_x20_2_XY10_00026_CH3_1_out.tif\n",
            "Processing image from file /content/output/upsampled_tiff/Muc1_Ecad_SPC_x20_2_XY10_00026_CH3_1_out.tif\n",
            "Image shape: (720, 960, 3), Image dtype: uint8\n"
          ]
        },
        {
          "output_type": "stream",
          "name": "stderr",
          "text": [
            "<ipython-input-1-a2323bf97049> (209): /content/output/Muc1_Ecad_SPC_x20_2_XY10_00026_CH3_segmented_2.tif is a low contrast image\n",
            "<ipython-input-1-a2323bf97049> (211): /content/output/Muc1_Ecad_SPC_x20_2_XY10_00026_CH3_merged_2.tif is a low contrast image\n",
            "WARNING:matplotlib.image:Clipping input data to the valid range for imshow with RGB data ([0..1] for floats or [0..255] for integers).\n"
          ]
        },
        {
          "output_type": "stream",
          "name": "stdout",
          "text": [
            "Processing file: /content/sample_data/mono/Muc1_Ecad_SPC_x20_2_XY10_00027_CH3.tif\n",
            "Processing image from file /content/sample_data/mono/Muc1_Ecad_SPC_x20_2_XY10_00027_CH3.tif\n",
            "Image shape: (720, 960), Image dtype: uint8\n"
          ]
        },
        {
          "output_type": "stream",
          "name": "stderr",
          "text": [
            "<ipython-input-1-a2323bf97049> (209): /content/output/Muc1_Ecad_SPC_x20_2_XY10_00027_CH3_segmented_0.tif is a low contrast image\n",
            "<ipython-input-1-a2323bf97049> (211): /content/output/Muc1_Ecad_SPC_x20_2_XY10_00027_CH3_merged_0.tif is a low contrast image\n",
            "WARNING:matplotlib.image:Clipping input data to the valid range for imshow with RGB data ([0..1] for floats or [0..255] for integers).\n"
          ]
        },
        {
          "output_type": "stream",
          "name": "stdout",
          "text": [
            "Processing file: /content/output/grayscale_tiff/Muc1_Ecad_SPC_x20_2_XY10_00027_CH3_gray_1.tif\n",
            "Processing image from file /content/output/grayscale_tiff/Muc1_Ecad_SPC_x20_2_XY10_00027_CH3_gray_1.tif\n",
            "Image shape: (120, 160), Image dtype: uint8\n"
          ]
        },
        {
          "output_type": "stream",
          "name": "stderr",
          "text": [
            "<ipython-input-1-a2323bf97049> (209): /content/output/Muc1_Ecad_SPC_x20_2_XY10_00027_CH3_segmented_1.tif is a low contrast image\n",
            "<ipython-input-1-a2323bf97049> (211): /content/output/Muc1_Ecad_SPC_x20_2_XY10_00027_CH3_merged_1.tif is a low contrast image\n"
          ]
        },
        {
          "output_type": "stream",
          "name": "stdout",
          "text": [
            "Processing file: /content/output/upsampled_tiff/Muc1_Ecad_SPC_x20_2_XY10_00027_CH3_1_out.tif\n",
            "Processing image from file /content/output/upsampled_tiff/Muc1_Ecad_SPC_x20_2_XY10_00027_CH3_1_out.tif\n",
            "Image shape: (720, 960, 3), Image dtype: uint8\n"
          ]
        },
        {
          "output_type": "stream",
          "name": "stderr",
          "text": [
            "<ipython-input-1-a2323bf97049> (209): /content/output/Muc1_Ecad_SPC_x20_2_XY10_00027_CH3_segmented_2.tif is a low contrast image\n",
            "<ipython-input-1-a2323bf97049> (211): /content/output/Muc1_Ecad_SPC_x20_2_XY10_00027_CH3_merged_2.tif is a low contrast image\n",
            "WARNING:matplotlib.image:Clipping input data to the valid range for imshow with RGB data ([0..1] for floats or [0..255] for integers).\n"
          ]
        },
        {
          "output_type": "stream",
          "name": "stdout",
          "text": [
            "Processing file: /content/sample_data/mono/Muc1_Ecad_SPC_x20_2_XY10_00028_CH3.tif\n",
            "Processing image from file /content/sample_data/mono/Muc1_Ecad_SPC_x20_2_XY10_00028_CH3.tif\n",
            "Image shape: (720, 960), Image dtype: uint8\n"
          ]
        },
        {
          "output_type": "stream",
          "name": "stderr",
          "text": [
            "<ipython-input-1-a2323bf97049> (209): /content/output/Muc1_Ecad_SPC_x20_2_XY10_00028_CH3_segmented_0.tif is a low contrast image\n",
            "<ipython-input-1-a2323bf97049> (211): /content/output/Muc1_Ecad_SPC_x20_2_XY10_00028_CH3_merged_0.tif is a low contrast image\n",
            "WARNING:matplotlib.image:Clipping input data to the valid range for imshow with RGB data ([0..1] for floats or [0..255] for integers).\n"
          ]
        },
        {
          "output_type": "stream",
          "name": "stdout",
          "text": [
            "Processing file: /content/output/grayscale_tiff/Muc1_Ecad_SPC_x20_2_XY10_00028_CH3_gray_1.tif\n",
            "Processing image from file /content/output/grayscale_tiff/Muc1_Ecad_SPC_x20_2_XY10_00028_CH3_gray_1.tif\n",
            "Image shape: (120, 160), Image dtype: uint8\n"
          ]
        },
        {
          "output_type": "stream",
          "name": "stderr",
          "text": [
            "<ipython-input-1-a2323bf97049> (209): /content/output/Muc1_Ecad_SPC_x20_2_XY10_00028_CH3_segmented_1.tif is a low contrast image\n",
            "<ipython-input-1-a2323bf97049> (211): /content/output/Muc1_Ecad_SPC_x20_2_XY10_00028_CH3_merged_1.tif is a low contrast image\n"
          ]
        },
        {
          "output_type": "stream",
          "name": "stdout",
          "text": [
            "Processing file: /content/output/upsampled_tiff/Muc1_Ecad_SPC_x20_2_XY10_00028_CH3_1_out.tif\n",
            "Processing image from file /content/output/upsampled_tiff/Muc1_Ecad_SPC_x20_2_XY10_00028_CH3_1_out.tif\n",
            "Image shape: (720, 960, 3), Image dtype: uint8\n"
          ]
        },
        {
          "output_type": "stream",
          "name": "stderr",
          "text": [
            "<ipython-input-1-a2323bf97049> (209): /content/output/Muc1_Ecad_SPC_x20_2_XY10_00028_CH3_segmented_2.tif is a low contrast image\n",
            "<ipython-input-1-a2323bf97049> (211): /content/output/Muc1_Ecad_SPC_x20_2_XY10_00028_CH3_merged_2.tif is a low contrast image\n",
            "WARNING:matplotlib.image:Clipping input data to the valid range for imshow with RGB data ([0..1] for floats or [0..255] for integers).\n"
          ]
        },
        {
          "output_type": "stream",
          "name": "stdout",
          "text": [
            "Processing file: /content/sample_data/mono/Muc1_Ecad_SPC_x20_2_XY10_00029_CH3.tif\n",
            "Processing image from file /content/sample_data/mono/Muc1_Ecad_SPC_x20_2_XY10_00029_CH3.tif\n",
            "Image shape: (720, 960), Image dtype: uint8\n"
          ]
        },
        {
          "output_type": "stream",
          "name": "stderr",
          "text": [
            "<ipython-input-1-a2323bf97049> (209): /content/output/Muc1_Ecad_SPC_x20_2_XY10_00029_CH3_segmented_0.tif is a low contrast image\n",
            "<ipython-input-1-a2323bf97049> (211): /content/output/Muc1_Ecad_SPC_x20_2_XY10_00029_CH3_merged_0.tif is a low contrast image\n",
            "WARNING:matplotlib.image:Clipping input data to the valid range for imshow with RGB data ([0..1] for floats or [0..255] for integers).\n"
          ]
        },
        {
          "output_type": "stream",
          "name": "stdout",
          "text": [
            "Processing file: /content/output/grayscale_tiff/Muc1_Ecad_SPC_x20_2_XY10_00029_CH3_gray_1.tif\n",
            "Processing image from file /content/output/grayscale_tiff/Muc1_Ecad_SPC_x20_2_XY10_00029_CH3_gray_1.tif\n",
            "Image shape: (120, 160), Image dtype: uint8\n"
          ]
        },
        {
          "output_type": "stream",
          "name": "stderr",
          "text": [
            "<ipython-input-1-a2323bf97049> (209): /content/output/Muc1_Ecad_SPC_x20_2_XY10_00029_CH3_segmented_1.tif is a low contrast image\n",
            "<ipython-input-1-a2323bf97049> (211): /content/output/Muc1_Ecad_SPC_x20_2_XY10_00029_CH3_merged_1.tif is a low contrast image\n"
          ]
        },
        {
          "output_type": "stream",
          "name": "stdout",
          "text": [
            "Processing file: /content/output/upsampled_tiff/Muc1_Ecad_SPC_x20_2_XY10_00029_CH3_1_out.tif\n",
            "Processing image from file /content/output/upsampled_tiff/Muc1_Ecad_SPC_x20_2_XY10_00029_CH3_1_out.tif\n",
            "Image shape: (720, 960, 3), Image dtype: uint8\n"
          ]
        },
        {
          "output_type": "stream",
          "name": "stderr",
          "text": [
            "<ipython-input-1-a2323bf97049> (209): /content/output/Muc1_Ecad_SPC_x20_2_XY10_00029_CH3_segmented_2.tif is a low contrast image\n",
            "<ipython-input-1-a2323bf97049> (211): /content/output/Muc1_Ecad_SPC_x20_2_XY10_00029_CH3_merged_2.tif is a low contrast image\n",
            "WARNING:matplotlib.image:Clipping input data to the valid range for imshow with RGB data ([0..1] for floats or [0..255] for integers).\n"
          ]
        },
        {
          "output_type": "stream",
          "name": "stdout",
          "text": [
            "Processing file: /content/sample_data/mono/Muc1_Ecad_SPC_x20_2_XY10_00030_CH3.tif\n",
            "Processing image from file /content/sample_data/mono/Muc1_Ecad_SPC_x20_2_XY10_00030_CH3.tif\n",
            "Image shape: (720, 960), Image dtype: uint8\n"
          ]
        },
        {
          "output_type": "stream",
          "name": "stderr",
          "text": [
            "<ipython-input-1-a2323bf97049> (209): /content/output/Muc1_Ecad_SPC_x20_2_XY10_00030_CH3_segmented_0.tif is a low contrast image\n",
            "<ipython-input-1-a2323bf97049> (211): /content/output/Muc1_Ecad_SPC_x20_2_XY10_00030_CH3_merged_0.tif is a low contrast image\n",
            "WARNING:matplotlib.image:Clipping input data to the valid range for imshow with RGB data ([0..1] for floats or [0..255] for integers).\n"
          ]
        },
        {
          "output_type": "stream",
          "name": "stdout",
          "text": [
            "Processing file: /content/output/grayscale_tiff/Muc1_Ecad_SPC_x20_2_XY10_00030_CH3_gray_1.tif\n",
            "Processing image from file /content/output/grayscale_tiff/Muc1_Ecad_SPC_x20_2_XY10_00030_CH3_gray_1.tif\n",
            "Image shape: (120, 160), Image dtype: uint8\n"
          ]
        },
        {
          "output_type": "stream",
          "name": "stderr",
          "text": [
            "<ipython-input-1-a2323bf97049> (209): /content/output/Muc1_Ecad_SPC_x20_2_XY10_00030_CH3_segmented_1.tif is a low contrast image\n",
            "<ipython-input-1-a2323bf97049> (211): /content/output/Muc1_Ecad_SPC_x20_2_XY10_00030_CH3_merged_1.tif is a low contrast image\n"
          ]
        },
        {
          "output_type": "stream",
          "name": "stdout",
          "text": [
            "Processing file: /content/output/upsampled_tiff/Muc1_Ecad_SPC_x20_2_XY10_00030_CH3_1_out.tif\n",
            "Processing image from file /content/output/upsampled_tiff/Muc1_Ecad_SPC_x20_2_XY10_00030_CH3_1_out.tif\n",
            "Image shape: (720, 960, 3), Image dtype: uint8\n"
          ]
        },
        {
          "output_type": "stream",
          "name": "stderr",
          "text": [
            "<ipython-input-1-a2323bf97049> (209): /content/output/Muc1_Ecad_SPC_x20_2_XY10_00030_CH3_segmented_2.tif is a low contrast image\n",
            "<ipython-input-1-a2323bf97049> (211): /content/output/Muc1_Ecad_SPC_x20_2_XY10_00030_CH3_merged_2.tif is a low contrast image\n",
            "WARNING:matplotlib.image:Clipping input data to the valid range for imshow with RGB data ([0..1] for floats or [0..255] for integers).\n"
          ]
        },
        {
          "output_type": "stream",
          "name": "stdout",
          "text": [
            "Processing file: /content/sample_data/mono/Muc1_Ecad_SPC_x20_2_XY10_00031_CH3.tif\n",
            "Processing image from file /content/sample_data/mono/Muc1_Ecad_SPC_x20_2_XY10_00031_CH3.tif\n",
            "Image shape: (720, 960), Image dtype: uint8\n"
          ]
        },
        {
          "output_type": "stream",
          "name": "stderr",
          "text": [
            "<ipython-input-1-a2323bf97049> (209): /content/output/Muc1_Ecad_SPC_x20_2_XY10_00031_CH3_segmented_0.tif is a low contrast image\n",
            "<ipython-input-1-a2323bf97049> (211): /content/output/Muc1_Ecad_SPC_x20_2_XY10_00031_CH3_merged_0.tif is a low contrast image\n"
          ]
        },
        {
          "output_type": "stream",
          "name": "stdout",
          "text": [
            "Processing file: /content/output/grayscale_tiff/Muc1_Ecad_SPC_x20_2_XY10_00031_CH3_gray_1.tif\n",
            "Processing image from file /content/output/grayscale_tiff/Muc1_Ecad_SPC_x20_2_XY10_00031_CH3_gray_1.tif\n",
            "Image shape: (120, 160), Image dtype: uint8\n"
          ]
        },
        {
          "output_type": "stream",
          "name": "stderr",
          "text": [
            "<ipython-input-1-a2323bf97049> (209): /content/output/Muc1_Ecad_SPC_x20_2_XY10_00031_CH3_segmented_1.tif is a low contrast image\n",
            "<ipython-input-1-a2323bf97049> (211): /content/output/Muc1_Ecad_SPC_x20_2_XY10_00031_CH3_merged_1.tif is a low contrast image\n"
          ]
        },
        {
          "output_type": "stream",
          "name": "stdout",
          "text": [
            "Processing file: /content/output/upsampled_tiff/Muc1_Ecad_SPC_x20_2_XY10_00031_CH3_1_out.tif\n",
            "Processing image from file /content/output/upsampled_tiff/Muc1_Ecad_SPC_x20_2_XY10_00031_CH3_1_out.tif\n",
            "Image shape: (720, 960, 3), Image dtype: uint8\n"
          ]
        },
        {
          "output_type": "stream",
          "name": "stderr",
          "text": [
            "<ipython-input-1-a2323bf97049> (209): /content/output/Muc1_Ecad_SPC_x20_2_XY10_00031_CH3_segmented_2.tif is a low contrast image\n",
            "<ipython-input-1-a2323bf97049> (211): /content/output/Muc1_Ecad_SPC_x20_2_XY10_00031_CH3_merged_2.tif is a low contrast image\n"
          ]
        },
        {
          "output_type": "stream",
          "name": "stdout",
          "text": [
            "Processing file: /content/sample_data/mono/Muc1_Ecad_SPC_x20_2_XY10_00032_CH3.tif\n",
            "Processing image from file /content/sample_data/mono/Muc1_Ecad_SPC_x20_2_XY10_00032_CH3.tif\n",
            "Image shape: (720, 960), Image dtype: uint8\n"
          ]
        },
        {
          "output_type": "stream",
          "name": "stderr",
          "text": [
            "<ipython-input-1-a2323bf97049> (209): /content/output/Muc1_Ecad_SPC_x20_2_XY10_00032_CH3_segmented_0.tif is a low contrast image\n",
            "<ipython-input-1-a2323bf97049> (211): /content/output/Muc1_Ecad_SPC_x20_2_XY10_00032_CH3_merged_0.tif is a low contrast image\n",
            "WARNING:matplotlib.image:Clipping input data to the valid range for imshow with RGB data ([0..1] for floats or [0..255] for integers).\n"
          ]
        },
        {
          "output_type": "stream",
          "name": "stdout",
          "text": [
            "Processing file: /content/output/grayscale_tiff/Muc1_Ecad_SPC_x20_2_XY10_00032_CH3_gray_1.tif\n",
            "Processing image from file /content/output/grayscale_tiff/Muc1_Ecad_SPC_x20_2_XY10_00032_CH3_gray_1.tif\n",
            "Image shape: (120, 160), Image dtype: uint8\n"
          ]
        },
        {
          "output_type": "stream",
          "name": "stderr",
          "text": [
            "<ipython-input-1-a2323bf97049> (209): /content/output/Muc1_Ecad_SPC_x20_2_XY10_00032_CH3_segmented_1.tif is a low contrast image\n",
            "<ipython-input-1-a2323bf97049> (211): /content/output/Muc1_Ecad_SPC_x20_2_XY10_00032_CH3_merged_1.tif is a low contrast image\n"
          ]
        },
        {
          "output_type": "stream",
          "name": "stdout",
          "text": [
            "Processing file: /content/output/upsampled_tiff/Muc1_Ecad_SPC_x20_2_XY10_00032_CH3_1_out.tif\n",
            "Processing image from file /content/output/upsampled_tiff/Muc1_Ecad_SPC_x20_2_XY10_00032_CH3_1_out.tif\n",
            "Image shape: (720, 960, 3), Image dtype: uint8\n"
          ]
        },
        {
          "output_type": "stream",
          "name": "stderr",
          "text": [
            "<ipython-input-1-a2323bf97049> (209): /content/output/Muc1_Ecad_SPC_x20_2_XY10_00032_CH3_segmented_2.tif is a low contrast image\n",
            "<ipython-input-1-a2323bf97049> (211): /content/output/Muc1_Ecad_SPC_x20_2_XY10_00032_CH3_merged_2.tif is a low contrast image\n",
            "WARNING:matplotlib.image:Clipping input data to the valid range for imshow with RGB data ([0..1] for floats or [0..255] for integers).\n"
          ]
        },
        {
          "output_type": "stream",
          "name": "stdout",
          "text": [
            "Processing file: /content/sample_data/mono/Muc1_Ecad_SPC_x20_2_XY10_00033_CH3.tif\n",
            "Processing image from file /content/sample_data/mono/Muc1_Ecad_SPC_x20_2_XY10_00033_CH3.tif\n",
            "Image shape: (720, 960), Image dtype: uint8\n"
          ]
        },
        {
          "output_type": "stream",
          "name": "stderr",
          "text": [
            "<ipython-input-1-a2323bf97049> (209): /content/output/Muc1_Ecad_SPC_x20_2_XY10_00033_CH3_segmented_0.tif is a low contrast image\n",
            "<ipython-input-1-a2323bf97049> (211): /content/output/Muc1_Ecad_SPC_x20_2_XY10_00033_CH3_merged_0.tif is a low contrast image\n",
            "WARNING:matplotlib.image:Clipping input data to the valid range for imshow with RGB data ([0..1] for floats or [0..255] for integers).\n"
          ]
        },
        {
          "output_type": "stream",
          "name": "stdout",
          "text": [
            "Processing file: /content/output/grayscale_tiff/Muc1_Ecad_SPC_x20_2_XY10_00033_CH3_gray_1.tif\n",
            "Processing image from file /content/output/grayscale_tiff/Muc1_Ecad_SPC_x20_2_XY10_00033_CH3_gray_1.tif\n",
            "Image shape: (120, 160), Image dtype: uint8\n"
          ]
        },
        {
          "output_type": "stream",
          "name": "stderr",
          "text": [
            "<ipython-input-1-a2323bf97049> (209): /content/output/Muc1_Ecad_SPC_x20_2_XY10_00033_CH3_segmented_1.tif is a low contrast image\n",
            "<ipython-input-1-a2323bf97049> (211): /content/output/Muc1_Ecad_SPC_x20_2_XY10_00033_CH3_merged_1.tif is a low contrast image\n"
          ]
        },
        {
          "output_type": "stream",
          "name": "stdout",
          "text": [
            "Processing file: /content/output/upsampled_tiff/Muc1_Ecad_SPC_x20_2_XY10_00033_CH3_1_out.tif\n",
            "Processing image from file /content/output/upsampled_tiff/Muc1_Ecad_SPC_x20_2_XY10_00033_CH3_1_out.tif\n",
            "Image shape: (720, 960, 3), Image dtype: uint8\n"
          ]
        },
        {
          "output_type": "stream",
          "name": "stderr",
          "text": [
            "<ipython-input-1-a2323bf97049> (209): /content/output/Muc1_Ecad_SPC_x20_2_XY10_00033_CH3_segmented_2.tif is a low contrast image\n",
            "<ipython-input-1-a2323bf97049> (211): /content/output/Muc1_Ecad_SPC_x20_2_XY10_00033_CH3_merged_2.tif is a low contrast image\n",
            "WARNING:matplotlib.image:Clipping input data to the valid range for imshow with RGB data ([0..1] for floats or [0..255] for integers).\n"
          ]
        },
        {
          "output_type": "stream",
          "name": "stdout",
          "text": [
            "Processing file: /content/sample_data/mono/Muc1_Ecad_SPC_x20_2_XY10_00034_CH3.tif\n",
            "Processing image from file /content/sample_data/mono/Muc1_Ecad_SPC_x20_2_XY10_00034_CH3.tif\n",
            "Image shape: (720, 960), Image dtype: uint8\n"
          ]
        },
        {
          "output_type": "stream",
          "name": "stderr",
          "text": [
            "<ipython-input-1-a2323bf97049> (209): /content/output/Muc1_Ecad_SPC_x20_2_XY10_00034_CH3_segmented_0.tif is a low contrast image\n",
            "<ipython-input-1-a2323bf97049> (211): /content/output/Muc1_Ecad_SPC_x20_2_XY10_00034_CH3_merged_0.tif is a low contrast image\n",
            "WARNING:matplotlib.image:Clipping input data to the valid range for imshow with RGB data ([0..1] for floats or [0..255] for integers).\n"
          ]
        },
        {
          "output_type": "stream",
          "name": "stdout",
          "text": [
            "Processing file: /content/output/grayscale_tiff/Muc1_Ecad_SPC_x20_2_XY10_00034_CH3_gray_1.tif\n",
            "Processing image from file /content/output/grayscale_tiff/Muc1_Ecad_SPC_x20_2_XY10_00034_CH3_gray_1.tif\n",
            "Image shape: (120, 160), Image dtype: uint8\n"
          ]
        },
        {
          "output_type": "stream",
          "name": "stderr",
          "text": [
            "<ipython-input-1-a2323bf97049> (209): /content/output/Muc1_Ecad_SPC_x20_2_XY10_00034_CH3_segmented_1.tif is a low contrast image\n",
            "<ipython-input-1-a2323bf97049> (211): /content/output/Muc1_Ecad_SPC_x20_2_XY10_00034_CH3_merged_1.tif is a low contrast image\n"
          ]
        },
        {
          "output_type": "stream",
          "name": "stdout",
          "text": [
            "Processing file: /content/output/upsampled_tiff/Muc1_Ecad_SPC_x20_2_XY10_00034_CH3_1_out.tif\n",
            "Processing image from file /content/output/upsampled_tiff/Muc1_Ecad_SPC_x20_2_XY10_00034_CH3_1_out.tif\n",
            "Image shape: (720, 960, 3), Image dtype: uint8\n"
          ]
        },
        {
          "output_type": "stream",
          "name": "stderr",
          "text": [
            "<ipython-input-1-a2323bf97049> (209): /content/output/Muc1_Ecad_SPC_x20_2_XY10_00034_CH3_segmented_2.tif is a low contrast image\n",
            "<ipython-input-1-a2323bf97049> (211): /content/output/Muc1_Ecad_SPC_x20_2_XY10_00034_CH3_merged_2.tif is a low contrast image\n",
            "WARNING:matplotlib.image:Clipping input data to the valid range for imshow with RGB data ([0..1] for floats or [0..255] for integers).\n"
          ]
        },
        {
          "output_type": "stream",
          "name": "stdout",
          "text": [
            "Processing file: /content/sample_data/mono/Muc1_Ecad_SPC_x20_2_XY10_00035_CH3.tif\n",
            "Processing image from file /content/sample_data/mono/Muc1_Ecad_SPC_x20_2_XY10_00035_CH3.tif\n",
            "Image shape: (720, 960), Image dtype: uint8\n"
          ]
        },
        {
          "output_type": "stream",
          "name": "stderr",
          "text": [
            "<ipython-input-1-a2323bf97049> (209): /content/output/Muc1_Ecad_SPC_x20_2_XY10_00035_CH3_segmented_0.tif is a low contrast image\n",
            "<ipython-input-1-a2323bf97049> (211): /content/output/Muc1_Ecad_SPC_x20_2_XY10_00035_CH3_merged_0.tif is a low contrast image\n",
            "WARNING:matplotlib.image:Clipping input data to the valid range for imshow with RGB data ([0..1] for floats or [0..255] for integers).\n"
          ]
        },
        {
          "output_type": "stream",
          "name": "stdout",
          "text": [
            "Processing file: /content/output/grayscale_tiff/Muc1_Ecad_SPC_x20_2_XY10_00035_CH3_gray_1.tif\n",
            "Processing image from file /content/output/grayscale_tiff/Muc1_Ecad_SPC_x20_2_XY10_00035_CH3_gray_1.tif\n",
            "Image shape: (120, 160), Image dtype: uint8\n"
          ]
        },
        {
          "output_type": "stream",
          "name": "stderr",
          "text": [
            "<ipython-input-1-a2323bf97049> (209): /content/output/Muc1_Ecad_SPC_x20_2_XY10_00035_CH3_segmented_1.tif is a low contrast image\n",
            "<ipython-input-1-a2323bf97049> (211): /content/output/Muc1_Ecad_SPC_x20_2_XY10_00035_CH3_merged_1.tif is a low contrast image\n"
          ]
        },
        {
          "output_type": "stream",
          "name": "stdout",
          "text": [
            "Processing file: /content/output/upsampled_tiff/Muc1_Ecad_SPC_x20_2_XY10_00035_CH3_1_out.tif\n",
            "Processing image from file /content/output/upsampled_tiff/Muc1_Ecad_SPC_x20_2_XY10_00035_CH3_1_out.tif\n",
            "Image shape: (720, 960, 3), Image dtype: uint8\n"
          ]
        },
        {
          "output_type": "stream",
          "name": "stderr",
          "text": [
            "<ipython-input-1-a2323bf97049> (209): /content/output/Muc1_Ecad_SPC_x20_2_XY10_00035_CH3_segmented_2.tif is a low contrast image\n",
            "<ipython-input-1-a2323bf97049> (211): /content/output/Muc1_Ecad_SPC_x20_2_XY10_00035_CH3_merged_2.tif is a low contrast image\n"
          ]
        },
        {
          "output_type": "stream",
          "name": "stdout",
          "text": [
            "Processing file: /content/sample_data/mono/Muc1_Ecad_SPC_x20_2_XY10_00036_CH3.tif\n",
            "Processing image from file /content/sample_data/mono/Muc1_Ecad_SPC_x20_2_XY10_00036_CH3.tif\n",
            "Image shape: (720, 960), Image dtype: uint8\n"
          ]
        },
        {
          "output_type": "stream",
          "name": "stderr",
          "text": [
            "<ipython-input-1-a2323bf97049> (208): /content/output/Muc1_Ecad_SPC_x20_2_XY10_00036_CH3_original_0.tif is a low contrast image\n",
            "<ipython-input-1-a2323bf97049> (209): /content/output/Muc1_Ecad_SPC_x20_2_XY10_00036_CH3_segmented_0.tif is a low contrast image\n",
            "<ipython-input-1-a2323bf97049> (211): /content/output/Muc1_Ecad_SPC_x20_2_XY10_00036_CH3_merged_0.tif is a low contrast image\n"
          ]
        },
        {
          "output_type": "stream",
          "name": "stdout",
          "text": [
            "Processing file: /content/output/grayscale_tiff/Muc1_Ecad_SPC_x20_2_XY10_00036_CH3_gray_1.tif\n",
            "Processing image from file /content/output/grayscale_tiff/Muc1_Ecad_SPC_x20_2_XY10_00036_CH3_gray_1.tif\n",
            "Image shape: (120, 160), Image dtype: uint8\n"
          ]
        },
        {
          "output_type": "stream",
          "name": "stderr",
          "text": [
            "<ipython-input-1-a2323bf97049> (208): /content/output/Muc1_Ecad_SPC_x20_2_XY10_00036_CH3_original_1.tif is a low contrast image\n",
            "<ipython-input-1-a2323bf97049> (209): /content/output/Muc1_Ecad_SPC_x20_2_XY10_00036_CH3_segmented_1.tif is a low contrast image\n",
            "<ipython-input-1-a2323bf97049> (211): /content/output/Muc1_Ecad_SPC_x20_2_XY10_00036_CH3_merged_1.tif is a low contrast image\n"
          ]
        },
        {
          "output_type": "stream",
          "name": "stdout",
          "text": [
            "Processing file: /content/output/upsampled_tiff/Muc1_Ecad_SPC_x20_2_XY10_00036_CH3_1_out.tif\n",
            "Processing image from file /content/output/upsampled_tiff/Muc1_Ecad_SPC_x20_2_XY10_00036_CH3_1_out.tif\n",
            "Image shape: (720, 960, 3), Image dtype: uint8\n"
          ]
        },
        {
          "output_type": "stream",
          "name": "stderr",
          "text": [
            "<ipython-input-1-a2323bf97049> (208): /content/output/Muc1_Ecad_SPC_x20_2_XY10_00036_CH3_original_2.tif is a low contrast image\n",
            "<ipython-input-1-a2323bf97049> (209): /content/output/Muc1_Ecad_SPC_x20_2_XY10_00036_CH3_segmented_2.tif is a low contrast image\n",
            "<ipython-input-1-a2323bf97049> (211): /content/output/Muc1_Ecad_SPC_x20_2_XY10_00036_CH3_merged_2.tif is a low contrast image\n"
          ]
        },
        {
          "output_type": "stream",
          "name": "stdout",
          "text": [
            "Processing file: /content/sample_data/mono/Muc1_Ecad_SPC_x20_2_XY10_00037_CH3.tif\n",
            "Processing image from file /content/sample_data/mono/Muc1_Ecad_SPC_x20_2_XY10_00037_CH3.tif\n",
            "Image shape: (720, 960), Image dtype: uint8\n"
          ]
        },
        {
          "output_type": "stream",
          "name": "stderr",
          "text": [
            "<ipython-input-1-a2323bf97049> (208): /content/output/Muc1_Ecad_SPC_x20_2_XY10_00037_CH3_original_0.tif is a low contrast image\n",
            "<ipython-input-1-a2323bf97049> (209): /content/output/Muc1_Ecad_SPC_x20_2_XY10_00037_CH3_segmented_0.tif is a low contrast image\n",
            "<ipython-input-1-a2323bf97049> (211): /content/output/Muc1_Ecad_SPC_x20_2_XY10_00037_CH3_merged_0.tif is a low contrast image\n"
          ]
        },
        {
          "output_type": "stream",
          "name": "stdout",
          "text": [
            "Processing file: /content/output/grayscale_tiff/Muc1_Ecad_SPC_x20_2_XY10_00037_CH3_gray_1.tif\n",
            "Processing image from file /content/output/grayscale_tiff/Muc1_Ecad_SPC_x20_2_XY10_00037_CH3_gray_1.tif\n",
            "Image shape: (120, 160), Image dtype: uint8\n"
          ]
        },
        {
          "output_type": "stream",
          "name": "stderr",
          "text": [
            "<ipython-input-1-a2323bf97049> (208): /content/output/Muc1_Ecad_SPC_x20_2_XY10_00037_CH3_original_1.tif is a low contrast image\n",
            "<ipython-input-1-a2323bf97049> (209): /content/output/Muc1_Ecad_SPC_x20_2_XY10_00037_CH3_segmented_1.tif is a low contrast image\n",
            "<ipython-input-1-a2323bf97049> (211): /content/output/Muc1_Ecad_SPC_x20_2_XY10_00037_CH3_merged_1.tif is a low contrast image\n"
          ]
        },
        {
          "output_type": "stream",
          "name": "stdout",
          "text": [
            "Processing file: /content/output/upsampled_tiff/Muc1_Ecad_SPC_x20_2_XY10_00037_CH3_1_out.tif\n",
            "Processing image from file /content/output/upsampled_tiff/Muc1_Ecad_SPC_x20_2_XY10_00037_CH3_1_out.tif\n",
            "Image shape: (720, 960, 3), Image dtype: uint8\n"
          ]
        },
        {
          "output_type": "stream",
          "name": "stderr",
          "text": [
            "<ipython-input-1-a2323bf97049> (208): /content/output/Muc1_Ecad_SPC_x20_2_XY10_00037_CH3_original_2.tif is a low contrast image\n",
            "<ipython-input-1-a2323bf97049> (209): /content/output/Muc1_Ecad_SPC_x20_2_XY10_00037_CH3_segmented_2.tif is a low contrast image\n",
            "<ipython-input-1-a2323bf97049> (211): /content/output/Muc1_Ecad_SPC_x20_2_XY10_00037_CH3_merged_2.tif is a low contrast image\n"
          ]
        },
        {
          "output_type": "stream",
          "name": "stdout",
          "text": [
            "Processing file: /content/sample_data/mono/Muc1_Ecad_SPC_x20_2_XY10_00038_CH3.tif\n",
            "Processing image from file /content/sample_data/mono/Muc1_Ecad_SPC_x20_2_XY10_00038_CH3.tif\n",
            "Image shape: (720, 960), Image dtype: uint8\n"
          ]
        },
        {
          "output_type": "stream",
          "name": "stderr",
          "text": [
            "<ipython-input-1-a2323bf97049> (209): /content/output/Muc1_Ecad_SPC_x20_2_XY10_00038_CH3_segmented_0.tif is a low contrast image\n",
            "<ipython-input-1-a2323bf97049> (211): /content/output/Muc1_Ecad_SPC_x20_2_XY10_00038_CH3_merged_0.tif is a low contrast image\n"
          ]
        },
        {
          "output_type": "stream",
          "name": "stdout",
          "text": [
            "Processing file: /content/output/grayscale_tiff/Muc1_Ecad_SPC_x20_2_XY10_00038_CH3_gray_1.tif\n",
            "Processing image from file /content/output/grayscale_tiff/Muc1_Ecad_SPC_x20_2_XY10_00038_CH3_gray_1.tif\n",
            "Image shape: (120, 160), Image dtype: uint8\n"
          ]
        },
        {
          "output_type": "stream",
          "name": "stderr",
          "text": [
            "<ipython-input-1-a2323bf97049> (209): /content/output/Muc1_Ecad_SPC_x20_2_XY10_00038_CH3_segmented_1.tif is a low contrast image\n",
            "<ipython-input-1-a2323bf97049> (211): /content/output/Muc1_Ecad_SPC_x20_2_XY10_00038_CH3_merged_1.tif is a low contrast image\n"
          ]
        },
        {
          "output_type": "stream",
          "name": "stdout",
          "text": [
            "Processing file: /content/output/upsampled_tiff/Muc1_Ecad_SPC_x20_2_XY10_00038_CH3_1_out.tif\n",
            "Processing image from file /content/output/upsampled_tiff/Muc1_Ecad_SPC_x20_2_XY10_00038_CH3_1_out.tif\n",
            "Image shape: (720, 960, 3), Image dtype: uint8\n"
          ]
        },
        {
          "output_type": "stream",
          "name": "stderr",
          "text": [
            "<ipython-input-1-a2323bf97049> (209): /content/output/Muc1_Ecad_SPC_x20_2_XY10_00038_CH3_segmented_2.tif is a low contrast image\n",
            "<ipython-input-1-a2323bf97049> (211): /content/output/Muc1_Ecad_SPC_x20_2_XY10_00038_CH3_merged_2.tif is a low contrast image\n"
          ]
        },
        {
          "output_type": "stream",
          "name": "stdout",
          "text": [
            "Processing file: /content/sample_data/mono/Muc1_Ecad_SPC_x20_2_XY10_00039_CH3.tif\n",
            "Processing image from file /content/sample_data/mono/Muc1_Ecad_SPC_x20_2_XY10_00039_CH3.tif\n",
            "Image shape: (720, 960), Image dtype: uint8\n"
          ]
        },
        {
          "output_type": "stream",
          "name": "stderr",
          "text": [
            "<ipython-input-1-a2323bf97049> (209): /content/output/Muc1_Ecad_SPC_x20_2_XY10_00039_CH3_segmented_0.tif is a low contrast image\n",
            "<ipython-input-1-a2323bf97049> (211): /content/output/Muc1_Ecad_SPC_x20_2_XY10_00039_CH3_merged_0.tif is a low contrast image\n",
            "WARNING:matplotlib.image:Clipping input data to the valid range for imshow with RGB data ([0..1] for floats or [0..255] for integers).\n"
          ]
        },
        {
          "output_type": "stream",
          "name": "stdout",
          "text": [
            "Processing file: /content/output/grayscale_tiff/Muc1_Ecad_SPC_x20_2_XY10_00039_CH3_gray_1.tif\n",
            "Processing image from file /content/output/grayscale_tiff/Muc1_Ecad_SPC_x20_2_XY10_00039_CH3_gray_1.tif\n",
            "Image shape: (120, 160), Image dtype: uint8\n"
          ]
        },
        {
          "output_type": "stream",
          "name": "stderr",
          "text": [
            "<ipython-input-1-a2323bf97049> (209): /content/output/Muc1_Ecad_SPC_x20_2_XY10_00039_CH3_segmented_1.tif is a low contrast image\n",
            "<ipython-input-1-a2323bf97049> (211): /content/output/Muc1_Ecad_SPC_x20_2_XY10_00039_CH3_merged_1.tif is a low contrast image\n"
          ]
        },
        {
          "output_type": "stream",
          "name": "stdout",
          "text": [
            "Processing file: /content/output/upsampled_tiff/Muc1_Ecad_SPC_x20_2_XY10_00039_CH3_1_out.tif\n",
            "Processing image from file /content/output/upsampled_tiff/Muc1_Ecad_SPC_x20_2_XY10_00039_CH3_1_out.tif\n",
            "Image shape: (720, 960, 3), Image dtype: uint8\n"
          ]
        },
        {
          "output_type": "stream",
          "name": "stderr",
          "text": [
            "<ipython-input-1-a2323bf97049> (209): /content/output/Muc1_Ecad_SPC_x20_2_XY10_00039_CH3_segmented_2.tif is a low contrast image\n",
            "<ipython-input-1-a2323bf97049> (211): /content/output/Muc1_Ecad_SPC_x20_2_XY10_00039_CH3_merged_2.tif is a low contrast image\n",
            "WARNING:matplotlib.image:Clipping input data to the valid range for imshow with RGB data ([0..1] for floats or [0..255] for integers).\n"
          ]
        },
        {
          "output_type": "stream",
          "name": "stdout",
          "text": [
            "Processing file: /content/sample_data/mono/Muc1_Ecad_SPC_x20_2_XY10_00040_CH3.tif\n",
            "Processing image from file /content/sample_data/mono/Muc1_Ecad_SPC_x20_2_XY10_00040_CH3.tif\n",
            "Image shape: (720, 960), Image dtype: uint8\n"
          ]
        },
        {
          "output_type": "stream",
          "name": "stderr",
          "text": [
            "<ipython-input-1-a2323bf97049> (209): /content/output/Muc1_Ecad_SPC_x20_2_XY10_00040_CH3_segmented_0.tif is a low contrast image\n",
            "<ipython-input-1-a2323bf97049> (211): /content/output/Muc1_Ecad_SPC_x20_2_XY10_00040_CH3_merged_0.tif is a low contrast image\n",
            "WARNING:matplotlib.image:Clipping input data to the valid range for imshow with RGB data ([0..1] for floats or [0..255] for integers).\n"
          ]
        },
        {
          "output_type": "stream",
          "name": "stdout",
          "text": [
            "Processing file: /content/output/grayscale_tiff/Muc1_Ecad_SPC_x20_2_XY10_00040_CH3_gray_1.tif\n",
            "Processing image from file /content/output/grayscale_tiff/Muc1_Ecad_SPC_x20_2_XY10_00040_CH3_gray_1.tif\n",
            "Image shape: (120, 160), Image dtype: uint8\n"
          ]
        },
        {
          "output_type": "stream",
          "name": "stderr",
          "text": [
            "<ipython-input-1-a2323bf97049> (209): /content/output/Muc1_Ecad_SPC_x20_2_XY10_00040_CH3_segmented_1.tif is a low contrast image\n",
            "<ipython-input-1-a2323bf97049> (211): /content/output/Muc1_Ecad_SPC_x20_2_XY10_00040_CH3_merged_1.tif is a low contrast image\n"
          ]
        },
        {
          "output_type": "stream",
          "name": "stdout",
          "text": [
            "Processing file: /content/output/upsampled_tiff/Muc1_Ecad_SPC_x20_2_XY10_00040_CH3_1_out.tif\n",
            "Processing image from file /content/output/upsampled_tiff/Muc1_Ecad_SPC_x20_2_XY10_00040_CH3_1_out.tif\n",
            "Image shape: (720, 960, 3), Image dtype: uint8\n"
          ]
        },
        {
          "output_type": "stream",
          "name": "stderr",
          "text": [
            "<ipython-input-1-a2323bf97049> (209): /content/output/Muc1_Ecad_SPC_x20_2_XY10_00040_CH3_segmented_2.tif is a low contrast image\n",
            "<ipython-input-1-a2323bf97049> (211): /content/output/Muc1_Ecad_SPC_x20_2_XY10_00040_CH3_merged_2.tif is a low contrast image\n"
          ]
        },
        {
          "output_type": "stream",
          "name": "stdout",
          "text": [
            "Processing file: /content/sample_data/mono/Muc1_Ecad_SPC_x20_2_XY10_00041_CH3.tif\n",
            "Processing image from file /content/sample_data/mono/Muc1_Ecad_SPC_x20_2_XY10_00041_CH3.tif\n",
            "Image shape: (720, 960), Image dtype: uint8\n"
          ]
        },
        {
          "output_type": "stream",
          "name": "stderr",
          "text": [
            "<ipython-input-1-a2323bf97049> (209): /content/output/Muc1_Ecad_SPC_x20_2_XY10_00041_CH3_segmented_0.tif is a low contrast image\n",
            "<ipython-input-1-a2323bf97049> (211): /content/output/Muc1_Ecad_SPC_x20_2_XY10_00041_CH3_merged_0.tif is a low contrast image\n"
          ]
        },
        {
          "output_type": "stream",
          "name": "stdout",
          "text": [
            "Processing file: /content/output/grayscale_tiff/Muc1_Ecad_SPC_x20_2_XY10_00041_CH3_gray_1.tif\n",
            "Processing image from file /content/output/grayscale_tiff/Muc1_Ecad_SPC_x20_2_XY10_00041_CH3_gray_1.tif\n",
            "Image shape: (120, 160), Image dtype: uint8\n"
          ]
        },
        {
          "output_type": "stream",
          "name": "stderr",
          "text": [
            "<ipython-input-1-a2323bf97049> (209): /content/output/Muc1_Ecad_SPC_x20_2_XY10_00041_CH3_segmented_1.tif is a low contrast image\n",
            "<ipython-input-1-a2323bf97049> (211): /content/output/Muc1_Ecad_SPC_x20_2_XY10_00041_CH3_merged_1.tif is a low contrast image\n"
          ]
        },
        {
          "output_type": "stream",
          "name": "stdout",
          "text": [
            "Processing file: /content/output/upsampled_tiff/Muc1_Ecad_SPC_x20_2_XY10_00041_CH3_1_out.tif\n",
            "Processing image from file /content/output/upsampled_tiff/Muc1_Ecad_SPC_x20_2_XY10_00041_CH3_1_out.tif\n",
            "Image shape: (720, 960, 3), Image dtype: uint8\n"
          ]
        },
        {
          "output_type": "stream",
          "name": "stderr",
          "text": [
            "<ipython-input-1-a2323bf97049> (208): /content/output/Muc1_Ecad_SPC_x20_2_XY10_00041_CH3_original_2.tif is a low contrast image\n",
            "<ipython-input-1-a2323bf97049> (209): /content/output/Muc1_Ecad_SPC_x20_2_XY10_00041_CH3_segmented_2.tif is a low contrast image\n",
            "<ipython-input-1-a2323bf97049> (211): /content/output/Muc1_Ecad_SPC_x20_2_XY10_00041_CH3_merged_2.tif is a low contrast image\n"
          ]
        },
        {
          "output_type": "stream",
          "name": "stdout",
          "text": [
            "Processing file: /content/sample_data/mono/Muc1_Ecad_SPC_x20_2_XY10_00042_CH3.tif\n",
            "Processing image from file /content/sample_data/mono/Muc1_Ecad_SPC_x20_2_XY10_00042_CH3.tif\n",
            "Image shape: (720, 960), Image dtype: uint8\n"
          ]
        },
        {
          "output_type": "stream",
          "name": "stderr",
          "text": [
            "<ipython-input-1-a2323bf97049> (209): /content/output/Muc1_Ecad_SPC_x20_2_XY10_00042_CH3_segmented_0.tif is a low contrast image\n",
            "<ipython-input-1-a2323bf97049> (211): /content/output/Muc1_Ecad_SPC_x20_2_XY10_00042_CH3_merged_0.tif is a low contrast image\n"
          ]
        },
        {
          "output_type": "stream",
          "name": "stdout",
          "text": [
            "Processing file: /content/output/grayscale_tiff/Muc1_Ecad_SPC_x20_2_XY10_00042_CH3_gray_1.tif\n",
            "Processing image from file /content/output/grayscale_tiff/Muc1_Ecad_SPC_x20_2_XY10_00042_CH3_gray_1.tif\n",
            "Image shape: (120, 160), Image dtype: uint8\n"
          ]
        },
        {
          "output_type": "stream",
          "name": "stderr",
          "text": [
            "<ipython-input-1-a2323bf97049> (209): /content/output/Muc1_Ecad_SPC_x20_2_XY10_00042_CH3_segmented_1.tif is a low contrast image\n",
            "<ipython-input-1-a2323bf97049> (211): /content/output/Muc1_Ecad_SPC_x20_2_XY10_00042_CH3_merged_1.tif is a low contrast image\n"
          ]
        },
        {
          "output_type": "stream",
          "name": "stdout",
          "text": [
            "Processing file: /content/output/upsampled_tiff/Muc1_Ecad_SPC_x20_2_XY10_00042_CH3_1_out.tif\n",
            "Processing image from file /content/output/upsampled_tiff/Muc1_Ecad_SPC_x20_2_XY10_00042_CH3_1_out.tif\n",
            "Image shape: (720, 960, 3), Image dtype: uint8\n"
          ]
        },
        {
          "output_type": "stream",
          "name": "stderr",
          "text": [
            "<ipython-input-1-a2323bf97049> (208): /content/output/Muc1_Ecad_SPC_x20_2_XY10_00042_CH3_original_2.tif is a low contrast image\n",
            "<ipython-input-1-a2323bf97049> (209): /content/output/Muc1_Ecad_SPC_x20_2_XY10_00042_CH3_segmented_2.tif is a low contrast image\n",
            "<ipython-input-1-a2323bf97049> (211): /content/output/Muc1_Ecad_SPC_x20_2_XY10_00042_CH3_merged_2.tif is a low contrast image\n"
          ]
        },
        {
          "output_type": "stream",
          "name": "stdout",
          "text": [
            "PDF report saved to: /content/output/report.pdf\n"
          ]
        }
      ],
      "source": [
        "from google.colab import drive\n",
        "drive.mount('/content/drive')\n",
        "\n",
        "!pip install stardist csbdeep tensorflow tifffile imagecodecs reportlab\n",
        "\n",
        "# Clone Real-ESRGAN and enter the Real-ESRGAN directory\n",
        "!git clone https://github.com/xinntao/Real-ESRGAN.git\n",
        "%cd Real-ESRGAN\n",
        "\n",
        "# Set up the environment\n",
        "!pip install basicsr\n",
        "!pip install facexlib\n",
        "!pip install gfpgan\n",
        "!pip install -r requirements.txt\n",
        "!python setup.py develop\n",
        "\n",
        "# Modify degradations.py to fix the import error\n",
        "degradations_file_path = '/usr/local/lib/python3.10/dist-packages/basicsr/data/degradations.py'\n",
        "\n",
        "with open(degradations_file_path, 'r') as file:\n",
        "    file_data = file.read()\n",
        "\n",
        "# Replace the incorrect import statement\n",
        "file_data = file_data.replace('from torchvision.transforms.functional_tensor import rgb_to_grayscale',\n",
        "                              'from torchvision.transforms.functional import rgb_to_grayscale')\n",
        "\n",
        "# Write the modified data back to the file\n",
        "with open(degradations_file_path, 'w') as file:\n",
        "    file.write(file_data)\n",
        "\n",
        "import os\n",
        "import shutil\n",
        "import glob\n",
        "import zipfile\n",
        "import tifffile\n",
        "import numpy as np\n",
        "from stardist.models import StarDist2D\n",
        "from csbdeep.utils import normalize\n",
        "from skimage.io import imsave, imread\n",
        "import matplotlib.pyplot as plt\n",
        "from skimage.color import rgb2gray\n",
        "from skimage import exposure\n",
        "from matplotlib.backends.backend_pdf import PdfPages\n",
        "from PIL import Image\n",
        "\n",
        "# Function to check and adjust image contrast\n",
        "def adjust_contrast(image):\n",
        "    p2, p98 = np.percentile(image, (2, 98))\n",
        "    image = exposure.rescale_intensity(image, in_range=(p2, p98))\n",
        "    return image\n",
        "\n",
        "# Function to convert TIFF to PNG\n",
        "def tiff_to_png(image_files, png_folder):\n",
        "    if os.path.isdir(png_folder):\n",
        "        shutil.rmtree(png_folder)\n",
        "    os.mkdir(png_folder)\n",
        "\n",
        "    png_files = []\n",
        "    for tiff_file in image_files:\n",
        "        with tifffile.TiffFile(tiff_file) as tif:\n",
        "            images = [tif.asarray(series=i) for i in range(len(tif.series))]\n",
        "            for i, image in enumerate(images):\n",
        "                if image.ndim == 3 and image.shape[2] == 3:  # Check if the image is RGB\n",
        "                    png_path = os.path.join(png_folder, f\"{os.path.basename(tiff_file).split('.')[0]}_{i}.png\")\n",
        "                    Image.fromarray(image).save(png_path)\n",
        "                    png_files.append(png_path)\n",
        "    return png_files\n",
        "\n",
        "# Function to convert PNG back to TIFF\n",
        "def png_to_tiff(png_files, tiff_folder):\n",
        "    if os.path.isdir(tiff_folder):\n",
        "        shutil.rmtree(tiff_folder)\n",
        "    os.mkdir(tiff_folder)\n",
        "\n",
        "    tiff_files = []\n",
        "    for png_file in png_files:\n",
        "        image = imread(png_file)\n",
        "        tiff_path = os.path.join(tiff_folder, f\"{os.path.basename(png_file).split('.')[0]}.tif\")\n",
        "        imsave(tiff_path, image)\n",
        "        tiff_files.append(tiff_path)\n",
        "    return tiff_files\n",
        "\n",
        "# Function to upsample images using Real-ESRGAN\n",
        "def upsample_images(image_files, scale=6):\n",
        "    %cd /content/Real-ESRGAN\n",
        "    upload_folder = 'upload'\n",
        "    result_folder = 'results'\n",
        "    if os.path.isdir(upload_folder):\n",
        "        shutil.rmtree(upload_folder)\n",
        "    if os.path.isdir(result_folder):\n",
        "        shutil.rmtree(result_folder)\n",
        "    os.mkdir(upload_folder)\n",
        "    os.mkdir(result_folder)\n",
        "\n",
        "    for image_file in image_files:\n",
        "        shutil.copy(image_file, upload_folder)\n",
        "\n",
        "    # Run Real-ESRGAN\n",
        "    !python inference_realesrgan.py -n RealESRGAN_x4plus -i {upload_folder} --outscale {scale}\n",
        "\n",
        "    upsampled_files = sorted(glob.glob(os.path.join(result_folder, '*')))\n",
        "    return upsampled_files\n",
        "\n",
        "# Path to the downloaded data\n",
        "data_path = '/content/drive/My Drive/livetest/mono-20240525T044549Z-001.zip'\n",
        "extract_path = '/content/sample_data/'\n",
        "\n",
        "# Extract the zip file\n",
        "print(\"Extracting ZIP file...\")\n",
        "with zipfile.ZipFile(data_path, 'r') as zip_ref:\n",
        "    zip_ref.extractall(extract_path)\n",
        "print(\"Extraction completed.\")\n",
        "\n",
        "# Load pre-trained StarDist model\n",
        "print(\"Loading StarDist model...\")\n",
        "model = StarDist2D.from_pretrained('2D_versatile_fluo')\n",
        "print(\"Model loaded successfully.\")\n",
        "\n",
        "extract_path = '/content/sample_data/mono/'\n",
        "output_dir = '/content/output/'\n",
        "os.makedirs(output_dir, exist_ok=True)\n",
        "\n",
        "# Collect all RGB images\n",
        "rgb_image_files = []\n",
        "image_files = glob.glob(os.path.join(extract_path, '*.tif'))\n",
        "for image_file in image_files:\n",
        "    with tifffile.TiffFile(image_file) as tif:\n",
        "        images = [tif.asarray(series=i) for i in range(len(tif.series))]\n",
        "        for i, image in enumerate(images):\n",
        "            if image.ndim == 3 and image.shape[2] == 3:  # Check if the image is RGB\n",
        "                rgb_image_files.append(image_file)\n",
        "                break\n",
        "\n",
        "print(f\"Found {len(rgb_image_files)} RGB image files for upsampling.\")\n",
        "\n",
        "# Step 1: Convert original RGB TIF images to grayscale and save as TIF\n",
        "def convert_rgb_to_grayscale_tif(image_files, output_folder):\n",
        "    os.makedirs(output_folder, exist_ok=True)\n",
        "    grayscale_tiff_files = []\n",
        "    for image_file in image_files:\n",
        "        with tifffile.TiffFile(image_file) as tif:\n",
        "            images = [tif.asarray(series=i) for i in range(len(tif.series))]\n",
        "            for i, image in enumerate(images):\n",
        "                if image.ndim == 3 and image.shape[2] == 3:  # Check if the image is RGB\n",
        "                    gray_image = rgb2gray(image)\n",
        "                    gray_image = (gray_image * 255).astype(np.uint8)\n",
        "                    tiff_path = os.path.join(output_folder, f\"{os.path.basename(image_file).split('.')[0]}_gray_{i}.tif\")\n",
        "                    imsave(tiff_path, gray_image)\n",
        "                    grayscale_tiff_files.append(tiff_path)\n",
        "    return grayscale_tiff_files\n",
        "\n",
        "grayscale_tiff_folder = os.path.join(output_dir, 'grayscale_tiff')\n",
        "grayscale_tiff_files = convert_rgb_to_grayscale_tif(rgb_image_files, grayscale_tiff_folder)\n",
        "\n",
        "# Convert TIFF to PNG for upsampling\n",
        "png_folder = 'png_images'\n",
        "png_files = tiff_to_png(rgb_image_files, png_folder)\n",
        "\n",
        "# Upsample the PNG images\n",
        "upsampled_png_files = upsample_images(png_files)\n",
        "\n",
        "# Convert the upsampled PNG images back to TIFF\n",
        "upsampled_tiff_folder = os.path.join(output_dir, 'upsampled_tiff')\n",
        "upsampled_tiff_files = png_to_tiff(upsampled_png_files, upsampled_tiff_folder)\n",
        "\n",
        "# Sort all files to ensure the order is maintained\n",
        "rgb_image_files.sort()\n",
        "grayscale_tiff_files.sort()\n",
        "upsampled_tiff_files.sort()\n",
        "\n",
        "# Function to process images and save figures into a PDF\n",
        "def process_images(rgb_files, grayscale_files, upsampled_files, output_folder):\n",
        "    os.makedirs(output_folder, exist_ok=True)\n",
        "    pdf_path = os.path.join(output_folder, 'report.pdf')\n",
        "    with PdfPages(pdf_path) as pdf:\n",
        "        for i in range(len(rgb_files)):\n",
        "            try:\n",
        "                # Ensure each set of images are processed in order\n",
        "                rgb_image_file = rgb_files[i]\n",
        "                grayscale_image_file = grayscale_files[i]\n",
        "                upsampled_image_file = upsampled_files[i]\n",
        "\n",
        "                # Process and save images\n",
        "                image_files = [rgb_image_file, grayscale_image_file, upsampled_image_file]\n",
        "                base_name = os.path.basename(rgb_image_file).split('.')[0]  # Use original TIF filename as the base name\n",
        "                for j, image_file in enumerate(image_files):\n",
        "                    print(f\"Processing file: {image_file}\")\n",
        "                    with tifffile.TiffFile(image_file) as tif:\n",
        "                        image = tif.asarray(series=0)  # Only process the first series for each file\n",
        "\n",
        "                        # Print shape and type of image for debugging\n",
        "                        print(f\"Processing image from file {image_file}\")\n",
        "                        print(f\"Image shape: {image.shape}, Image dtype: {image.dtype}\")\n",
        "\n",
        "                        # Convert RGB images to grayscale if necessary\n",
        "                        if image.ndim == 3 and image.shape[2] == 3 and j != 1:  # Only convert for RGB images, not for grayscale\n",
        "                            image = rgb2gray(image)\n",
        "                            image = (image * 255).astype(np.uint8)\n",
        "\n",
        "                        # Adjust image contrast\n",
        "                        image = adjust_contrast(image).astype(np.uint8)\n",
        "\n",
        "                        # Normalize and segment the image\n",
        "                        img_norm = normalize(image, 1, 99.8, axis=(0, 1))\n",
        "                        labels, details = model.predict_instances(img_norm)\n",
        "\n",
        "                        # Save the images\n",
        "                        imsave(os.path.join(output_folder, f'{base_name}_original_{j}.tif'), image)\n",
        "                        imsave(os.path.join(output_folder, f'{base_name}_segmented_{j}.tif'), labels)\n",
        "                        merged_image = np.dstack((image, labels, np.zeros_like(image)))\n",
        "                        imsave(os.path.join(output_folder, f'{base_name}_merged_{j}.tif'), merged_image)\n",
        "\n",
        "                        # Create figure for the PDF\n",
        "                        fig, axes = plt.subplots(1, 3, figsize=(12, 4))\n",
        "                        axes[0].imshow(image, cmap='gray')\n",
        "                        axes[0].set_title('Original')\n",
        "                        axes[1].imshow(labels, cmap='magma')\n",
        "                        axes[1].set_title('Segmented')\n",
        "                        axes[2].imshow(merged_image)\n",
        "                        axes[2].set_title('Merged')\n",
        "\n",
        "                        # Annotate with the original TIF filename\n",
        "                        fig.suptitle(base_name, fontsize=10)\n",
        "\n",
        "                        # Adjust layout to avoid overlapping\n",
        "                        fig.tight_layout(rect=[0, 0, 1, 0.95])\n",
        "\n",
        "                        # Save the current figure into the PDF\n",
        "                        pdf.savefig(fig)\n",
        "                        plt.close(fig)  # Close the figure to free up memory\n",
        "\n",
        "                        # Clear variables to free up memory\n",
        "                        del image, labels, merged_image, img_norm\n",
        "\n",
        "            except Exception as e:\n",
        "                print(f\"Error processing image from file {image_file}: {e}\")\n",
        "\n",
        "    print(f\"PDF report saved to: {pdf_path}\")\n",
        "\n",
        "# Process images and generate PDF report in the correct order\n",
        "process_images(rgb_image_files, grayscale_tiff_files, upsampled_tiff_files, output_dir)\n"
      ]
    }
  ]
}